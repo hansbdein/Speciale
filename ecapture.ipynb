{
 "cells": [
  {
   "cell_type": "code",
   "execution_count": 5,
   "metadata": {},
   "outputs": [],
   "source": [
    "import pynucastro as pyna\n",
    "reaclib_library = pyna.ReacLibLibrary()\n",
    "\n",
    "all_nuclei = [\"li7\", \"be7\"]\n",
    "ecsn_library = reaclib_library.linking_nuclei(all_nuclei,with_reverse=True)"
   ]
  },
  {
   "cell_type": "code",
   "execution_count": 6,
   "metadata": {},
   "outputs": [
    {
     "name": "stdout",
     "output_type": "stream",
     "text": [
      "[O20 ⟶ F20 + e⁻ + 𝜈, F20 ⟶ Ne20 + e⁻ + 𝜈, F20 + e⁻ ⟶ O20 + 𝜈, Ne20 + e⁻ ⟶ F20 + 𝜈]\n"
     ]
    }
   ],
   "source": [
    "tabular_lib = pyna.TabularLibrary()\n",
    "ecsn_tabular = tabular_lib.linking_nuclei([\"li7\", \"be7\"])\n",
    "\n",
    "tr = ecsn_tabular.get_rates()\n",
    "print(tr)"
   ]
  }
 ],
 "metadata": {
  "kernelspec": {
   "display_name": "Python 3",
   "language": "python",
   "name": "python3"
  },
  "language_info": {
   "codemirror_mode": {
    "name": "ipython",
    "version": 3
   },
   "file_extension": ".py",
   "mimetype": "text/x-python",
   "name": "python",
   "nbconvert_exporter": "python",
   "pygments_lexer": "ipython3",
   "version": "3.10.6"
  }
 },
 "nbformat": 4,
 "nbformat_minor": 2
}
