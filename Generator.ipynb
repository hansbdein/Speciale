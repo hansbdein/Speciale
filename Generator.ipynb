{
 "cells": [
  {
   "cell_type": "code",
   "execution_count": 40,
   "metadata": {},
   "outputs": [],
   "source": [
    "import pynucastro as pyna\n",
    "reaclibrary = pyna.ReacLibLibrary()\n",
    "all_nuclei = [\"p\",\"n\", \"h2\", \"h3\", \"he3\", \"he4\",\"Li6\",\"Li7\",\"Be7\"]\n",
    "bbn_library = reaclibrary.linking_nuclei(all_nuclei)\n",
    "bbn_network = pyna.networks.PythonNetwork(libraries=bbn_library)\n"
   ]
  },
  {
   "cell_type": "code",
   "execution_count": 41,
   "metadata": {},
   "outputs": [],
   "source": [
    "p__n_string = '''\n",
    "b0 = -0.62173 \n",
    "b1 = 0.22211e2\n",
    "b2 = -0.72798e2\n",
    "b3 = 0.11571e3\n",
    "b4 = -0.11763e2\n",
    "b5 = 0.45521e2\n",
    "b6 = -3.7973 \n",
    "b7 = 0.41266 \n",
    "b8 = -0.026210\n",
    "b9 = 0.87934e-3\n",
    "b10 = -0.12016e-4\n",
    "qpn = 2.8602\n",
    "\n",
    "@numba.njit() \n",
    "def p__n(rate_eval, tf):  \n",
    "    # p --> n\n",
    "    z=5.92989658*tf.T9i\n",
    "    rate=0\n",
    "    #rate from https://arxiv.org/pdf/astro-ph/0408076.pdf appendix C\n",
    "    b=[b0,b1,b2,b3,b4,b5,b6,b7,b8,b9,b10]\n",
    "    if tf.T9>1.160451812:\n",
    "      for i in range(11):\n",
    "         rate+=1/880.2*np.exp(-qpn*z)*b[i]*z**-i \n",
    "        \n",
    "    #Kawano rate\n",
    "    #rate=1/879.6*(5.252/z - 16.229/z**2 + 18.059/z**3 + 34.181/z**4 + 27.617/z**5)*np.exp(-2.530988*z)\n",
    "    rate_eval.p__n = rate\n",
    "\n",
    "'''"
   ]
  },
  {
   "cell_type": "code",
   "execution_count": 42,
   "metadata": {},
   "outputs": [],
   "source": [
    "n__p_string = '''\n",
    "a0 = 0 #1 to include free decay\n",
    "a1 = 0.15735 \n",
    "a2 = 4.6172\n",
    "a3 = -0.40520e2 \n",
    "a4 = 0.13875e3 \n",
    "a5 = -0.59898e2\n",
    "a6 = 0.66752e2 \n",
    "a7 = -0.16705e2 \n",
    "a8 = 3.8071\n",
    "a9 = -0.39140 \n",
    "a10 = 0.023590 \n",
    "a11 = -0.83696e-4\n",
    "a12 = -0.42095e-4 \n",
    "a13 = 0.17675e-5\n",
    "qnp = 0.33979 \n",
    "\n",
    "@numba.njit()\n",
    "def n__p(rate_eval, tf):\n",
    "    # n --> p\n",
    "    z=5.92989658*tf.T9i\n",
    "    #rate from https://arxiv.org/pdf/astro-ph/0408076.pdf appendix C\n",
    "    rate=0\n",
    "    a=[a0,a1,a2,a3,a4,a5,a6,a7,a8,a9,a10,a11,a12,a13]\n",
    "    for i in range(14):\n",
    "      rate+=1/880.2*np.exp(-qnp/z)*a[i]*z**-i\n",
    "\n",
    "    #Kawano rate\n",
    "    #rate = 1/879.6*(0.565/z - 6.382/z**2 + 11.108/z**3 + 36.492/z**4 + 27.512/z**5)\n",
    "\n",
    "    rate_eval.n__p = rate\n",
    "\n",
    "'''"
   ]
  },
  {
   "cell_type": "code",
   "execution_count": 43,
   "metadata": {},
   "outputs": [],
   "source": [
    "class n__p_Rate(pyna.Rate):\n",
    "    def __init__(self, reactants=None, products=None,\n",
    "                 r0=1.0, T0=1.0, nu=0):\n",
    "\n",
    "        # we'll take the Q value just to be the change in binding energy\n",
    "        Q = 0\n",
    "        for n in reactants:\n",
    "            Q += -n.A * n.nucbind\n",
    "        for n in products:\n",
    "            Q += n.A * n.nucbind\n",
    "\n",
    "        # we set the chapter to custom so the network knows how to deal with it\n",
    "        self.chapter = \"custom\"\n",
    "    \n",
    "        # call the Rate init to do the remaining initialization\n",
    "        super().__init__(reactants=reactants, products=products, Q=Q)\n",
    "\n",
    "        self.r0 = r0\n",
    "        self.T0 = T0\n",
    "        self.nu = nu\n",
    "\n",
    "    def function_string_py(self):\n",
    "        \"\"\"return a string containing a python function that computes\n",
    "        the rate\"\"\"\n",
    "        return n__p_string\n",
    "\n",
    "    def eval(self, T, rhoY=None):\n",
    "        return self.r0 * (T / self.T0)**self.nu"
   ]
  },
  {
   "cell_type": "code",
   "execution_count": 44,
   "metadata": {},
   "outputs": [],
   "source": [
    "n__p = n__p_Rate(reactants=[pyna.Nucleus(\"n\")],\n",
    "                  products=[pyna.Nucleus(\"p\")],\n",
    "                  r0=1, T0=1, nu=1)"
   ]
  },
  {
   "cell_type": "code",
   "execution_count": 45,
   "metadata": {},
   "outputs": [],
   "source": [
    "class p__n_Rate(pyna.Rate):\n",
    "    def __init__(self, reactants=None, products=None,\n",
    "                 r0=1.0, T0=1.0, nu=0):\n",
    "\n",
    "        # we'll take the Q value just to be the change in binding energy\n",
    "        Q = 0\n",
    "        for n in reactants:\n",
    "            Q += -n.A * n.nucbind\n",
    "        for n in products:\n",
    "            Q += n.A * n.nucbind\n",
    "\n",
    "        # we set the chapter to custom so the network knows how to deal with it\n",
    "        self.chapter = \"custom\"\n",
    "    \n",
    "        # call the Rate init to do the remaining initialization\n",
    "        super().__init__(reactants=reactants, products=products, Q=Q)\n",
    "\n",
    "        self.r0 = r0\n",
    "        self.T0 = T0\n",
    "        self.nu = nu\n",
    "\n",
    "    def function_string_py(self):\n",
    "        \"\"\"return a string containing a python function that computes\n",
    "        the rate\"\"\"\n",
    "        return p__n_string\n",
    "\n",
    "    def eval(self, T, rhoY=None):\n",
    "        return self.r0 * (T / self.T0)**self.nu"
   ]
  },
  {
   "cell_type": "code",
   "execution_count": 46,
   "metadata": {},
   "outputs": [],
   "source": [
    "p__n = p__n_Rate(reactants=[pyna.Nucleus(\"p\")],\n",
    "                  products=[pyna.Nucleus(\"n\")],\n",
    "                  r0=1, T0=1, nu=1)"
   ]
  },
  {
   "cell_type": "code",
   "execution_count": 47,
   "metadata": {},
   "outputs": [],
   "source": [
    "p__n.fname='p__n'\n",
    "n__p.fname='n__p'\n",
    "#print(p__n.function_string_py())"
   ]
  },
  {
   "cell_type": "code",
   "execution_count": null,
   "metadata": {},
   "outputs": [],
   "source": []
  },
  {
   "cell_type": "code",
   "execution_count": 48,
   "metadata": {},
   "outputs": [],
   "source": [
    "bbn_library += pyna.Library(rates=[p__n,n__p])"
   ]
  },
  {
   "cell_type": "code",
   "execution_count": 49,
   "metadata": {},
   "outputs": [
    {
     "data": {
      "text/plain": [
       "n ⟶ p + e⁻ + 𝜈                 [Q =   0.00 MeV] (n --> p <generic>)\n",
       "n ⟶ p + e⁻ + 𝜈                 [Q =   0.78 MeV] (n --> p <wc12_reaclib_weak_>)\n",
       "p ⟶ n + e⁺ + 𝜈                 [Q =   0.00 MeV] (p --> n <generic>)\n",
       "n + p ⟶ H2 + 𝛾                 [Q =   2.22 MeV] (n + p --> d <an06_reaclib__>)\n",
       "n + p + p ⟶ p + H2             [Q =   2.23 MeV] (n + p + p --> p + d <cf88_reaclib__>)\n",
       "p + p + e⁻ ⟶ H2 + 𝜈            [Q =   1.44 MeV] (p + p --> d <ec_reaclib_weak_>)\n",
       "p + p ⟶ H2 + e⁺ + 𝜈            [Q =   1.44 MeV] (p + p --> d <bet+_reaclib_weak_>)\n",
       "H2 + n ⟶ H3 + 𝛾                [Q =   6.26 MeV] (d + n --> t <nk06_reaclib__>)\n",
       "H2 + p ⟶ He3 + 𝛾               [Q =   5.49 MeV] (d + p --> he3 <de04_reaclib__>)\n",
       "H2 + H2 ⟶ p + H3               [Q =   4.03 MeV] (d + d --> p + t <go17_reaclib__>)\n",
       "H2 + H2 ⟶ n + He3              [Q =   3.27 MeV] (d + d --> n + he3 <gi17_reaclib__>)\n",
       "H2 + H2 ⟶ He4 + 𝛾              [Q =  23.85 MeV] (d + d --> he4 <nacr_reaclib__>)\n",
       "H3 + p ⟶ He4 + 𝛾               [Q =  19.81 MeV] (t + p --> he4 <cf88_reaclib__>)\n",
       "H3 + H2 ⟶ n + He4              [Q =  17.59 MeV] (t + d --> n + he4 <de04_reaclib__>)\n",
       "H3 + H3 ⟶ n + n + He4          [Q =  11.33 MeV] (t + t --> n + n + he4 <cf88_reaclib__>)\n",
       "H3 ⟶ He3 + e⁻ + 𝜈              [Q =   0.02 MeV] (t --> he3 <wc12_reaclib_weak_>)\n",
       "He3 + n ⟶ p + H3               [Q =   0.76 MeV] (he3 + n --> p + t <de04_reaclib__>)\n",
       "He3 + n ⟶ He4 + 𝛾              [Q =  20.58 MeV] (he3 + n --> he4 <ka02_reaclib__>)\n",
       "He3 + p ⟶ He4 + e⁺ + 𝜈         [Q =  19.80 MeV] (he3 + p --> he4 <bet+_reaclib_weak_>)\n",
       "He3 + H2 ⟶ p + He4             [Q =  18.35 MeV] (he3 + d --> p + he4 <de04_reaclib__>)\n",
       "He3 + H3 ⟶ n + p + He4         [Q =  12.10 MeV] (he3 + t --> n + p + he4 <cf88_reaclib__>)\n",
       "He3 + H3 ⟶ H2 + He4            [Q =  14.32 MeV] (he3 + t --> d + he4 <cf88_reaclib__>)\n",
       "He3 + He3 ⟶ p + p + He4        [Q =  12.86 MeV] (he3 + he3 --> p + p + he4 <nacr_reaclib__>)\n",
       "n + p + He4 ⟶ Li6 + 𝛾          [Q =   3.70 MeV] (n + p + he4 --> li6 <cf88_reaclib__>)\n",
       "H2 + He4 ⟶ Li6 + 𝛾             [Q =   1.47 MeV] (d + he4 --> li6 <tu19_reaclib__>)\n",
       "H3 + He4 ⟶ Li7 + 𝛾             [Q =   2.47 MeV] (t + he4 --> li7 <de04_reaclib__>)\n",
       "He3 + He4 ⟶ Be7 + 𝛾            [Q =   1.59 MeV] (he3 + he4 --> be7 <cd08_reaclib__>)\n",
       "Li6 + n ⟶ He4 + H3             [Q =   4.78 MeV] (li6 + n --> he4 + t <cf88_reaclib__>)\n",
       "Li6 + n ⟶ Li7 + 𝛾              [Q =   7.25 MeV] (li6 + n --> li7 <jz10_reaclib__>)\n",
       "Li6 + p ⟶ He4 + He3            [Q =   4.02 MeV] (li6 + p --> he4 + he3 <pt05_reaclib__>)\n",
       "Li6 + p ⟶ Be7 + 𝛾              [Q =   5.61 MeV] (li6 + p --> be7 <nacr_reaclib__>)\n",
       "Li6 + H2 ⟶ p + Li7             [Q =   5.03 MeV] (li6 + d --> p + li7 <mafo_reaclib__>)\n",
       "Li6 + H2 ⟶ n + Be7             [Q =   3.38 MeV] (li6 + d --> n + be7 <mafo_reaclib__>)\n",
       "Li7 + p ⟶ He4 + He4            [Q =  17.35 MeV] (li7 + p --> he4 + he4 <de04_reaclib__>)\n",
       "Li7 + H2 ⟶ n + He4 + He4       [Q =  15.12 MeV] (li7 + d --> n + he4 + he4 <cf88_reaclib__>)\n",
       "Li7 + H3 ⟶ n + n + He4 + He4   [Q =   8.86 MeV] (li7 + t --> n + n + he4 + he4 <mafo_reaclib__>)\n",
       "Li7 + He3 ⟶ n + p + He4 + He4  [Q =   9.63 MeV] (li7 + he3 --> n + p + he4 + he4 <mafo_reaclib__>)\n",
       "Be7 + n ⟶ He4 + He4            [Q =  18.99 MeV] (be7 + n --> he4 + he4 <wag_reaclib__>)\n",
       "Be7 + n ⟶ p + Li7              [Q =   1.64 MeV] (be7 + n --> p + li7 <db18_reaclib__>)\n",
       "Be7 + H2 ⟶ p + He4 + He4       [Q =  16.77 MeV] (be7 + d --> p + he4 + he4 <cf88_reaclib__>)\n",
       "Be7 + H3 ⟶ n + p + He4 + He4   [Q =  10.51 MeV] (be7 + t --> n + p + he4 + he4 <mafo_reaclib__>)\n",
       "Be7 + He3 ⟶ p + p + He4 + He4  [Q =  11.27 MeV] (be7 + he3 --> p + p + he4 + he4 <mafo_reaclib__>)\n",
       "Be7 + e⁻ ⟶ Li7 + 𝜈             [Q =   0.86 MeV] (be7 --> li7 <ec_reaclib_weak_>)\n",
       "H2 + p ⟶ n + p + p             [Q =  -2.23 MeV] (d + p --> n + p + p <cf88_reaclib__reverse>)\n",
       "H2 ⟶ n + p                     [Q =  -2.22 MeV] (d --> n + p <an06_reaclib__reverse>)\n",
       "H3 + p ⟶ H2 + H2               [Q =  -4.03 MeV] (t + p --> d + d <go17_reaclib__reverse>)\n",
       "H3 + p ⟶ n + He3               [Q =  -0.76 MeV] (t + p --> n + he3 <de04_reaclib__reverse>)\n",
       "H3 ⟶ n + H2                    [Q =  -6.26 MeV] (t --> n + d <nk06_reaclib__reverse>)\n",
       "He3 + n ⟶ H2 + H2              [Q =  -3.27 MeV] (he3 + n --> d + d <gi17_reaclib__reverse>)\n",
       "He3 ⟶ p + H2                   [Q =  -5.49 MeV] (he3 --> p + d <de04_reaclib__reverse>)\n",
       "He3 + e⁻ ⟶ H3 + 𝜈              [Q =  -0.02 MeV] (he3 --> t <ec_reaclib_weak_>)\n",
       "n + n + He4 ⟶ H3 + H3          [Q = -11.33 MeV] (n + n + he4 --> t + t <cf88_reaclib__reverse>)\n",
       "n + He4 ⟶ H2 + H3              [Q = -17.59 MeV] (n + he4 --> d + t <de04_reaclib__reverse>)\n",
       "n + p + He4 ⟶ H3 + He3         [Q = -12.10 MeV] (n + p + he4 --> t + he3 <cf88_reaclib__reverse>)\n",
       "p + p + He4 ⟶ He3 + He3        [Q = -12.86 MeV] (p + p + he4 --> he3 + he3 <nacr_reaclib__reverse>)\n",
       "p + He4 ⟶ H2 + He3             [Q = -18.35 MeV] (p + he4 --> d + he3 <de04_reaclib__reverse>)\n",
       "H2 + He4 ⟶ H3 + He3            [Q = -14.32 MeV] (d + he4 --> t + he3 <cf88_reaclib__reverse>)\n",
       "H3 + He4 ⟶ n + Li6             [Q =  -4.78 MeV] (t + he4 --> n + li6 <cf88_reaclib__reverse>)\n",
       "He3 + He4 ⟶ p + Li6            [Q =  -4.02 MeV] (he3 + he4 --> p + li6 <pt05_reaclib__reverse>)\n",
       "n + n + He4 + He4 ⟶ H3 + Li7   [Q =  -8.86 MeV] (n + n + he4 + he4 --> t + li7 <mafo_reaclib__reverse>)\n",
       "n + He4 + He4 ⟶ H2 + Li7       [Q = -15.12 MeV] (n + he4 + he4 --> d + li7 <cf88_reaclib__reverse>)\n",
       "n + p + He4 + He4 ⟶ He3 + Li7  [Q =  -9.63 MeV] (n + p + he4 + he4 --> he3 + li7 <mafo_reaclib__reverse>)\n",
       "n + p + He4 + He4 ⟶ H3 + Be7   [Q = -10.51 MeV] (n + p + he4 + he4 --> t + be7 <mafo_reaclib__reverse>)\n",
       "p + p + He4 + He4 ⟶ He3 + Be7  [Q = -11.27 MeV] (p + p + he4 + he4 --> he3 + be7 <mafo_reaclib__reverse>)\n",
       "p + He4 + He4 ⟶ H2 + Be7       [Q = -16.77 MeV] (p + he4 + he4 --> d + be7 <cf88_reaclib__reverse>)\n",
       "He4 + He4 ⟶ p + Li7            [Q = -17.35 MeV] (he4 + he4 --> p + li7 <de04_reaclib__reverse>)\n",
       "He4 + He4 ⟶ n + Be7            [Q = -18.99 MeV] (he4 + he4 --> n + be7 <wag_reaclib__reverse>)\n",
       "He4 ⟶ H2 + H2                  [Q = -23.85 MeV] (he4 --> d + d <nacr_reaclib__reverse>)\n",
       "He4 ⟶ p + H3                   [Q = -19.81 MeV] (he4 --> p + t <cf88_reaclib__reverse>)\n",
       "He4 ⟶ n + He3                  [Q = -20.58 MeV] (he4 --> n + he3 <ka02_reaclib__reverse>)\n",
       "Li6 ⟶ n + p + He4              [Q =  -3.70 MeV] (li6 --> n + p + he4 <cf88_reaclib__reverse>)\n",
       "Li6 ⟶ He4 + H2                 [Q =  -1.47 MeV] (li6 --> he4 + d <tu19_reaclib__reverse>)\n",
       "Li7 + p ⟶ H2 + Li6             [Q =  -5.03 MeV] (li7 + p --> d + li6 <mafo_reaclib__reverse>)\n",
       "Li7 + p ⟶ n + Be7              [Q =  -1.64 MeV] (li7 + p --> n + be7 <db18_reaclib__reverse>)\n",
       "Li7 ⟶ He4 + H3                 [Q =  -2.47 MeV] (li7 --> he4 + t <de04_reaclib__reverse>)\n",
       "Li7 ⟶ n + Li6                  [Q =  -7.25 MeV] (li7 --> n + li6 <jz10_reaclib__reverse>)\n",
       "Be7 + n ⟶ H2 + Li6             [Q =  -3.38 MeV] (be7 + n --> d + li6 <mafo_reaclib__reverse>)\n",
       "Be7 ⟶ He4 + He3                [Q =  -1.59 MeV] (be7 --> he4 + he3 <cd08_reaclib__reverse>)\n",
       "Be7 ⟶ p + Li6                  [Q =  -5.61 MeV] (be7 --> p + li6 <nacr_reaclib__reverse>)"
      ]
     },
     "execution_count": 49,
     "metadata": {},
     "output_type": "execute_result"
    }
   ],
   "source": [
    "bbn_library"
   ]
  },
  {
   "cell_type": "code",
   "execution_count": 50,
   "metadata": {},
   "outputs": [],
   "source": [
    "bbn_network = pyna.networks.PythonNetwork(libraries=bbn_library)"
   ]
  },
  {
   "cell_type": "code",
   "execution_count": 51,
   "metadata": {},
   "outputs": [],
   "source": [
    "bbn_network.write_network(\"bbn2_test_integrate.py\")"
   ]
  }
 ],
 "metadata": {
  "kernelspec": {
   "display_name": "Python 3",
   "language": "python",
   "name": "python3"
  },
  "language_info": {
   "codemirror_mode": {
    "name": "ipython",
    "version": 3
   },
   "file_extension": ".py",
   "mimetype": "text/x-python",
   "name": "python",
   "nbconvert_exporter": "python",
   "pygments_lexer": "ipython3",
   "version": "3.10.6"
  },
  "orig_nbformat": 4
 },
 "nbformat": 4,
 "nbformat_minor": 2
}
