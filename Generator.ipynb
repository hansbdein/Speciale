{
 "cells": [
  {
   "cell_type": "code",
   "execution_count": 1,
   "metadata": {},
   "outputs": [],
   "source": [
    "import pynucastro as pyna\n",
    "reaclibrary = pyna.ReacLibLibrary()\n",
    "all_nuclei = [\"p\",\"n\", \"h2\", \"h3\", \"he3\", \"he4\",\"Li6\",\"Li7\",\"Be7\",\"Li8\"]#,\"B8\",\"Be9\",\"B10\",\"B11\",\"C11\",\"B12\",\"C12\",\"N12\",\"C13\",\"N13\",\"C14\",\"N14\",\"O14\",\"N15\",\"O15\",\"O16\"]\n",
    "bbn_library = reaclibrary.linking_nuclei(all_nuclei)\n",
    "bbn_network = pyna.networks.PythonNetwork(libraries=bbn_library)\n"
   ]
  },
  {
   "cell_type": "code",
   "execution_count": 2,
   "metadata": {},
   "outputs": [],
   "source": [
    "p__n_string = '''\n",
    "b0 = -0.62173 \n",
    "b1 = 0.22211e2\n",
    "b2 = -0.72798e2\n",
    "b3 = 0.11571e3\n",
    "b4 = -0.11763e2\n",
    "b5 = 0.45521e2\n",
    "b6 = -3.7973 \n",
    "b7 = 0.41266 \n",
    "b8 = -0.026210\n",
    "b9 = 0.87934e-3\n",
    "b10 = -0.12016e-4\n",
    "qpn = 2.8602\n",
    "\n",
    "@numba.njit() \n",
    "def p__n(rate_eval, tf):  \n",
    "    # p --> n\n",
    "    z=5.92989658*tf.T9i\n",
    "    rate=0\n",
    "    #rate from https://arxiv.org/pdf/astro-ph/0408076.pdf appendix C\n",
    "    b=[b0,b1,b2,b3,b4,b5,b6,b7,b8,b9,b10]\n",
    "    if tf.T9>1.160451812:\n",
    "      for i in range(11):\n",
    "         rate+=1/880.2*np.exp(-qpn*z)*b[i]*z**-i \n",
    "        \n",
    "    #Kawano rate\n",
    "    #rate=1/879.6*(5.252/z - 16.229/z**2 + 18.059/z**3 + 34.181/z**4 + 27.617/z**5)*np.exp(-2.530988*z)\n",
    "    rate_eval.p__n = rate\n",
    "\n",
    "'''"
   ]
  },
  {
   "cell_type": "code",
   "execution_count": 3,
   "metadata": {},
   "outputs": [],
   "source": [
    "n__p_string = '''\n",
    "a0 = 1 #0 to exclude free decay\n",
    "a1 = 0.15735 \n",
    "a2 = 4.6172\n",
    "a3 = -0.40520e2 \n",
    "a4 = 0.13875e3 \n",
    "a5 = -0.59898e2\n",
    "a6 = 0.66752e2 \n",
    "a7 = -0.16705e2 \n",
    "a8 = 3.8071\n",
    "a9 = -0.39140 \n",
    "a10 = 0.023590 \n",
    "a11 = -0.83696e-4\n",
    "a12 = -0.42095e-4 \n",
    "a13 = 0.17675e-5\n",
    "qnp = 0.33979 \n",
    "\n",
    "@numba.njit()\n",
    "def n__p(rate_eval, tf):\n",
    "    # n --> p\n",
    "    z=5.92989658*tf.T9i\n",
    "    #rate from https://arxiv.org/pdf/astro-ph/0408076.pdf appendix C\n",
    "    rate=0\n",
    "    a=[a0,a1,a2,a3,a4,a5,a6,a7,a8,a9,a10,a11,a12,a13]\n",
    "    for i in range(14):\n",
    "      rate+=1/880.2*np.exp(-qnp/z)*a[i]*z**-i\n",
    "\n",
    "    #Kawano rate\n",
    "    #rate = 1/879.6*(0.565/z - 6.382/z**2 + 11.108/z**3 + 36.492/z**4 + 27.512/z**5)\n",
    "\n",
    "    rate_eval.n__p = rate\n",
    "\n",
    "'''"
   ]
  },
  {
   "cell_type": "code",
   "execution_count": 4,
   "metadata": {},
   "outputs": [],
   "source": [
    "class n__p_Rate(pyna.Rate):\n",
    "    def __init__(self, reactants=None, products=None,\n",
    "                 r0=1.0, T0=1.0, nu=0):\n",
    "\n",
    "        # we'll take the Q value just to be the change in binding energy\n",
    "        Q = 0\n",
    "        for n in reactants:\n",
    "            Q += -n.A * n.nucbind\n",
    "        for n in products:\n",
    "            Q += n.A * n.nucbind\n",
    "\n",
    "        # we set the chapter to custom so the network knows how to deal with it\n",
    "        self.chapter = \"custom\"\n",
    "    \n",
    "        # call the Rate init to do the remaining initialization\n",
    "        super().__init__(reactants=reactants, products=products, Q=Q)\n",
    "\n",
    "        self.r0 = r0\n",
    "        self.T0 = T0\n",
    "        self.nu = nu\n",
    "\n",
    "    def function_string_py(self):\n",
    "        \"\"\"return a string containing a python function that computes\n",
    "        the rate\"\"\"\n",
    "        return n__p_string\n",
    "\n",
    "    def eval(self, T, rhoY=None):\n",
    "        return self.r0 * (T / self.T0)**self.nu"
   ]
  },
  {
   "cell_type": "code",
   "execution_count": 5,
   "metadata": {},
   "outputs": [],
   "source": [
    "n__p = n__p_Rate(reactants=[pyna.Nucleus(\"n\")],\n",
    "                  products=[pyna.Nucleus(\"p\")],\n",
    "                  r0=1, T0=1, nu=1)"
   ]
  },
  {
   "cell_type": "code",
   "execution_count": 6,
   "metadata": {},
   "outputs": [],
   "source": [
    "class p__n_Rate(pyna.Rate):\n",
    "    def __init__(self, reactants=None, products=None,\n",
    "                 r0=1.0, T0=1.0, nu=0):\n",
    "\n",
    "        # we'll take the Q value just to be the change in binding energy\n",
    "        Q = 0\n",
    "        for n in reactants:\n",
    "            Q += -n.A * n.nucbind\n",
    "        for n in products:\n",
    "            Q += n.A * n.nucbind\n",
    "\n",
    "        # we set the chapter to custom so the network knows how to deal with it\n",
    "        self.chapter = \"custom\"\n",
    "    \n",
    "        # call the Rate init to do the remaining initialization\n",
    "        super().__init__(reactants=reactants, products=products, Q=Q)\n",
    "\n",
    "        self.r0 = r0\n",
    "        self.T0 = T0\n",
    "        self.nu = nu\n",
    "\n",
    "    def function_string_py(self):\n",
    "        \"\"\"return a string containing a python function that computes\n",
    "        the rate\"\"\"\n",
    "        return p__n_string\n",
    "\n",
    "    def eval(self, T, rhoY=None):\n",
    "        return self.r0 * (T / self.T0)**self.nu"
   ]
  },
  {
   "cell_type": "code",
   "execution_count": 7,
   "metadata": {},
   "outputs": [],
   "source": [
    "p__n = p__n_Rate(reactants=[pyna.Nucleus(\"p\")],\n",
    "                  products=[pyna.Nucleus(\"n\")],\n",
    "                  r0=1, T0=1, nu=1)"
   ]
  },
  {
   "cell_type": "code",
   "execution_count": 8,
   "metadata": {},
   "outputs": [],
   "source": [
    "p__n.fname='p__n'\n",
    "n__p.fname='n__p'\n",
    "#print(p__n.function_string_py())"
   ]
  },
  {
   "cell_type": "code",
   "execution_count": 9,
   "metadata": {},
   "outputs": [],
   "source": [
    "bbn_network.validate(reaclibrary)"
   ]
  },
  {
   "cell_type": "code",
   "execution_count": null,
   "metadata": {},
   "outputs": [
    {
     "ename": "AttributeError",
     "evalue": "'Library' object has no attribute 'remove_rates'",
     "output_type": "error",
     "traceback": [
      "\u001b[0;31m---------------------------------------------------------------------------\u001b[0m",
      "\u001b[0;31mAttributeError\u001b[0m                            Traceback (most recent call last)",
      "Cell \u001b[0;32mIn[42], line 2\u001b[0m\n\u001b[1;32m      1\u001b[0m bbn_library \u001b[39m+\u001b[39m\u001b[39m=\u001b[39m pyna\u001b[39m.\u001b[39mLibrary(rates\u001b[39m=\u001b[39m[p__n,n__p])\n\u001b[0;32m----> 2\u001b[0m bbn_library\u001b[39m.\u001b[39;49mremove_rates(\u001b[39m'\u001b[39m\u001b[39mn__p__weak__wc12\u001b[39m\u001b[39m'\u001b[39m)\n",
      "\u001b[0;31mAttributeError\u001b[0m: 'Library' object has no attribute 'remove_rates'"
     ]
    }
   ],
   "source": [
    "bbn_library += pyna.Library(rates=[p__n,n__p])\n"
   ]
  },
  {
   "cell_type": "code",
   "execution_count": null,
   "metadata": {},
   "outputs": [],
   "source": [
    "bbn_network = pyna.networks.PythonNetwork(libraries=bbn_library)\n",
    "bbn_network.remove_rates('n__p__weak__wc12')"
   ]
  },
  {
   "cell_type": "code",
   "execution_count": null,
   "metadata": {},
   "outputs": [],
   "source": [
    "bbn_network.find_duplicate_links()"
   ]
  },
  {
   "cell_type": "code",
   "execution_count": null,
   "metadata": {},
   "outputs": [],
   "source": [
    "bbn_network.write_network(\"bbn2_test_integrate.py\")"
   ]
  },
  {
   "cell_type": "code",
   "execution_count": null,
   "metadata": {},
   "outputs": [
    {
     "ename": "AttributeError",
     "evalue": "'n__p_Rate' object has no attribute 'reverse'",
     "output_type": "error",
     "traceback": [
      "\u001b[0;31m---------------------------------------------------------------------------\u001b[0m",
      "\u001b[0;31mAttributeError\u001b[0m                            Traceback (most recent call last)",
      "Cell \u001b[0;32mIn[27], line 1\u001b[0m\n\u001b[0;32m----> 1\u001b[0m bbn_network\u001b[39m.\u001b[39;49mvalidate(reaclibrary)\n",
      "File \u001b[0;32m~/.local/lib/python3.10/site-packages/pynucastro/networks/rate_collection.py:908\u001b[0m, in \u001b[0;36mRateCollection.validate\u001b[0;34m(self, other_library, forward_only, ostream)\u001b[0m\n\u001b[1;32m    905\u001b[0m passed_validation \u001b[39m=\u001b[39m \u001b[39mTrue\u001b[39;00m\n\u001b[1;32m    907\u001b[0m \u001b[39mfor\u001b[39;00m rate \u001b[39min\u001b[39;00m current_rates:\n\u001b[0;32m--> 908\u001b[0m     \u001b[39mif\u001b[39;00m rate\u001b[39m.\u001b[39;49mreverse:\n\u001b[1;32m    909\u001b[0m         \u001b[39mcontinue\u001b[39;00m\n\u001b[1;32m    910\u001b[0m     \u001b[39mfor\u001b[39;00m p \u001b[39min\u001b[39;00m rate\u001b[39m.\u001b[39mproducts:\n",
      "\u001b[0;31mAttributeError\u001b[0m: 'n__p_Rate' object has no attribute 'reverse'"
     ]
    }
   ],
   "source": [
    "bbn_network.validate(reaclibrary)"
   ]
  }
 ],
 "metadata": {
  "kernelspec": {
   "display_name": "Python 3",
   "language": "python",
   "name": "python3"
  },
  "language_info": {
   "codemirror_mode": {
    "name": "ipython",
    "version": 3
   },
   "file_extension": ".py",
   "mimetype": "text/x-python",
   "name": "python",
   "nbconvert_exporter": "python",
   "pygments_lexer": "ipython3",
   "version": "3.10.6"
  },
  "orig_nbformat": 4
 },
 "nbformat": 4,
 "nbformat_minor": 2
}
