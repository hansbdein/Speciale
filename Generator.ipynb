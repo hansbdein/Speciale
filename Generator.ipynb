{
 "cells": [
  {
   "cell_type": "code",
   "execution_count": 23,
   "metadata": {},
   "outputs": [],
   "source": [
    "import pynucastro as pyna\n",
    "reaclibrary = pyna.ReacLibLibrary()\n",
    "all_nuclei = [\"p\",\"n\", \"h2\"]#, \"h3\", \"he3\", \"he4\",\"Li6\",\"Li7\",\"Be7\",\"Li8\",\"B8\",\"Be9\",\"B10\",\"B11\",\"C11\",\"B12\",\"C12\",\"N12\",\"C13\",\"N13\",\"C14\",\"N14\",\"O14\",\"N15\",\"O15\",\"O16\"]\n",
    "bbn_library = reaclibrary.linking_nuclei(all_nuclei)\n",
    "bbn_network = pyna.networks.PythonNetwork(libraries=bbn_library)\n"
   ]
  },
  {
   "cell_type": "code",
   "execution_count": 24,
   "metadata": {},
   "outputs": [],
   "source": [
    "p__n_string = '''\n",
    "b0 = -0.62173 \n",
    "b1 = 0.22211e2\n",
    "b2 = -0.72798e2\n",
    "b3 = 0.11571e3\n",
    "b4 = -0.11763e2\n",
    "b5 = 0.45521e2\n",
    "b6 = -3.7973 \n",
    "b7 = 0.41266 \n",
    "b8 = -0.026210\n",
    "b9 = 0.87934e-3\n",
    "b10 = -0.12016e-4\n",
    "qpn = 2.8602\n",
    "\n",
    "@numba.njit() \n",
    "def p__n(rate_eval, tf):  \n",
    "    # p --> n\n",
    "    z=5.92989658*tf.T9i\n",
    "    rate=0\n",
    "    #rate from https://arxiv.org/pdf/astro-ph/0408076.pdf appendix C\n",
    "    b=[b0,b1,b2,b3,b4,b5,b6,b7,b8,b9,b10]\n",
    "    if tf.T9>1.160451812:\n",
    "      for i in range(11):\n",
    "         rate+=1/880.2*np.exp(-qpn*z)*b[i]*z**-i \n",
    "        \n",
    "    #Kawano rate\n",
    "    #rate=1/879.6*(5.252/z - 16.229/z**2 + 18.059/z**3 + 34.181/z**4 + 27.617/z**5)*np.exp(-2.530988*z)\n",
    "    rate_eval.p__n = rate\n",
    "\n",
    "'''"
   ]
  },
  {
   "cell_type": "code",
   "execution_count": 25,
   "metadata": {},
   "outputs": [],
   "source": [
    "n__p_string = '''\n",
    "a0 = 1\n",
    "a1 = 0.15735 \n",
    "a2 = 4.6172\n",
    "a3 = -0.40520e2 \n",
    "a4 = 0.13875e3 \n",
    "a5 = -0.59898e2\n",
    "a6 = 0.66752e2 \n",
    "a7 = -0.16705e2 \n",
    "a8 = 3.8071\n",
    "a9 = -0.39140 \n",
    "a10 = 0.023590 \n",
    "a11 = -0.83696e-4\n",
    "a12 = -0.42095e-4 \n",
    "a13 = 0.17675e-5\n",
    "qnp = 0.33979 \n",
    "\n",
    "@numba.njit()\n",
    "def n__p(rate_eval, tf):\n",
    "    # n --> p\n",
    "    z=5.92989658*tf.T9i\n",
    "    #rate from https://arxiv.org/pdf/astro-ph/0408076.pdf appendix C\n",
    "    rate=0\n",
    "    a=[a0,a1,a2,a3,a4,a5,a6,a7,a8,a9,a10,a11,a12,a13]\n",
    "    for i in range(14):\n",
    "      rate+=1/880.2*np.exp(-qnp/z)*a[i]*z**-i\n",
    "\n",
    "    #Kawano rate\n",
    "    #rate = 1/879.6*(0.565/z - 6.382/z**2 + 11.108/z**3 + 36.492/z**4 + 27.512/z**5)\n",
    "\n",
    "    rate_eval.n__p = rate\n",
    "\n",
    "'''"
   ]
  },
  {
   "cell_type": "code",
   "execution_count": 26,
   "metadata": {},
   "outputs": [],
   "source": [
    "class n__p_Rate(pyna.Rate):\n",
    "    def __init__(self, reactants=None, products=None,\n",
    "                 r0=1.0, T0=1.0, nu=0):\n",
    "\n",
    "        # we'll take the Q value just to be the change in binding energy\n",
    "        Q = 0\n",
    "        for n in reactants:\n",
    "            Q += -n.A * n.nucbind\n",
    "        for n in products:\n",
    "            Q += n.A * n.nucbind\n",
    "\n",
    "        # we set the chapter to custom so the network knows how to deal with it\n",
    "        self.chapter = \"custom\"\n",
    "        self.reverse = None\n",
    "    \n",
    "        # call the Rate init to do the remaining initialization\n",
    "        super().__init__(reactants=reactants, products=products, Q=Q)\n",
    "\n",
    "        self.r0 = r0\n",
    "        self.T0 = T0\n",
    "        self.nu = nu\n",
    "\n",
    "    def function_string_py(self):\n",
    "        \"\"\"return a string containing a python function that computes\n",
    "        the rate\"\"\"\n",
    "        return n__p_string\n",
    "\n",
    "    def eval(self, T, rhoY=None):\n",
    "        return self.r0 * (T / self.T0)**self.nu"
   ]
  },
  {
   "cell_type": "code",
   "execution_count": 27,
   "metadata": {},
   "outputs": [],
   "source": [
    "n__p = n__p_Rate(reactants=[pyna.Nucleus(\"n\")],\n",
    "                  products=[pyna.Nucleus(\"p\")],\n",
    "                  r0=1, T0=1, nu=1)"
   ]
  },
  {
   "cell_type": "code",
   "execution_count": 28,
   "metadata": {},
   "outputs": [],
   "source": [
    "class p__n_Rate(pyna.Rate):\n",
    "    def __init__(self, reactants=None, products=None,\n",
    "                 r0=1.0, T0=1.0, nu=0):\n",
    "\n",
    "        # we'll take the Q value just to be the change in binding energy\n",
    "        Q = 0\n",
    "        for n in reactants:\n",
    "            Q += -n.A * n.nucbind\n",
    "        for n in products:\n",
    "            Q += n.A * n.nucbind\n",
    "\n",
    "        # we set the chapter to custom so the network knows how to deal with it\n",
    "        self.chapter = \"custom\"\n",
    "\n",
    "        self.reverse = None\n",
    "    \n",
    "        # call the Rate init to do the remaining initialization\n",
    "        super().__init__(reactants=reactants, products=products, Q=Q)\n",
    "\n",
    "        self.r0 = r0\n",
    "        self.T0 = T0\n",
    "        self.nu = nu\n",
    "\n",
    "    def function_string_py(self):\n",
    "        \"\"\"return a string containing a python function that computes\n",
    "        the rate\"\"\"\n",
    "        return p__n_string\n",
    "\n",
    "    def eval(self, T, rhoY=None):\n",
    "        return self.r0 * (T / self.T0)**self.nu"
   ]
  },
  {
   "cell_type": "code",
   "execution_count": 29,
   "metadata": {},
   "outputs": [],
   "source": [
    "p__n = p__n_Rate(reactants=[pyna.Nucleus(\"p\")],\n",
    "                  products=[pyna.Nucleus(\"n\")],\n",
    "                  r0=1, T0=1, nu=1)"
   ]
  },
  {
   "cell_type": "code",
   "execution_count": 30,
   "metadata": {},
   "outputs": [],
   "source": [
    "p__n.fname='p__n'\n",
    "n__p.fname='n__p'\n",
    "#print(p__n.function_string_py())"
   ]
  },
  {
   "cell_type": "code",
   "execution_count": 31,
   "metadata": {},
   "outputs": [
    {
     "name": "stdout",
     "output_type": "stream",
     "text": [
      "validation: d produced in n + p ⟶ H2 + 𝛾 never consumed.\n",
      "validation: d produced in n + p + p ⟶ p + H2 never consumed.\n",
      "validation: d produced in p + p + e⁻ ⟶ H2 + 𝜈 never consumed.\n",
      "validation: d produced in p + p ⟶ H2 + e⁺ + 𝜈 never consumed.\n"
     ]
    },
    {
     "data": {
      "text/plain": [
       "False"
      ]
     },
     "execution_count": 31,
     "metadata": {},
     "output_type": "execute_result"
    }
   ],
   "source": [
    "bbn_network.validate(reaclibrary)"
   ]
  },
  {
   "cell_type": "code",
   "execution_count": 32,
   "metadata": {},
   "outputs": [],
   "source": [
    "class RatePair:\n",
    "    \"\"\"the forward and reverse rates for a single reaction sequence.\n",
    "    Forward rates are those with Q >= 0.\n",
    "\n",
    "    :var forward: the forward reaction Rate object\n",
    "    :var reverse: the reverse reaction Rate object\n",
    "\n",
    "    \"\"\"\n",
    "\n",
    "    def __init__(self, forward=None, reverse=None):\n",
    "        self.forward = forward\n",
    "        self.reverse = reverse\n",
    "\n",
    "    def __repr__(self):\n",
    "        return f\"forward: {self.forward} ; reverse: {self.reverse}\"\n",
    "\n",
    "    def __lt__(self, other):\n",
    "        if self.forward is not None and other.forward is not None:\n",
    "            return self.forward < other.forward\n",
    "        if self.forward is None:\n",
    "            return False\n",
    "        return True\n",
    "\n",
    "    def __eq__(self, other):\n",
    "        return self.forward == other.forward and self.reverse == other.reverse\n"
   ]
  },
  {
   "cell_type": "code",
   "execution_count": 33,
   "metadata": {},
   "outputs": [],
   "source": [
    "bothrates=RatePair(p__n,n__p)"
   ]
  },
  {
   "cell_type": "code",
   "execution_count": 34,
   "metadata": {},
   "outputs": [
    {
     "data": {
      "text/plain": [
       "forward: p ⟶ n + e⁺ + 𝜈 ; reverse: n ⟶ p + e⁻ + 𝜈"
      ]
     },
     "execution_count": 34,
     "metadata": {},
     "output_type": "execute_result"
    }
   ],
   "source": [
    "bothrates"
   ]
  },
  {
   "cell_type": "code",
   "execution_count": 35,
   "metadata": {},
   "outputs": [],
   "source": [
    "bbn_library += pyna.Library(rates=[p__n,n__p])\n",
    "bbn_library.remove_rate(bbn_library.get_rate('n__p__weak__wc12'))"
   ]
  },
  {
   "cell_type": "code",
   "execution_count": 36,
   "metadata": {},
   "outputs": [],
   "source": [
    "bbn_network = pyna.networks.PythonNetwork(libraries=bbn_library)"
   ]
  },
  {
   "cell_type": "code",
   "execution_count": 37,
   "metadata": {},
   "outputs": [
    {
     "data": {
      "text/plain": [
       "[[p + p ⟶ H2 + e⁺ + 𝜈, p + p + e⁻ ⟶ H2 + 𝜈]]"
      ]
     },
     "execution_count": 37,
     "metadata": {},
     "output_type": "execute_result"
    }
   ],
   "source": [
    "bbn_network.find_duplicate_links()"
   ]
  },
  {
   "cell_type": "code",
   "execution_count": 38,
   "metadata": {},
   "outputs": [
    {
     "name": "stderr",
     "output_type": "stream",
     "text": [
      "/home/hansbdein/Speciale/H2_net.py:372: NumbaPendingDeprecationWarning: The 'pycc' module is pending deprecation. Replacement technology is being developed.\n",
      "\n",
      "Pending Deprecation in Numba 0.57.0. For more information please see: https://numba.readthedocs.io/en/stable/reference/deprecation.html#deprecation-of-the-numba-pycc-module\n",
      "  from numba.pycc import CC\n"
     ]
    }
   ],
   "source": [
    "networkname='H2_net.py'\n",
    "bbn_network.write_network(networkname)\n",
    "\n",
    "file=open(networkname, 'a')\n",
    "file.write('''\n",
    "#For AoT compilation of the network\n",
    "def AoT(networkname):\n",
    "   from numba.pycc import CC\n",
    "\n",
    "   cc = CC(networkname)\n",
    "   # Uncomment the following line to print out the compilation steps\n",
    "   #cc.verbose = True\n",
    "\n",
    "   #\n",
    "   @cc.export('nnuc','i4()')\n",
    "   def nNuc():\n",
    "      return nnuc\n",
    "\n",
    "   @cc.export('rhs', 'f8[:](f8, f8[:], f8, f8)')\n",
    "   def rhsCC(t, Y, rho, T):\n",
    "      return rhs_eq(t, Y, rho, T, None)\n",
    "\n",
    "   @cc.export('jacobian', '(f8, f8[:], f8, f8)')\n",
    "   def jacobian(t, Y, rho, T):\n",
    "      return jacobian_eq(t, Y, rho, T, None)\n",
    "\n",
    "\n",
    "   cc.compile()\n",
    "''') # Write some text\n",
    "file.close() # Close the file\n",
    "\n",
    "\n",
    "import H2_net as H2_n\n",
    "H2_n.AoT('H2_AoT_net')\n"
   ]
  },
  {
   "cell_type": "code",
   "execution_count": null,
   "metadata": {},
   "outputs": [],
   "source": []
  },
  {
   "cell_type": "code",
   "execution_count": 39,
   "metadata": {},
   "outputs": [
    {
     "name": "stdout",
     "output_type": "stream",
     "text": [
      "validation: d produced in n + p ⟶ H2 + 𝛾 never consumed.\n",
      "validation: d produced in n + p + p ⟶ p + H2 never consumed.\n",
      "validation: d produced in p + p + e⁻ ⟶ H2 + 𝜈 never consumed.\n",
      "validation: d produced in p + p ⟶ H2 + e⁺ + 𝜈 never consumed.\n"
     ]
    },
    {
     "data": {
      "text/plain": [
       "False"
      ]
     },
     "execution_count": 39,
     "metadata": {},
     "output_type": "execute_result"
    }
   ],
   "source": [
    "bbn_network.validate(reaclibrary)"
   ]
  },
  {
   "cell_type": "code",
   "execution_count": 40,
   "metadata": {},
   "outputs": [
    {
     "name": "stdout",
     "output_type": "stream",
     "text": [
      "n\n",
      "  consumed by:\n",
      "     n + p ⟶ H2 + 𝛾\n",
      "     n + p + p ⟶ p + H2\n",
      "     n ⟶ p + e⁻ + 𝜈\n",
      "  produced by:\n",
      "     H2 ⟶ n + p\n",
      "     H2 + p ⟶ n + p + p\n",
      "     p ⟶ n + e⁺ + 𝜈\n",
      "\n",
      "p\n",
      "  consumed by:\n",
      "     n + p ⟶ H2 + 𝛾\n",
      "     p + p ⟶ H2 + e⁺ + 𝜈\n",
      "     p + p + e⁻ ⟶ H2 + 𝜈\n",
      "     H2 + p ⟶ n + p + p\n",
      "     n + p + p ⟶ p + H2\n",
      "     p ⟶ n + e⁺ + 𝜈\n",
      "  produced by:\n",
      "     H2 ⟶ n + p\n",
      "     H2 + p ⟶ n + p + p\n",
      "     n + p + p ⟶ p + H2\n",
      "     n ⟶ p + e⁻ + 𝜈\n",
      "\n",
      "d\n",
      "  consumed by:\n",
      "     H2 ⟶ n + p\n",
      "     H2 + p ⟶ n + p + p\n",
      "  produced by:\n",
      "     n + p ⟶ H2 + 𝛾\n",
      "     p + p ⟶ H2 + e⁺ + 𝜈\n",
      "     p + p + e⁻ ⟶ H2 + 𝜈\n",
      "     n + p + p ⟶ p + H2\n",
      "\n",
      "\n"
     ]
    }
   ],
   "source": [
    "print(bbn_network.network_overview())"
   ]
  },
  {
   "cell_type": "code",
   "execution_count": 41,
   "metadata": {},
   "outputs": [
    {
     "ename": "AttributeError",
     "evalue": "'NoneType' object has no attribute 'get_rates'",
     "output_type": "error",
     "traceback": [
      "\u001b[0;31m---------------------------------------------------------------------------\u001b[0m",
      "\u001b[0;31mAttributeError\u001b[0m                            Traceback (most recent call last)",
      "\u001b[1;32m/home/hansbdein/Speciale/Generator.ipynb Cell 20\u001b[0m line \u001b[0;36m2\n\u001b[1;32m      <a href='vscode-notebook-cell://wsl%2Bubuntu/home/hansbdein/Speciale/Generator.ipynb#X24sdnNjb2RlLXJlbW90ZQ%3D%3D?line=0'>1</a>\u001b[0m \u001b[39mfilter\u001b[39m \u001b[39m=\u001b[39m pyna\u001b[39m.\u001b[39mRateFilter(products\u001b[39m=\u001b[39m[\u001b[39m\"\u001b[39m\u001b[39mHe4\u001b[39m\u001b[39m\"\u001b[39m], exact\u001b[39m=\u001b[39m\u001b[39mFalse\u001b[39;00m)\n\u001b[0;32m----> <a href='vscode-notebook-cell://wsl%2Bubuntu/home/hansbdein/Speciale/Generator.ipynb#X24sdnNjb2RlLXJlbW90ZQ%3D%3D?line=1'>2</a>\u001b[0m He4rates \u001b[39m=\u001b[39m bbn_library\u001b[39m.\u001b[39;49mfilter(\u001b[39mfilter\u001b[39;49m)\u001b[39m.\u001b[39;49mget_rates()\n\u001b[1;32m      <a href='vscode-notebook-cell://wsl%2Bubuntu/home/hansbdein/Speciale/Generator.ipynb#X24sdnNjb2RlLXJlbW90ZQ%3D%3D?line=2'>3</a>\u001b[0m He4rates\n",
      "\u001b[0;31mAttributeError\u001b[0m: 'NoneType' object has no attribute 'get_rates'"
     ]
    }
   ],
   "source": [
    "filter = pyna.RateFilter(products=[\"He4\"], exact=False)\n",
    "He4rates = bbn_library.filter(filter).get_rates()\n",
    "He4rates"
   ]
  },
  {
   "cell_type": "code",
   "execution_count": null,
   "metadata": {},
   "outputs": [
    {
     "name": "stdout",
     "output_type": "stream",
     "text": [
      "d_d__he4\t0.0\n",
      "p_t__he4\t0.0\n",
      "n_he3__he4\t248.91468501748517\n",
      "p_he3__he4__weak__bet_pos_\t0.0\n",
      "d_t__n_he4\t0.0\n",
      "d_he3__p_he4\t0.0\n",
      "t_he3__d_he4\t0.0\n",
      "t_t__n_n_he4\t0.0\n",
      "t_he3__n_p_he4\t0.0\n",
      "he3_he3__p_p_he4\t0.0\n"
     ]
    }
   ],
   "source": [
    "TMeV2T9=11.60451812\n",
    "Tpeak=0.5256676288178614*TMeV2T9\n",
    "\n",
    "for rate in He4rates:\n",
    "    print(rate.fname+'\\t'+str(rate.eval(Tpeak)))\n"
   ]
  },
  {
   "cell_type": "code",
   "execution_count": null,
   "metadata": {},
   "outputs": [
    {
     "data": {
      "text/plain": [
       "[He3 + n ⟶ He4 + 𝛾,\n",
       " H2 + H2 ⟶ He4 + 𝛾,\n",
       " H3 + p ⟶ He4 + 𝛾,\n",
       " He3 + p ⟶ He4 + e⁺ + 𝜈,\n",
       " H3 + H2 ⟶ n + He4,\n",
       " He3 + H2 ⟶ p + He4,\n",
       " He3 + H3 ⟶ H2 + He4,\n",
       " H3 + H3 ⟶ n + n + He4,\n",
       " He3 + H3 ⟶ n + p + He4,\n",
       " He3 + He3 ⟶ p + p + He4]"
      ]
     },
     "execution_count": 21,
     "metadata": {},
     "output_type": "execute_result"
    }
   ],
   "source": [
    "rate\n",
    "\n",
    "sorted(He4rates,key=lambda rate: rate.eval(Tpeak),reverse=True)"
   ]
  },
  {
   "cell_type": "code",
   "execution_count": null,
   "metadata": {},
   "outputs": [
    {
     "data": {
      "text/plain": [
       "'\\nfrom numba.pycc import CC\\n\\ncc = CC(\\'AoT_net\\')\\n# Uncomment the following line to print out the compilation steps\\n#cc.verbose = True\\n\\n@cc.export(\\'nnuc\\',\\'i4()\\')\\ndef nNuc():\\n    return nnuc\\n\\n@cc.export(\\'rhs\\', \\'f8[:](f8, f8[:], f8, f8)\\')\\ndef rhsCC(t, Y, rho, T):\\n    return rhs_eq(t, Y, rho, T, None)\\n\\n@cc.export(\\'jacobian\\', \\'(f8, f8[:], f8, f8)\\')\\ndef jacobian(t, Y, rho, T):\\n    return jacobian_eq(t, Y, rho, T, None)\\n\\n\\nif __name__ == \"__main__\":\\n    cc.compile()\\n\\n'"
      ]
     },
     "execution_count": 22,
     "metadata": {},
     "output_type": "execute_result"
    }
   ],
   "source": [
    "#For AoT compilation of the network\n",
    "'''\n",
    "from numba.pycc import CC\n",
    "\n",
    "cc = CC('AoT_net')\n",
    "# Uncomment the following line to print out the compilation steps\n",
    "#cc.verbose = True\n",
    "\n",
    "@cc.export('nnuc','i4()')\n",
    "def nNuc():\n",
    "    return nnuc\n",
    "\n",
    "@cc.export('rhs', 'f8[:](f8, f8[:], f8, f8)')\n",
    "def rhsCC(t, Y, rho, T):\n",
    "    return rhs_eq(t, Y, rho, T, None)\n",
    "\n",
    "@cc.export('jacobian', '(f8, f8[:], f8, f8)')\n",
    "def jacobian(t, Y, rho, T):\n",
    "    return jacobian_eq(t, Y, rho, T, None)\n",
    "\n",
    "\n",
    "if __name__ == \"__main__\":\n",
    "    cc.compile()\n",
    "\n",
    "    \n",
    "\n",
    "import He4_net as He4_n\n",
    "importlib.reload(He4_n)\n",
    "He4_n.AoT('He4_AoT_net')\n",
    "\n",
    "'''"
   ]
  }
 ],
 "metadata": {
  "kernelspec": {
   "display_name": "Python 3",
   "language": "python",
   "name": "python3"
  },
  "language_info": {
   "codemirror_mode": {
    "name": "ipython",
    "version": 3
   },
   "file_extension": ".py",
   "mimetype": "text/x-python",
   "name": "python",
   "nbconvert_exporter": "python",
   "pygments_lexer": "ipython3",
   "version": "3.10.6"
  },
  "orig_nbformat": 4
 },
 "nbformat": 4,
 "nbformat_minor": 2
}
