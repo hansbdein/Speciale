{
 "cells": [
  {
   "cell_type": "code",
   "execution_count": 2,
   "metadata": {},
   "outputs": [
    {
     "name": "stdout",
     "output_type": "stream",
     "text": [
      "Hyggehejsa\n",
      "\n",
      "lmao\n",
      "With uncertainties:\n",
      "lmao\n",
      "\t Yp\t\t H2/H\t\t He3/H\t\t Li7/H\t\t Li6/H\t\t Be7/H\n",
      "lmao\n",
      "value:\t 2.398e-01\t 7.556e-05\t 1.619e-05\t 1.317e-10\t 3.172e-14\t 6.850e-11\n",
      "lmao\n",
      " +/- :\t 3.199e-04\t 1.302e-06\t 1.727e-07\t 1.103e-11\t 3.141e-14\t 5.264e-12\n",
      "lmao\n"
     ]
    }
   ],
   "source": [
    "print('Hyggehejsa')#husk at give permission chmod u+x alter_eta.x\n",
    "\n",
    "import subprocess \n",
    "\n",
    "# Run the compiled program with an input parameter\n",
    "input_param = \"3e-10\"\n",
    "result = subprocess.run([\"/home/hansbdein/Speciale/alterbbn_v2.2/alter_eta.x\", input_param], capture_output=True)\n",
    "\n",
    "# Omega_b = 4.171*10^-31 g/cm^3 \n",
    "# svarer til Eta =6.1e-10\n",
    "# Print the output of the program\n",
    "#print(result.stdout.decode(\"utf-8\"))\n",
    "for info in result.stdout.decode(\"utf-8\").split('\\n')[6:11]:\n",
    "    print(info)\n",
    "    print('lmao')\n"
   ]
  }
 ],
 "metadata": {
  "kernelspec": {
   "display_name": "Python 3",
   "language": "python",
   "name": "python3"
  },
  "language_info": {
   "codemirror_mode": {
    "name": "ipython",
    "version": 3
   },
   "file_extension": ".py",
   "mimetype": "text/x-python",
   "name": "python",
   "nbconvert_exporter": "python",
   "pygments_lexer": "ipython3",
   "version": "3.10.6"
  },
  "orig_nbformat": 4,
  "vscode": {
   "interpreter": {
    "hash": "916dbcbb3f70747c44a77c7bcd40155683ae19c65e1c03b4aa3499c5328201f1"
   }
  }
 },
 "nbformat": 4,
 "nbformat_minor": 2
}
