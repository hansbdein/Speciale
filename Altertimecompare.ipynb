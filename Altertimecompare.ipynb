{
 "cells": [
  {
   "cell_type": "code",
   "execution_count": 2,
   "metadata": {},
   "outputs": [],
   "source": [
    "#imports\n",
    "import sys\n",
    "import subprocess \n",
    "import importlib\n",
    "\n",
    "import time\n",
    "\n",
    "import numpy as np\n",
    "\n",
    "import scipy.constants as con\n",
    "import scipy.optimize as opt\n",
    "import scipy.linalg as la\n",
    "from scipy import special\n",
    "from scipy import integrate\n",
    "from scipy.optimize import root_scalar\n",
    "from scipy.integrate._ivp import common as jacpack\n",
    "from scipy.interpolate import interp1d \n",
    "\n",
    "from numba import njit\n",
    "\n",
    "#Nice plots\n",
    "import matplotlib.pyplot as plt\n",
    "import matplotlib.ticker as plticks\n",
    "from mpl_toolkits.axes_grid1 import make_axes_locatable\n",
    "width = 5.1\n",
    "fontsize = 10\n",
    "plt.rcParams.update({\n",
    "    'text.usetex'        : True,\n",
    "    'font.family'        : 'sans-serif',\n",
    "    'font.size'          : fontsize,\n",
    "    'text.latex.preamble': r'\\usepackage{libertine}'\n",
    "})\n",
    "#plt.rcParams['text.latex.preamble'] = r'\\usepackage{libertine}'\n",
    "import re\n",
    "from pylatexenc.latexencode import UnicodeToLatexEncoder, \\\n",
    " UnicodeToLatexConversionRule, RULE_REGEX\n",
    "u2latex = UnicodeToLatexEncoder(\n",
    "    conversion_rules=[\n",
    "        UnicodeToLatexConversionRule(rule_type=RULE_REGEX, rule=[\n",
    "            (re.compile(r'𝜈'), r'\\\\ensuremath{\\\\nu}'),\n",
    "            (re.compile(r'𝛾'), r'\\\\ensuremath{\\\\gamma}'),\n",
    "            (re.compile(r'⁻'), r'\\\\ensuremath{^-}'),\n",
    "            (re.compile(r'⁺'), r'\\\\ensuremath{^+}'),\n",
    "        ]),\n",
    "        'defaults'\n",
    "    ]\n",
    ")\n",
    "#class for adding units to axis\n",
    "class AddK(plticks.LogFormatterSciNotation):\n",
    "    def __call__(self, x, pos=None):\n",
    "        x = plticks.LogFormatterSciNotation.__call__(self, x,pos)\n",
    "        s = x+' K'\n",
    "        return s\n",
    "    \n",
    "class AddMeV(plticks.LogFormatterSciNotation):\n",
    "    def __call__(self, x, pos=None):\n",
    "        x = plticks.LogFormatterSciNotation.__call__(self, x,pos)\n",
    "        s = x+' MeV'\n",
    "        return s\n",
    "\n",
    "#Reaction networks\n",
    "import pynucastro as pyna\n",
    "reaclibrary = pyna.ReacLibLibrary()\n",
    "import H2_AoT_net as bbn_np\n",
    "#import np_AoT_net as bbn_np\n",
    "import AoT_net as bbn_Li\n",
    "#import bbn_test_integrate as bbn_Li\n",
    "import full_AoT_net as bbn_full\n",
    "#import full_size_net as bbn_full\n",
    "networks=[bbn_np,bbn_Li,bbn_full]\n",
    "importlib.reload(bbn_full)\n",
    "importlib.reload(bbn_Li)\n",
    "importlib.reload(bbn_np)\n",
    "#number of nuclei in network, nNucs[-1]=2 to since initial condition sets n and p\n",
    "nNucs=[net.nnuc if isinstance(net.nnuc, int) else net.nnuc() for net in networks]+[2]"
   ]
  },
  {
   "cell_type": "code",
   "execution_count": 3,
   "metadata": {},
   "outputs": [],
   "source": [
    "#Unit conversions\n",
    "timeunit =1.519*10**21  #MeV/hbar in unit of 1/second \n",
    "TMeV2T9=11.60451812 #conversion factor from MeV to 10^9K\n",
    "cm3s=1.167*10**-11  #conversion factor for cm^3/s\n",
    "gcm3=232012         #conversion factor for g/cm^3\n",
    "molcm3=216117376    #conversion factor for mol/cm^3 (cm^3*MeV^3)/(hbar^3*c^3*Avagadro number)\n",
    "meter=5.068e12      #conversion factor for m\n",
    "cm=5.068e10         #conversion factor for cm\n",
    "barn=389.4          #conversion factor for barn\n",
    "e_mass=0.51099895   #electron mass in MeV\n",
    "\n",
    "#constants\n",
    "n_life=879.6*timeunit   #Neutron lifetime in units of MeV/hbar\n",
    "Q=1.293                 #neutron proton mass difference in MeV\n",
    "M_u=931.494102          #atomic mass unit in MeV\n",
    "SBC=np.pi**2/60         #Stefan-Boltzmann constant in natural units\n",
    "G=6.709e-45             #gravatational constant in units of c=hbar=MeV=1\n",
    "n_nu=3.046              #number of neutrino families with correction from \n",
    "                        #Nollett and Steigman, BBN and the CMB constrain neutrino coupled light WIMPs, 2015\n",
    "\n",
    "\n",
    "#Setup isotopes based on Alterbbn\n",
    "Y_labels=['n','p','H2','H3','He3','He4','Li6','Li7','Li8','Be7','Be9','B8','B10','B11','B12','C11','C12','C13','C14','N12','N13','N14','N15','O14','O15','O16']\n",
    "Alter_Yl=[\"n\",\"p\",\"H2\",\"H3\",\"He3\",\"He4\",\"Li6\",\"Li7\",\"Be7\",\"Li8\",\"B8\",\"Be9\",\"B10\",\"B11\",\"C11\",\"B12\",\"C12\",\"N12\",\"C13\",\"N13\",\"C14\",\"N14\",\"O14\",\"N15\",\"O15\",\"O16\"]\n",
    "\n",
    "fnNucs=nNucs[-2]\n",
    "\n",
    "A=np.array([1,1,2,3,3,4,6,7,8,7,9,8,10,11,12,11,12,13,14,12,13,14,15,14,15,16])\n",
    "Alter_A=[1.,1.,2.,3.,3.,4.,6.,7.,7.,8.,8.,9.,10.,11.,11.,12.,12.,12.,13.,13.,14.,14.,14.,15.,15.,16.]\n",
    "\n",
    "Z=sorted([0,1,1,1,2,2,3,3,4,3,5,4,5,5,6,5,6,7,6,7,6,7,8,7,8,8])\n",
    "Alter_Z=[0.,1.,1.,1.,2.,2.,3.,3.,4.,3.,5.,4.,5.,5.,6.,5.,6.,7.,6.,7.,6.,7.,8.,7.,8.,8.]\n",
    "\n",
    "def Altersort(L):\n",
    "    if type(L)==list:\n",
    "        return [x for (a,x) in sorted(zip(zip(A,Z),L), key=lambda pair: pair[0])]\n",
    "    else:\n",
    "        return np.array([x for (a,x) in sorted(zip(zip(A,Z),L), key=lambda pair: pair[0])])\n",
    "\n",
    "def PNAsort(L):\n",
    "    if type(L)==list:\n",
    "        return [x for (a,x) in sorted(zip(zip(Alter_Z,Alter_A),L), key=lambda pair: pair[0])]\n",
    "    else:\n",
    "        return np.array([x for (a,x) in sorted(zip(zip(Alter_Z,Alter_A),L), key=lambda pair: pair[0])])    \n",
    "\n",
    "\n",
    "Alterspin=[0.5,0.5,1.,0.5,0.5,0.,1.,1.5,1.5,2.,2.,1.5,3.,1.5,1.5,1.,0.,1.,0.5,0.5,0.,1.,0.,0.5,0.5,0.]\n",
    "spin=PNAsort(Alterspin)\n",
    "\n",
    "Alter_mass_excess=[8.071388,7.289028,13.135825,14.949915,14.931325,2.424931,14.0864,14.9078,15.7696,20.9464,22.9212,11.34758,12.05086,8.6680,10.6506,13.3690,0.,17.3382,3.125036,5.3455,3.019916,2.863440,8.006521,0.101439,2.8554,-4.737036]\n",
    "Alter_mass=[Alter_A[i]*M_u+Alter_mass_excess[i] for i in range(fnNucs)]\n",
    "m_Nucs = np.array(PNAsort(Alter_mass))\n",
    "m_n,m_p,m_d,m_t,m_He3,m_He4=m_Nucs[:6]\n",
    "\n",
    "B=[(m_Nucs[1]*Z[i]+m_Nucs[0]*(A[i]-Z[i]))-m_Nucs[i] for i in range(fnNucs)]\n",
    "g = 1+2*np.array(spin)"
   ]
  },
  {
   "cell_type": "code",
   "execution_count": 4,
   "metadata": {},
   "outputs": [],
   "source": [
    "#Background\n",
    "#Special functions og deres afledte\n",
    "def L(z):\n",
    "    return special.kn(2,z)/z\n",
    "\n",
    "def M(z):\n",
    "    return (3/4*special.kn(3,z)+1/4*special.kn(1,z))/z\n",
    "\n",
    "def dMdz(z):\n",
    "    return -3/z**2*special.kn(3,z) -special.kn(2,z)/z\n",
    "\n",
    "def N(z):\n",
    "    return (1/2*special.kn(4,z)+1/2*special.kn(2,z))/z\n",
    "\n",
    "def rho_gamma(T):   #photon energy density\n",
    "    return (np.pi**2)/15*T**4 \n",
    "\n",
    "def drho_gamma(T):  #derivative\n",
    "    return 4*(np.pi**2)/15*T**3 \n",
    "\n",
    "def P_gamma(T):     #photon pressure\n",
    "    return rho_gamma(T)/3\n",
    "\n",
    "    \n",
    "\n",
    "def rho_e(T): #electron/positron density, chemical potential assumed to be 0 so cosh(phi*n)=1\n",
    "    z=e_mass/T\n",
    "    return 2/np.pi**2*e_mass**4*np.sum([(-1)**(n+1)*M(n*z) for n in range(1,40)])\n",
    "\n",
    "def drho_e(T): #derivative of rho_e with respect to temperature\n",
    "    z=e_mass/T\n",
    "    return 2/np.pi**2*e_mass**4*np.sum([(-1)**(n)*n*z/T*dMdz(n*z) for n in range(1,40)])\n",
    "\n",
    "def P_e(T): #electron/positron pressure\n",
    "    z=e_mass/T\n",
    "    return 2/np.pi**2*e_mass**4*np.sum([(-1)**(n+1)/(n*z)*L(n*z) for n in range(1,40)])  \n",
    "\n",
    "### Initial conditions ###\n",
    "t_max=1769922*timeunit\n",
    "T_ini=10                     #initial temperature in MeV\n",
    "t_ini=3/(2*np.sqrt(43/5*G*np.pi**3))/T_ini**2 #initial time in hbar/MeV\n",
    "n_gamma_ini= 1.20206*2/np.pi**2*T_ini**3    #initial number density of photons based on theory\n",
    "n_gamma_ini= rho_gamma(T_ini)/(2.701178*T_ini) #initial number density of photons based mean photon energy\n",
    "eta=6.1e-10     #CMB baryon-to-photon ratio\n",
    "eta_ini=eta*(1+(rho_e(T_ini)+P_e(T_ini))/(rho_gamma(T_ini)+P_gamma(T_ini))) #entropi bevarelse\n",
    "rho_nu_ini=n_nu*7/8*(np.pi**2)/15*T_ini**4 #initial neutrino density\n",
    "n_b_ini=eta_ini*n_gamma_ini    #initial baryon number density\n",
    "rho_b_ini=m_p*n_b_ini           #initial baryon density\n",
    "\n",
    "def rho_nu(a): #neutrino energy density\n",
    "    return rho_nu_ini/a**4\n",
    "\n",
    "def rho_b(a):\n",
    "    return rho_b_ini/a**3\n",
    "\n",
    "\n",
    "### Solving the background ###\n",
    "\n",
    "def rho_tot(T,a): #total density\n",
    "    return rho_e(T)+rho_gamma(T)+rho_nu(a)+rho_b(a)\n",
    "\n",
    "def rho_set(T,a): #total density of non-decoupled components\n",
    "    return rho_e(T)+rho_gamma(T)+rho_b(a)\n",
    "\n",
    "def H(T,a):   #Hubble parameter as given by Friedmann eq, ignoring cosmological constant\n",
    "    return np.sqrt(8*np.pi/3*G*rho_tot(T,a))\n",
    "\n",
    "#Derivative from Kavano D.18\n",
    "def dTdt(t,T,a):\n",
    "    return -3*H(T,a)/((drho_e(T)+drho_gamma(T))/(rho_set(T,a) + P_e(T)+P_gamma(T)))\n",
    "\n",
    "#Derivative from how H is defined\n",
    "def dadt(t,T,a):\n",
    "    return a*H(T,a)\n",
    "\n",
    "#combining derivatives\n",
    "def dbackground(t,y):   #solve h and T, y[0] = T, y[1] = a\n",
    "    return [dTdt(t,*y),dadt(t,*y)]\n",
    "\n",
    "t_range=[t_ini,t_max]            #time range for integration\n",
    "#t_space=np.linspace(*t_range,1000)      #time range for approximate temperature\n",
    "\n",
    "\n",
    "# Solving it\n",
    "sol10 = integrate.solve_ivp(dbackground, t_range, [T_ini,1],method='RK45',atol=1e-80,rtol=1e-8,t_eval=np.geomspace(*t_range,200000))#,t_eval=t_space)\n",
    "\n",
    "Tsqr10=sol10.y[0]**-2\n",
    "asqrt10=sol10.y[1]**2\n",
    "solt10=sol10.t\n",
    "\n",
    "@njit\n",
    "def T10_cache(t):   #solve h and T, y[0] = T, y[1] = a\n",
    "    return 1/np.sqrt(np.interp(t,solt10,Tsqr10))\n",
    "    #return -np.interp(t,sol.t,-sol.y[0])\n",
    "    #return -interp1d(sol.t,-sol.y[0], kind='linear', copy=True, bounds_error=True, assume_sorted=True)(t)\n",
    "\n",
    "@njit\n",
    "def a10_cache(t):\n",
    "    return np.sqrt(np.interp(t,solt10,asqrt10))\n",
    "    #return np.interp(t,sol.t,sol.y[1])\n",
    "    #return interp1d(sol.t,sol.y[1], kind='linear', copy=True, bounds_error=True, assume_sorted=True)(t)\n",
    "\n",
    "\n",
    "#n_b_ini=eta*(1.20206*2/np.pi**2*T_cache(t_range[1])**3)*a_cache( t_range[1])**3\n",
    "\n",
    "\n",
    "\n",
    "n_b_ini10=eta*(1.20206*2/np.pi**2*T10_cache(t_range[1])**3)*a10_cache( t_range[1])**3\n",
    "    \n",
    "\n",
    "\n"
   ]
  },
  {
   "cell_type": "code",
   "execution_count": 5,
   "metadata": {},
   "outputs": [
    {
     "data": {
      "text/plain": [
       "1.1176674855899256"
      ]
     },
     "execution_count": 5,
     "metadata": {},
     "output_type": "execute_result"
    }
   ],
   "source": [
    "t_test=176*timeunit\n",
    "\n",
    "\n",
    "n_b_ini10/(eta*(1.20206*2/np.pi**2*T10_cache(t_test)**3)*a10_cache( t_test)**3)\n",
    "#eta*(1+(rho_e(T_test)+P_e(T_test))/(rho_gamma(T_test)+P_gamma(T_test)))"
   ]
  },
  {
   "cell_type": "code",
   "execution_count": 6,
   "metadata": {},
   "outputs": [],
   "source": [
    "#Background\n",
    "#Special functions og deres afledte\n",
    "def L(z):\n",
    "    return special.kn(2,z)/z\n",
    "\n",
    "def M(z):\n",
    "    return (3/4*special.kn(3,z)+1/4*special.kn(1,z))/z\n",
    "\n",
    "def dMdz(z):\n",
    "    return -3/z**2*special.kn(3,z) -special.kn(2,z)/z\n",
    "\n",
    "def N(z):\n",
    "    return (1/2*special.kn(4,z)+1/2*special.kn(2,z))/z\n",
    "\n",
    "def rho_gamma(T):   #photon energy density\n",
    "    return (np.pi**2)/15*T**4 \n",
    "\n",
    "def drho_gamma(T):  #derivative\n",
    "    return 4*(np.pi**2)/15*T**3 \n",
    "\n",
    "def P_gamma(T):     #photon pressure\n",
    "    return rho_gamma(T)/3\n",
    "\n",
    "    \n",
    "\n",
    "def rho_e(T): #electron/positron density, chemical potential assumed to be 0 so cosh(phi*n)=1\n",
    "    z=e_mass/T\n",
    "    return 2/np.pi**2*e_mass**4*np.sum([(-1)**(n+1)*M(n*z) for n in range(1,40)])\n",
    "\n",
    "def drho_e(T): #derivative of rho_e with respect to temperature\n",
    "    z=e_mass/T\n",
    "    return 2/np.pi**2*e_mass**4*np.sum([(-1)**(n)*n*z/T*dMdz(n*z) for n in range(1,40)])\n",
    "\n",
    "def P_e(T): #electron/positron pressure\n",
    "    z=e_mass/T\n",
    "    return 2/np.pi**2*e_mass**4*np.sum([(-1)**(n+1)/(n*z)*L(n*z) for n in range(1,40)])  \n",
    "\n",
    "### Initial conditions ###\n",
    "t_max=1769922*timeunit\n",
    "T_ini=100                     #initial temperature in MeV\n",
    "t_ini=3/(2*np.sqrt(43/5*G*np.pi**3))/T_ini**2 #initial time in hbar/MeV\n",
    "n_gamma_ini= 1.20206*2/np.pi**2*T_ini**3    #initial number density of photons based on theory\n",
    "n_gamma_ini= rho_gamma(T_ini)/(2.701178*T_ini) #initial number density of photons based mean photon energy\n",
    "eta=6.1e-10     #CMB baryon-to-photon ratio\n",
    "eta_ini=eta*(1+(rho_e(T_ini)+P_e(T_ini))/(rho_gamma(T_ini)+P_gamma(T_ini))) #entropi bevarelse\n",
    "rho_nu_ini=n_nu*7/8*(np.pi**2)/15*T_ini**4 #initial neutrino density\n",
    "n_b_ini110=eta_ini*n_gamma_ini    #initial baryon number density\n",
    "rho_b_ini=m_p*n_b_ini110           #initial baryon density\n",
    "\n",
    "def rho_nu(a): #neutrino energy density\n",
    "    return rho_nu_ini/a**4#*1.007\n",
    "\n",
    "def rho_b(a):\n",
    "    return 0#rho_b_ini/a**3\n",
    "\n",
    "\n",
    "### Solving the background ###\n",
    "\n",
    "def rho_tot(T,a): #total density\n",
    "    return rho_e(T)+rho_gamma(T)+rho_nu(a)+rho_b(a)\n",
    "\n",
    "def rho_set(T,a): #total density of non-decoupled components\n",
    "    return rho_e(T)+rho_gamma(T)+rho_b(a)\n",
    "\n",
    "def H(T,a):   #Hubble parameter as given by Friedmann eq, ignoring cosmological constant\n",
    "    return np.sqrt(8*np.pi/3*G*rho_tot(T,a))\n",
    "\n",
    "#Derivative from Kavano D.18\n",
    "def dTdt(t,T,a):\n",
    "    return -3*H(T,a)/((drho_e(T)+drho_gamma(T))/(rho_set(T,a) + P_e(T)+P_gamma(T)))\n",
    "\n",
    "#Derivative from how H is defined\n",
    "def dadt(t,T,a):\n",
    "    return a*H(T,a)\n",
    "\n",
    "#combining derivatives\n",
    "def dbackground(t,y):   #solve h and T, y[0] = T, y[1] = a\n",
    "    return [dTdt(t,*y),dadt(t,*y)]\n",
    "\n",
    "t_range=[t_ini,t_max]            #time range for integration\n",
    "#t_space=np.linspace(*t_range,1000)      #time range for approximate temperature\n",
    "\n",
    "\n",
    "# Solving it\n",
    "sol110 = integrate.solve_ivp(dbackground, t_range, [T_ini,1],method='RK45',atol=1e-80,rtol=1e-8,t_eval=np.geomspace(*t_range,2000000))#,t_eval=t_space)\n",
    "\n",
    "Tsqr110=sol110.y[0]**-2\n",
    "asqrt110=sol110.y[1]**2\n",
    "solt110=sol110.t\n",
    "\n",
    "@njit\n",
    "def T110_cache(t):   #solve h and T, y[0] = T, y[1] = a\n",
    "    return 1/np.sqrt(np.interp(t,solt110,Tsqr110))\n",
    "    #return -np.interp(t,sol.t,-sol.y[0])\n",
    "    #return -interp1d(sol.t,-sol.y[0], kind='linear', copy=True, bounds_error=True, assume_sorted=True)(t)\n",
    "\n",
    "@njit\n",
    "def a110_cache(t):\n",
    "    return np.sqrt(np.interp(t,solt110,asqrt110))\n",
    "    #return np.interp(t,sol.t,sol.y[1])\n",
    "    #return interp1d(sol.t,sol.y[1], kind='linear', copy=True, bounds_error=True, assume_sorted=True)(t)\n",
    "\n",
    "\n",
    "#n_b_ini=eta*(1.20206*2/np.pi**2*T_cache(t_range[1])**3)*a_cache( t_range[1])**3\n",
    "\n",
    "\n",
    "\n",
    "#n_b_ini110=eta*(1.20206*2/np.pi**2*T110_cache(t_range[1])**3)*a110_cache( t_range[1])**3\n",
    "    \n",
    "\n",
    "\n"
   ]
  },
  {
   "cell_type": "code",
   "execution_count": 7,
   "metadata": {},
   "outputs": [],
   "source": [
    "#Background\n",
    "#Special functions og deres afledte\n",
    "def L(z):\n",
    "    return special.kn(2,z)/z\n",
    "\n",
    "def M(z):\n",
    "    return (3/4*special.kn(3,z)+1/4*special.kn(1,z))/z\n",
    "\n",
    "def dMdz(z):\n",
    "    return -3/z**2*special.kn(3,z) -special.kn(2,z)/z\n",
    "\n",
    "def N(z):\n",
    "    return (1/2*special.kn(4,z)+1/2*special.kn(2,z))/z\n",
    "\n",
    "def rho_gamma(T):   #photon energy density\n",
    "    return (np.pi**2)/15*T**4 \n",
    "\n",
    "def drho_gamma(T):  #derivative\n",
    "    return 4*(np.pi**2)/15*T**3 \n",
    "\n",
    "def P_gamma(T):     #photon pressure\n",
    "    return rho_gamma(T)/3\n",
    "\n",
    "    \n",
    "\n",
    "def rho_e(T): #electron/positron density, chemical potential assumed to be 0 so cosh(phi*n)=1\n",
    "    z=e_mass/T\n",
    "    return 2/np.pi**2*e_mass**4*np.sum([(-1)**(n+1)*M(n*z) for n in range(1,40)])\n",
    "\n",
    "def drho_e(T): #derivative of rho_e with respect to temperature\n",
    "    z=e_mass/T\n",
    "    return 2/np.pi**2*e_mass**4*np.sum([(-1)**(n)*n*z/T*dMdz(n*z) for n in range(1,40)])\n",
    "\n",
    "def P_e(T): #electron/positron pressure\n",
    "    z=e_mass/T\n",
    "    return 2/np.pi**2*e_mass**4*np.sum([(-1)**(n+1)/(n*z)*L(n*z) for n in range(1,40)])  \n",
    "\n",
    "### Initial conditions ###\n",
    "t_max=1769922*timeunit\n",
    "T_ini=27/TMeV2T9                     #initial temperature in MeV\n",
    "t_ini=3/(2*np.sqrt(43/5*G*np.pi**3))/T_ini**2 #initial time in hbar/MeV\n",
    "n_gamma_ini= 1.20206*2/np.pi**2*T_ini**3    #initial number density of photons based on theory\n",
    "n_gamma_ini= rho_gamma(T_ini)/(2.701178*T_ini) #initial number density of photons based mean photon energy\n",
    "eta=6.1e-10     #CMB baryon-to-photon ratio\n",
    "eta_ini=eta*(1+(rho_e(T_ini)+P_e(T_ini))/(rho_gamma(T_ini)+P_gamma(T_ini))) #entropi bevarelse\n",
    "rho_nu_ini=n_nu*7/8*(np.pi**2)/15*T_ini**4 #initial neutrino density\n",
    "n_b_ini=eta_ini*n_gamma_ini    #initial baryon number density\n",
    "rho_b_ini=m_p*n_b_ini           #initial baryon density\n",
    "\n",
    "def rho_nu(a): #neutrino energy density\n",
    "    return rho_nu_ini/a**4#+0.0075/(1+0.8*T**2)*rho_nu_ini/a**4\n",
    "\n",
    "def rho_b(T,a):\n",
    "    return 0#rho_b_ini/a**3#+3/2*T*n_b_ini/a**3\n",
    "\n",
    "#T**3/(T_ini**3*11/4)=1/a**3\n",
    "\n",
    "def drho_b(T,a):\n",
    "    return 0#3*rho_b_ini*T**2/(T_ini**3*11/4)\n",
    "\n",
    "def P_b(T,a):\n",
    "    return 0#T*n_b_ini/a**3\n",
    "\n",
    "### Solving the background ###\n",
    "\n",
    "def rho_tot(T,a): #total density\n",
    "    return rho_e(T)+rho_gamma(T)+rho_nu(a)+rho_b(T,a)\n",
    "\n",
    "def rho_set(T,a): #total density of non-decoupled components\n",
    "    return rho_e(T)+rho_gamma(T)+rho_b(T,a)\n",
    "\n",
    "def H(T,a):   #Hubble parameter as given by Friedmann eq, ignoring cosmological constant\n",
    "    return np.sqrt(8*np.pi/3*G*rho_tot(T,a))\n",
    "\n",
    "#Derivative from Kavano D.18\n",
    "def dTdt(t,T,a):\n",
    "    return -3*H(T,a)/((drho_e(T)+drho_gamma(T)+drho_b(T,a))/(rho_set(T,a) + P_b(T,a)+P_e(T)+P_gamma(T)))\n",
    "\n",
    "#Derivative from how H is defined\n",
    "def dadt(t,T,a):\n",
    "    return a*H(T,a)\n",
    "\n",
    "#combining derivatives\n",
    "def dbackground(t,y):   #solve h and T, y[0] = T, y[1] = a\n",
    "    return [dTdt(t,*y),dadt(t,*y)]\n",
    "\n",
    "t_range=[t_ini,t_max]            #time range for integration\n",
    "#t_space=np.linspace(*t_range,1000)      #time range for approximate temperature\n",
    "\n",
    "\n",
    "# Solving it\n",
    "sol = integrate.solve_ivp(dbackground, t_range, [T_ini,1],method='RK45',atol=1e-80,rtol=1e-8,t_eval=np.geomspace(*t_range,2000000))#,t_eval=t_space)\n",
    "\n",
    "Tsqr=sol.y[0]**-2\n",
    "asqrt=sol.y[1]**2\n",
    "solt=sol.t\n",
    "\n",
    "@njit\n",
    "def T_cache(t):   #solve h and T, y[0] = T, y[1] = a\n",
    "    return 1/np.sqrt(np.interp(t,solt,Tsqr))\n",
    "    #return -np.interp(t,sol.t,-sol.y[0])\n",
    "    #return -interp1d(sol.t,-sol.y[0], kind='linear', copy=True, bounds_error=True, assume_sorted=True)(t)\n",
    "\n",
    "@njit\n",
    "def a_cache(t):\n",
    "    return np.sqrt(np.interp(t,solt,asqrt))\n",
    "    #return np.interp(t,sol.t,sol.y[1])\n",
    "    #return interp1d(sol.t,sol.y[1], kind='linear', copy=True, bounds_error=True, assume_sorted=True)(t)\n",
    "\n",
    "\n",
    "#n_b_ini=eta*(1.20206*2/np.pi**2*T_cache(1e4*timeunit)**3)*a_cache(1e4*timeunit)**3\n",
    "\n",
    "\n",
    "#n_b_ini=eta*(1.20206*2/np.pi**2*T_cache(t_range[1])**3)*a_cache( t_range[1])**3\n",
    "    \n",
    "\n",
    "\n"
   ]
  },
  {
   "cell_type": "code",
   "execution_count": 8,
   "metadata": {},
   "outputs": [],
   "source": [
    "#Functions for determining additional abundances for each network\n",
    "\n",
    "#Initial conditions from thermal equilibrium\n",
    "def get_Y_thermal(Y,n,T):\n",
    "    Y_2 = np.zeros(n)\n",
    "    Y_2[:len(Y)] = Y\n",
    "    if T>0.5:#set to zero if out of equilibrium (3 seconds or 0.5MeV)\n",
    "        for i in range(len(Y),n):\n",
    "            tmp = special.zeta(3)**(A[i] - 1)*np.pi**((1 - A[i])/2)*2**((3*A[i] - 5)/2)*A[i]**(5/2)\n",
    "            Y_2[i] = g[i]*tmp*(T/m_n)**(3*(A[i] - 1)/2)*eta_ini**(A[i] - 1)*Y[1]**Z[i]*Y[0]**(A[i] - Z[i])*np.exp(B[i]/T)/A[i]\n",
    "    return Y_2\n",
    "\n",
    "def solve_using_svd(U, s, Vh, b):\n",
    "    bb = U.T @ b\n",
    "    y = bb/s\n",
    "    x = Vh.T @ y\n",
    "    return x\n",
    "\n",
    "#Initial conditions from Jacobian\n",
    "def get_Y_jac(y,i):\n",
    "\n",
    "    #if y[0]<0.1\n",
    "    #    return \n",
    "    AdYdt_cut=lambda Y : Altersort(networks[i].rhs(1.1, PNAsort(Y) ,n_b_ini/y[1]**3*molcm3, y[0]*TMeV2T9*1e9))\n",
    "    AdYdt_jac_cut=lambda Y : networks[i].jacobian(1.1, PNAsort(Y) ,n_b_ini/y[1]**3*molcm3, y[0]*TMeV2T9*1e9)[:, Altersort(range(nNucs[i]))][Altersort(range(nNucs[i]))]\n",
    "    aY_cut=Altersort(get_Y_thermal(y[2:][:nNucs[i-1]],nNucs[i],y[0]))\n",
    "\n",
    "    Yj = np.array([YY for YY in aY_cut])\n",
    "    \n",
    "    \n",
    "    for cut in range(nNucs[i-1], len(Yj) - 2, 1):\n",
    "        for j in range(10):\n",
    "            fyj = -AdYdt_cut(Yj)\n",
    "            jac = AdYdt_jac_cut(Yj)\n",
    "            if np.any(np.isnan(Yj)) or np.any(np.isinf(Yj)):\n",
    "                print('Yj:', Yj)\n",
    "                raise ValueError\n",
    "            if np.any(np.isnan(fyj)) or np.any(np.isinf(fyj)):\n",
    "                print('Yj:', Yj)\n",
    "                print('fyj:', fyj)\n",
    "                raise ValueError\n",
    "            # Implement cut:\n",
    "            fyj = fyj[cut:]\n",
    "            jac = jac[cut:, cut:]\n",
    "            \n",
    "            # Solution using SVD\n",
    "            U, s, Vh = la.svd(jac)    \n",
    "            x = solve_using_svd(U, s, Vh, fyj)\n",
    "            for k in range(1):\n",
    "                #A · δx = A · (x + δx) − b\n",
    "                residuals = jac @ x - fyj\n",
    "                dx = solve_using_svd(U, s, Vh, residuals)\n",
    "                x -= dx\n",
    "            Yj[cut:] += x\n",
    "    return list(PNAsort(Yj))"
   ]
  },
  {
   "cell_type": "code",
   "execution_count": 9,
   "metadata": {},
   "outputs": [
    {
     "data": {
      "text/plain": [
       "2.264112484957389e+20"
      ]
     },
     "execution_count": 9,
     "metadata": {},
     "output_type": "execute_result"
    }
   ],
   "source": [
    "3/(2*np.sqrt(36/5*G*np.pi**3))/T_ini**2"
   ]
  },
  {
   "cell_type": "code",
   "execution_count": 10,
   "metadata": {},
   "outputs": [],
   "source": [
    "#Load precise nudec data\n",
    "Nudec=np.loadtxt('./nudec_BSM-master/Results/SM/SM_Thermo.dat',skiprows=0)\n",
    "\n"
   ]
  },
  {
   "cell_type": "code",
   "execution_count": null,
   "metadata": {},
   "outputs": [],
   "source": []
  },
  {
   "cell_type": "code",
   "execution_count": 11,
   "metadata": {},
   "outputs": [
    {
     "data": {
      "text/plain": [
       "array([5.1101224e-02, 5.1574087e-02, 5.2051327e-02, 5.2532983e-02,\n",
       "       5.3019096e-02, 5.3509708e-02, 5.4004861e-02, 5.4504596e-02,\n",
       "       5.5008957e-02, 5.5517985e-02, 5.6031724e-02, 5.6550218e-02,\n",
       "       5.7073511e-02, 5.7601646e-02, 5.8134670e-02, 5.8672627e-02,\n",
       "       5.9215562e-02, 5.9763523e-02, 6.0316555e-02, 6.0874706e-02,\n",
       "       6.1438023e-02, 6.2006553e-02, 6.2580345e-02, 6.3159448e-02,\n",
       "       6.3743912e-02, 6.4333784e-02, 6.4929117e-02, 6.5529959e-02,\n",
       "       6.6136363e-02, 6.6748380e-02, 6.7366061e-02, 6.7989460e-02,\n",
       "       6.8618629e-02, 6.9253622e-02, 6.9894492e-02, 7.0541295e-02,\n",
       "       7.1194084e-02, 7.1852916e-02, 7.2517846e-02, 7.3188931e-02,\n",
       "       7.4549795e-02, 7.5239690e-02, 7.5935971e-02, 7.6638697e-02,\n",
       "       7.7347928e-02, 7.8063725e-02, 7.8786148e-02, 7.9515258e-02,\n",
       "       8.0251119e-02, 8.0993791e-02, 8.1743339e-02, 8.2499826e-02,\n",
       "       8.3263317e-02, 8.4033875e-02, 8.4811568e-02, 8.5596460e-02,\n",
       "       8.6388619e-02, 8.7188113e-02, 8.7995008e-02, 8.8809374e-02,\n",
       "       8.9631280e-02, 9.0460796e-02, 9.1297992e-02, 9.2142940e-02,\n",
       "       9.2995712e-02, 9.3856379e-02, 9.4725016e-02, 9.5601696e-02,\n",
       "       9.6486494e-02, 9.7379486e-02, 9.8280746e-02, 9.9190352e-02,\n",
       "       1.0010838e-01, 1.0103491e-01, 1.0197002e-01, 1.0291380e-01,\n",
       "       1.0386631e-01, 1.0482764e-01, 1.0579788e-01, 1.0677710e-01,\n",
       "       1.0776539e-01, 1.0876284e-01, 1.0976952e-01, 1.1078553e-01,\n",
       "       1.1181095e-01, 1.1284587e-01, 1.1389037e-01, 1.1494455e-01,\n",
       "       1.1600850e-01, 1.1708230e-01, 1.1816605e-01, 1.1925984e-01,\n",
       "       1.2036377e-01, 1.2147792e-01, 1.2260239e-01, 1.2373729e-01,\n",
       "       1.2488269e-01, 1.2603872e-01, 1.2720545e-01, 1.2838300e-01,\n",
       "       1.2957145e-01, 1.3077093e-01, 1.3198151e-01, 1.3320332e-01,\n",
       "       1.3443645e-01, 1.3568102e-01, 1.3693711e-01, 1.3820485e-01,\n",
       "       1.3948435e-01, 1.4077570e-01, 1.4207903e-01, 1.4339443e-01,\n",
       "       1.4472204e-01, 1.4606195e-01, 1.4741429e-01, 1.4877917e-01,\n",
       "       1.5015670e-01, 1.5154701e-01, 1.5295021e-01, 1.5436643e-01,\n",
       "       1.5579578e-01, 1.5723839e-01, 1.5869438e-01, 1.6016388e-01,\n",
       "       1.6164702e-01, 1.6314391e-01, 1.6465469e-01, 1.6617949e-01,\n",
       "       1.6771844e-01, 1.6927167e-01, 1.7083932e-01, 1.7242151e-01,\n",
       "       1.7401840e-01, 1.7563010e-01, 1.7725677e-01, 1.7889854e-01,\n",
       "       1.8055556e-01, 1.8222796e-01, 1.8391589e-01, 1.8561950e-01,\n",
       "       1.8733893e-01, 1.8907433e-01, 1.9082585e-01, 1.9259365e-01,\n",
       "       1.9437787e-01, 1.9617867e-01, 1.9799620e-01, 1.9983062e-01,\n",
       "       2.0168210e-01, 2.0355079e-01, 2.0543684e-01, 2.0734044e-01,\n",
       "       2.0926173e-01, 2.1120089e-01, 2.1315809e-01, 2.1513349e-01,\n",
       "       2.1712727e-01, 2.1913960e-01, 2.2117066e-01, 2.2322061e-01,\n",
       "       2.2528964e-01, 2.2737794e-01, 2.2948567e-01, 2.3161303e-01,\n",
       "       2.3376020e-01, 2.3592736e-01, 2.3811472e-01, 2.4032245e-01,\n",
       "       2.4255075e-01, 2.4479981e-01, 2.4706984e-01, 2.4936102e-01,\n",
       "       2.5167357e-01, 2.5400768e-01, 2.5636356e-01, 2.5874141e-01,\n",
       "       2.6114144e-01, 2.6356387e-01, 2.6600891e-01, 2.6847676e-01,\n",
       "       2.7096766e-01, 2.7348181e-01, 2.7601945e-01, 2.7858078e-01,\n",
       "       2.8116605e-01, 2.8377548e-01, 2.8640929e-01, 2.8906772e-01,\n",
       "       2.9175102e-01, 2.9445940e-01, 2.9719312e-01, 2.9995242e-01,\n",
       "       3.0273754e-01, 3.0554873e-01, 3.0838624e-01, 3.1125032e-01,\n",
       "       3.1414124e-01, 3.1705923e-01, 3.2000458e-01, 3.2297753e-01,\n",
       "       3.2597836e-01, 3.2900733e-01, 3.3206472e-01, 3.3515080e-01,\n",
       "       3.3826584e-01, 3.4141014e-01, 3.4458396e-01, 3.4778760e-01,\n",
       "       3.5102135e-01, 3.5428549e-01, 3.5758032e-01, 3.6090615e-01,\n",
       "       3.6426327e-01, 3.6765198e-01, 3.7107260e-01, 3.7452544e-01,\n",
       "       3.7801080e-01, 3.8152901e-01, 3.8508039e-01, 3.8866526e-01,\n",
       "       3.9228396e-01, 3.9593680e-01, 3.9962414e-01, 4.0334630e-01,\n",
       "       4.0710363e-01, 4.1089647e-01, 4.1472519e-01, 4.1859012e-01,\n",
       "       4.2249162e-01, 4.2643007e-01, 4.3040582e-01, 4.3441924e-01,\n",
       "       4.3847072e-01, 4.4256061e-01, 4.4668932e-01, 4.5085722e-01,\n",
       "       4.5506470e-01, 4.5931217e-01, 4.6360001e-01, 4.6792864e-01,\n",
       "       4.7229846e-01, 4.7670988e-01, 4.8116333e-01, 4.8565922e-01,\n",
       "       4.9019798e-01, 4.9478005e-01, 4.9940587e-01, 5.0407587e-01,\n",
       "       5.0879050e-01, 5.1355022e-01, 5.1835548e-01, 5.2320675e-01,\n",
       "       5.2810450e-01, 5.3304919e-01, 5.3804132e-01, 5.4308136e-01,\n",
       "       5.4816981e-01, 5.5330717e-01, 5.5849393e-01, 5.6373061e-01,\n",
       "       5.6901772e-01, 5.7435578e-01, 5.7974533e-01, 5.8518689e-01,\n",
       "       5.9068101e-01, 5.9622823e-01, 6.0182911e-01, 6.0748420e-01,\n",
       "       6.1319408e-01, 6.1895933e-01, 6.2478051e-01, 6.3065823e-01,\n",
       "       6.3659307e-01, 6.4258565e-01, 6.4863657e-01, 6.5474645e-01,\n",
       "       6.6091593e-01, 6.6714563e-01, 6.7343620e-01, 6.7978829e-01,\n",
       "       6.8620256e-01, 6.9267967e-01, 6.9922032e-01, 7.0582517e-01,\n",
       "       7.1249493e-01, 7.1923031e-01, 7.2603200e-01, 7.3290074e-01,\n",
       "       7.3983726e-01, 7.4684230e-01, 7.5391661e-01, 7.6106096e-01,\n",
       "       7.6827611e-01, 7.7556285e-01, 7.8292197e-01, 7.9035427e-01,\n",
       "       7.9786057e-01, 8.0544170e-01, 8.1309849e-01, 8.2083179e-01,\n",
       "       8.2864246e-01, 8.3653138e-01, 8.4449942e-01, 8.5254749e-01,\n",
       "       8.6067649e-01, 8.6888735e-01, 8.7718100e-01, 8.8555838e-01,\n",
       "       8.9402047e-01, 9.0256823e-01, 9.1120266e-01, 9.1992476e-01,\n",
       "       9.2873555e-01, 9.3763605e-01, 9.4662733e-01, 9.5571043e-01,\n",
       "       9.6488644e-01, 9.7415645e-01, 9.8352157e-01, 9.9298293e-01,\n",
       "       1.0025417e+00, 1.0121990e+00, 1.0219560e+00, 1.0318139e+00,\n",
       "       1.0417739e+00, 1.0518373e+00, 1.0620053e+00, 1.0722792e+00,\n",
       "       1.0826602e+00, 1.0931497e+00, 1.1037490e+00, 1.1144594e+00,\n",
       "       1.1252823e+00, 1.1362191e+00, 1.1472712e+00, 1.1584400e+00,\n",
       "       1.1697271e+00, 1.1811337e+00, 1.1926616e+00, 1.2043121e+00,\n",
       "       1.2160868e+00, 1.2279873e+00, 1.2400151e+00, 1.2521720e+00,\n",
       "       1.2644595e+00, 1.2768793e+00, 1.2894331e+00, 1.3021227e+00,\n",
       "       1.3149497e+00, 1.3279159e+00, 1.3410232e+00, 1.3542733e+00,\n",
       "       1.3676682e+00, 1.3812097e+00, 1.3948998e+00, 1.4087404e+00,\n",
       "       1.4227334e+00, 1.4368809e+00, 1.4511849e+00, 1.4656476e+00,\n",
       "       1.4802709e+00, 1.4950571e+00, 1.5100083e+00, 1.5251268e+00,\n",
       "       1.5404147e+00, 1.5558744e+00, 1.5715082e+00, 1.5873184e+00,\n",
       "       1.6033074e+00, 1.6194777e+00, 1.6358317e+00, 1.6523718e+00,\n",
       "       1.6691008e+00, 1.6860210e+00, 1.7031353e+00, 1.7204461e+00,\n",
       "       1.7379563e+00, 1.7556685e+00, 1.7735856e+00, 1.7917104e+00,\n",
       "       1.8100458e+00, 1.8285946e+00, 1.8473599e+00, 1.8663446e+00,\n",
       "       1.8855518e+00, 1.9049846e+00, 1.9246462e+00, 1.9445397e+00,\n",
       "       1.9646684e+00, 1.9850355e+00, 2.0056445e+00, 2.0264986e+00,\n",
       "       2.0476013e+00, 2.0689562e+00, 2.0905666e+00, 2.1124362e+00,\n",
       "       2.1345687e+00, 2.1569677e+00, 2.1796369e+00, 2.2025802e+00,\n",
       "       2.2258013e+00, 2.2493042e+00, 2.2730927e+00, 2.2971709e+00,\n",
       "       2.3215428e+00, 2.3462125e+00, 2.3711842e+00, 2.3964620e+00,\n",
       "       2.4220501e+00, 2.4479529e+00, 2.4741748e+00, 2.5007201e+00,\n",
       "       2.5275932e+00, 2.5547988e+00, 2.5823412e+00, 2.6102251e+00,\n",
       "       2.6384552e+00, 2.6670362e+00, 2.6959728e+00, 2.7252697e+00,\n",
       "       2.7549318e+00, 2.7849641e+00, 2.8153713e+00, 2.8461585e+00,\n",
       "       2.8773308e+00, 2.9088930e+00, 2.9408503e+00, 2.9732079e+00,\n",
       "       3.0059709e+00, 3.0391444e+00, 3.0727337e+00, 3.1067441e+00,\n",
       "       3.1411808e+00, 3.1760492e+00, 3.2113545e+00, 3.2471022e+00,\n",
       "       3.2832975e+00, 3.3199459e+00, 3.3570528e+00, 3.3946236e+00,\n",
       "       3.4326637e+00, 3.4711786e+00, 3.5101736e+00, 3.5496543e+00,\n",
       "       3.5896259e+00, 3.6300940e+00, 3.6710639e+00, 3.7125411e+00,\n",
       "       3.7545309e+00, 3.7970386e+00, 3.8400695e+00, 3.8836290e+00,\n",
       "       3.9277223e+00, 3.9723546e+00, 4.0175311e+00, 4.0632568e+00,\n",
       "       4.1095369e+00, 4.1563764e+00, 4.2037801e+00, 4.2517530e+00,\n",
       "       4.3002999e+00, 4.3494255e+00, 4.3991345e+00, 4.4494313e+00,\n",
       "       4.5003205e+00, 4.5518065e+00, 4.6038934e+00, 4.6565856e+00,\n",
       "       4.7098870e+00, 4.7638016e+00, 4.8183333e+00, 4.8734856e+00,\n",
       "       4.9292623e+00, 4.9856668e+00, 5.0427024e+00, 5.1003723e+00,\n",
       "       5.1586795e+00, 5.2176270e+00, 5.2772175e+00, 5.3374537e+00,\n",
       "       5.3983381e+00, 5.4598729e+00, 5.5220604e+00, 5.5849027e+00,\n",
       "       5.6484015e+00, 5.7125587e+00, 5.7773759e+00, 5.8428546e+00,\n",
       "       5.9089959e+00, 5.9758012e+00, 6.0432715e+00, 6.1114077e+00,\n",
       "       6.1802105e+00, 6.2496807e+00, 6.3198188e+00, 6.3906251e+00,\n",
       "       6.4621001e+00, 6.5342440e+00, 6.6070568e+00, 6.6805388e+00,\n",
       "       6.7546898e+00, 6.8295097e+00, 6.9049985e+00, 6.9811560e+00,\n",
       "       7.0579819e+00, 7.1354760e+00, 7.2136382e+00, 7.2924681e+00,\n",
       "       7.3719655e+00, 7.4521302e+00, 7.5329621e+00, 7.6144610e+00,\n",
       "       7.6966270e+00, 7.7794600e+00, 7.8629602e+00, 7.9471277e+00,\n",
       "       8.0319631e+00, 8.1174667e+00, 8.2036391e+00, 8.2904812e+00,\n",
       "       8.3779938e+00, 8.4661782e+00, 8.5550356e+00, 8.6445676e+00,\n",
       "       8.7347759e+00, 8.8256625e+00, 8.9172296e+00, 9.0094796e+00,\n",
       "       9.1024153e+00, 9.1960397e+00, 9.2903559e+00, 9.3853675e+00,\n",
       "       9.4810784e+00, 9.5774926e+00, 9.6746145e+00, 9.7724488e+00,\n",
       "       9.8710005e+00, 9.9702750e+00, 1.0070278e+01, 1.0171015e+01,\n",
       "       1.0272493e+01, 1.0374717e+01, 1.0477696e+01, 1.0581436e+01,\n",
       "       1.0685945e+01, 1.0791229e+01, 1.0897299e+01, 1.1004161e+01,\n",
       "       1.1111825e+01, 1.1220300e+01, 1.1329594e+01, 1.1439718e+01,\n",
       "       1.1550681e+01, 1.1662493e+01, 1.1775165e+01, 1.1888707e+01,\n",
       "       1.2003130e+01, 1.2118445e+01, 1.2234663e+01, 1.2351797e+01,\n",
       "       1.2469857e+01, 1.2588856e+01, 1.2708806e+01, 1.2829719e+01,\n",
       "       1.2951607e+01, 1.3074484e+01, 1.3198362e+01, 1.3323254e+01,\n",
       "       1.3449174e+01, 1.3576134e+01, 1.3704149e+01, 1.3833231e+01,\n",
       "       1.3963395e+01, 1.4094654e+01, 1.4227022e+01, 1.4360513e+01,\n",
       "       1.4495142e+01, 1.4630922e+01, 1.4767868e+01, 1.4905994e+01,\n",
       "       1.5045315e+01, 1.5185845e+01, 1.5327599e+01, 1.5470592e+01,\n",
       "       1.5614837e+01, 1.5760351e+01, 1.5907147e+01, 1.6055242e+01,\n",
       "       1.6204649e+01, 1.6355383e+01, 1.6507461e+01, 1.6660896e+01,\n",
       "       1.6815705e+01, 1.6971902e+01, 1.7129502e+01, 1.7288522e+01,\n",
       "       1.7448976e+01, 1.7610879e+01, 1.7774248e+01, 1.7939097e+01,\n",
       "       1.8105443e+01, 1.8273301e+01, 1.8442687e+01, 1.8613616e+01,\n",
       "       1.8786105e+01, 1.8960168e+01, 1.9135823e+01, 1.9313086e+01,\n",
       "       1.9491972e+01, 1.9672497e+01, 1.9854679e+01, 2.0038533e+01,\n",
       "       2.0224076e+01, 2.0411324e+01, 2.0600294e+01, 2.0791003e+01,\n",
       "       2.0983468e+01, 2.1177705e+01, 2.1373732e+01, 2.1571567e+01,\n",
       "       2.1771225e+01, 2.1972725e+01, 2.2176084e+01, 2.2381320e+01,\n",
       "       2.2588450e+01, 2.2797493e+01, 2.3008467e+01, 2.3221390e+01,\n",
       "       2.3436280e+01, 2.3653155e+01, 2.3872035e+01, 2.4092938e+01,\n",
       "       2.4315883e+01, 2.4540889e+01, 2.4767975e+01, 2.4997161e+01,\n",
       "       2.5228467e+01, 2.5461911e+01, 2.5697515e+01, 2.5935298e+01,\n",
       "       2.6175280e+01, 2.6417482e+01, 2.6661924e+01, 2.6908628e+01,\n",
       "       2.7157614e+01, 2.7408903e+01, 2.7662517e+01, 2.7918477e+01,\n",
       "       2.8176806e+01, 2.8437524e+01, 2.8700655e+01, 2.8966220e+01,\n",
       "       2.9234242e+01, 2.9504744e+01, 2.9777749e+01, 3.0053280e+01,\n",
       "       3.0331360e+01, 3.0612013e+01, 3.0895263e+01, 3.1181133e+01,\n",
       "       3.1469649e+01, 3.1760835e+01, 3.2054714e+01, 3.2351313e+01,\n",
       "       3.2650656e+01, 3.2952769e+01, 3.3257677e+01, 3.3565407e+01,\n",
       "       3.3875984e+01, 3.4189435e+01, 3.4505786e+01, 3.4825064e+01,\n",
       "       3.5147296e+01, 3.5472510e+01, 3.5800733e+01, 3.6131993e+01,\n",
       "       3.6466319e+01, 3.6803737e+01, 3.7144278e+01, 3.7487970e+01,\n",
       "       3.7834842e+01, 3.8184923e+01, 3.8538244e+01, 3.8894834e+01,\n",
       "       3.9254723e+01, 3.9617943e+01, 3.9984523e+01, 4.0354495e+01,\n",
       "       4.0727891e+01, 4.1104742e+01, 4.1485079e+01, 4.1868936e+01,\n",
       "       4.2256344e+01, 4.2647337e+01, 4.3041948e+01, 4.3440211e+01,\n",
       "       4.3842158e+01, 4.4247824e+01, 4.4657244e+01, 4.5070453e+01,\n",
       "       4.5487485e+01, 4.5908375e+01, 4.6333160e+01, 4.6761876e+01,\n",
       "       4.7194558e+01, 4.7631244e+01, 4.8071970e+01, 4.8516775e+01,\n",
       "       4.8965695e+01, 4.9418769e+01, 4.9876035e+01, 5.0337532e+01,\n",
       "       5.0803300e+01, 5.1273377e+01, 5.1747804e+01, 5.2226620e+01,\n",
       "       5.2709867e+01, 5.3197586e+01, 5.3689817e+01, 5.4186603e+01,\n",
       "       5.4687985e+01, 5.5194007e+01, 5.5704711e+01, 5.6220140e+01,\n",
       "       5.6740338e+01, 5.7265350e+01, 5.7795220e+01, 5.8329993e+01,\n",
       "       5.8869713e+01, 5.9414428e+01, 5.9964183e+01, 6.0519025e+01,\n",
       "       6.1079001e+01, 6.1644158e+01, 6.2214544e+01, 6.2790208e+01,\n",
       "       6.3371199e+01, 6.3957565e+01, 6.4549357e+01, 6.5146625e+01,\n",
       "       6.5749419e+01, 6.6357791e+01, 6.6971792e+01, 6.7591475e+01,\n",
       "       6.8216891e+01, 6.8848094e+01, 6.9485138e+01, 7.0128076e+01,\n",
       "       7.0776963e+01, 7.1431854e+01, 7.2092805e+01, 7.2759871e+01,\n",
       "       7.3433110e+01, 7.4112578e+01, 7.4798333e+01, 7.5490434e+01,\n",
       "       7.6188938e+01, 7.6893906e+01, 7.7605396e+01, 7.8323470e+01,\n",
       "       7.9048189e+01, 7.9779612e+01, 8.0517804e+01, 8.1262826e+01,\n",
       "       8.2014742e+01, 8.2773615e+01, 8.3539510e+01, 8.4312491e+01,\n",
       "       8.5092625e+01, 8.5879977e+01, 8.6674615e+01, 8.7476605e+01,\n",
       "       8.8286017e+01, 8.9102917e+01, 8.9927376e+01, 9.0759464e+01,\n",
       "       9.1599251e+01, 9.2446808e+01, 9.3302208e+01, 9.4165523e+01,\n",
       "       9.5036826e+01, 9.5916191e+01, 9.6803692e+01, 9.7699406e+01,\n",
       "       9.8603407e+01, 9.9515773e+01, 1.0043658e+02, 1.0136591e+02,\n",
       "       1.0230384e+02, 1.0325044e+02, 1.0420581e+02, 1.0517001e+02,\n",
       "       1.0614314e+02, 1.0712527e+02, 1.0811649e+02, 1.0911688e+02,\n",
       "       1.1012652e+02, 1.1114551e+02, 1.1217393e+02, 1.1321186e+02,\n",
       "       1.1425940e+02, 1.1531662e+02, 1.1638364e+02, 1.1746052e+02,\n",
       "       1.1854737e+02, 1.1964427e+02, 1.2075133e+02, 1.2186863e+02,\n",
       "       1.2299626e+02, 1.2413433e+02, 1.2528294e+02, 1.2644216e+02,\n",
       "       1.2761212e+02, 1.2879290e+02, 1.2998461e+02, 1.3118734e+02,\n",
       "       1.3240120e+02, 1.3362629e+02, 1.3486272e+02, 1.3611059e+02,\n",
       "       1.3737001e+02, 1.3864108e+02, 1.3992391e+02, 1.4121861e+02,\n",
       "       1.4252529e+02, 1.4384406e+02, 1.4517503e+02, 1.4651832e+02,\n",
       "       1.4787403e+02, 1.4924230e+02, 1.5062322e+02, 1.5201692e+02,\n",
       "       1.5342351e+02, 1.5484312e+02, 1.5627587e+02, 1.5772187e+02,\n",
       "       1.5918125e+02, 1.6065414e+02, 1.6214065e+02, 1.6364092e+02,\n",
       "       1.6515507e+02, 1.6668324e+02, 1.6822554e+02, 1.6978211e+02,\n",
       "       1.7135308e+02, 1.7293859e+02, 1.7453877e+02, 1.7615376e+02,\n",
       "       1.7778369e+02, 1.7942870e+02, 1.8108894e+02, 1.8276453e+02,\n",
       "       1.8445563e+02, 1.8616238e+02, 1.8788492e+02, 1.8962340e+02,\n",
       "       1.9137796e+02, 1.9314876e+02, 1.9493594e+02, 1.9673966e+02,\n",
       "       1.9856007e+02, 2.0039733e+02, 2.0225158e+02, 2.0412299e+02,\n",
       "       2.0601172e+02, 2.0791792e+02, 2.0984176e+02, 2.1178340e+02,\n",
       "       2.1374301e+02, 2.1572075e+02, 2.1771679e+02, 2.1973130e+02,\n",
       "       2.2176445e+02, 2.2381641e+02, 2.2588736e+02, 2.2797747e+02,\n",
       "       2.3008692e+02, 2.3221588e+02, 2.3436455e+02, 2.3653310e+02,\n",
       "       2.3872171e+02, 2.4093058e+02, 2.4315988e+02, 2.4540981e+02,\n",
       "       2.4768056e+02, 2.4997232e+02, 2.5228529e+02, 2.5461965e+02,\n",
       "       2.5697562e+02, 2.5935339e+02, 2.6175315e+02, 2.6417513e+02,\n",
       "       2.6661951e+02, 2.6908651e+02, 2.7157633e+02, 2.7408920e+02,\n",
       "       2.7662532e+02, 2.7918490e+02, 2.8176816e+02, 2.8437533e+02,\n",
       "       2.8700663e+02, 2.8966226e+02, 2.9234248e+02, 2.9504749e+02,\n",
       "       2.9777753e+02, 3.0053283e+02, 3.0331363e+02, 3.0612015e+02,\n",
       "       3.0895265e+02, 3.1181135e+02, 3.1469651e+02, 3.1760836e+02,\n",
       "       3.2054715e+02, 3.2351314e+02, 3.2650657e+02, 3.2952770e+02,\n",
       "       3.3257678e+02, 3.3565407e+02, 3.3875984e+02, 3.4189435e+02,\n",
       "       3.4505786e+02, 3.4825064e+02, 3.5147296e+02, 3.5472510e+02,\n",
       "       3.5800733e+02, 3.6131993e+02, 3.6466319e+02, 3.6803737e+02,\n",
       "       3.7144278e+02, 3.7487970e+02, 3.7834842e+02, 3.8184923e+02,\n",
       "       3.8538244e+02, 3.8894834e+02, 3.9254723e+02, 3.9617943e+02,\n",
       "       3.9984523e+02, 4.0354495e+02, 4.0727891e+02, 4.1104742e+02,\n",
       "       4.1485079e+02, 4.1868936e+02, 4.2256344e+02, 4.2647337e+02,\n",
       "       4.3041948e+02, 4.3440211e+02, 4.3842158e+02, 4.4247824e+02,\n",
       "       4.4657244e+02, 4.5070453e+02, 4.5487485e+02, 4.5908375e+02,\n",
       "       4.6333160e+02, 4.6761876e+02, 4.7194558e+02, 4.7631244e+02,\n",
       "       4.8071970e+02, 4.8516775e+02, 4.8965695e+02, 4.9418769e+02,\n",
       "       4.9876035e+02, 5.0337532e+02, 5.0803300e+02, 5.1273377e+02,\n",
       "       5.1747804e+02, 5.2226620e+02, 5.2709867e+02, 5.3197586e+02,\n",
       "       5.3689817e+02, 5.4186603e+02, 5.4687985e+02, 5.5194007e+02,\n",
       "       5.5704711e+02, 5.6220140e+02, 5.6740338e+02, 5.7265350e+02,\n",
       "       5.7795220e+02, 5.8329993e+02, 5.8869713e+02, 5.9414428e+02,\n",
       "       5.9964183e+02, 6.0519025e+02, 6.1079001e+02, 6.1644158e+02,\n",
       "       6.2214544e+02, 6.2790208e+02, 6.3371199e+02, 6.3957565e+02,\n",
       "       6.4549357e+02, 6.5146625e+02, 6.5749419e+02, 6.6357791e+02,\n",
       "       6.6971792e+02, 6.7591475e+02, 6.8216891e+02, 6.8848094e+02,\n",
       "       6.9485138e+02, 7.0128076e+02, 7.0776963e+02, 7.1431854e+02])"
      ]
     },
     "execution_count": 11,
     "metadata": {},
     "output_type": "execute_result"
    }
   ],
   "source": [
    "Nudec[:,5]"
   ]
  },
  {
   "cell_type": "code",
   "execution_count": 12,
   "metadata": {},
   "outputs": [
    {
     "data": {
      "text/plain": [
       "array([1.0000000e+01, 9.9083194e+00, 9.8174794e+00, 9.7274722e+00,\n",
       "       9.6382902e+00, 9.5499259e+00, 9.4623716e+00, 9.3756201e+00,\n",
       "       9.2896639e+00, 9.2044957e+00, 9.1201084e+00, 9.0364947e+00,\n",
       "       8.9536477e+00, 8.8715601e+00, 8.7902252e+00, 8.7096359e+00,\n",
       "       8.6297855e+00, 8.5506671e+00, 8.4722741e+00, 8.3945999e+00,\n",
       "       8.3176377e+00, 8.2413812e+00, 8.1658237e+00, 8.0909590e+00,\n",
       "       8.0167806e+00, 7.9432823e+00, 7.8704579e+00, 7.7983011e+00,\n",
       "       7.7268059e+00, 7.6559661e+00, 7.5857758e+00, 7.5162289e+00,\n",
       "       7.4473197e+00, 7.3790423e+00, 7.3113908e+00, 7.2443596e+00,\n",
       "       7.1779429e+00, 7.1121351e+00, 7.0469307e+00, 6.9823240e+00,\n",
       "       6.8548823e+00, 6.7920363e+00, 6.7297666e+00, 6.6680677e+00,\n",
       "       6.6069345e+00, 6.5463617e+00, 6.4863443e+00, 6.4268772e+00,\n",
       "       6.3679552e+00, 6.3095734e+00, 6.2517269e+00, 6.1944108e+00,\n",
       "       6.1376201e+00, 6.0813500e+00, 6.0255959e+00, 5.9703529e+00,\n",
       "       5.9156163e+00, 5.8613816e+00, 5.8076442e+00, 5.7543994e+00,\n",
       "       5.7016427e+00, 5.6493697e+00, 5.5975760e+00, 5.5462571e+00,\n",
       "       5.4954087e+00, 5.4450265e+00, 5.3951062e+00, 5.3456436e+00,\n",
       "       5.2966344e+00, 5.2480746e+00, 5.1999600e+00, 5.1522864e+00,\n",
       "       5.1050500e+00, 5.0582466e+00, 5.0118723e+00, 4.9659232e+00,\n",
       "       4.9203954e+00, 4.8752849e+00, 4.8305880e+00, 4.7863009e+00,\n",
       "       4.7424199e+00, 4.6989411e+00, 4.6558609e+00, 4.6131757e+00,\n",
       "       4.5708819e+00, 4.5289758e+00, 4.4874539e+00, 4.4463127e+00,\n",
       "       4.4055486e+00, 4.3651583e+00, 4.3251383e+00, 4.2854852e+00,\n",
       "       4.2461956e+00, 4.2072663e+00, 4.1686938e+00, 4.1304750e+00,\n",
       "       4.0926066e+00, 4.0550854e+00, 4.0179081e+00, 3.9810717e+00,\n",
       "       3.9445730e+00, 3.9084090e+00, 3.8725764e+00, 3.8370725e+00,\n",
       "       3.8018940e+00, 3.7670380e+00, 3.7325016e+00, 3.6982818e+00,\n",
       "       3.6643757e+00, 3.6307805e+00, 3.5974934e+00, 3.5645113e+00,\n",
       "       3.5318317e+00, 3.4994517e+00, 3.4673685e+00, 3.4355795e+00,\n",
       "       3.4040819e+00, 3.3728731e+00, 3.3419504e+00, 3.3113112e+00,\n",
       "       3.2809529e+00, 3.2508730e+00, 3.2210688e+00, 3.1915379e+00,\n",
       "       3.1622777e+00, 3.1332857e+00, 3.1045596e+00, 3.0760968e+00,\n",
       "       3.0478950e+00, 3.0199517e+00, 2.9922646e+00, 2.9648314e+00,\n",
       "       2.9376497e+00, 2.9107171e+00, 2.8840315e+00, 2.8575905e+00,\n",
       "       2.8313920e+00, 2.8054336e+00, 2.7797133e+00, 2.7542287e+00,\n",
       "       2.7289778e+00, 2.7039584e+00, 2.6791683e+00, 2.6546056e+00,\n",
       "       2.6302680e+00, 2.6061535e+00, 2.5822602e+00, 2.5585859e+00,\n",
       "       2.5351286e+00, 2.5118864e+00, 2.4888573e+00, 2.4660393e+00,\n",
       "       2.4434306e+00, 2.4210290e+00, 2.3988329e+00, 2.3768403e+00,\n",
       "       2.3550493e+00, 2.3334581e+00, 2.3120648e+00, 2.2908677e+00,\n",
       "       2.2698649e+00, 2.2490546e+00, 2.2284351e+00, 2.2080047e+00,\n",
       "       2.1877616e+00, 2.1677041e+00, 2.1478305e+00, 2.1281390e+00,\n",
       "       2.1086281e+00, 2.0892961e+00, 2.0701413e+00, 2.0511622e+00,\n",
       "       2.0323570e+00, 2.0137242e+00, 1.9952623e+00, 1.9769696e+00,\n",
       "       1.9588447e+00, 1.9408859e+00, 1.9230917e+00, 1.9054607e+00,\n",
       "       1.8879913e+00, 1.8706821e+00, 1.8535316e+00, 1.8365383e+00,\n",
       "       1.8197009e+00, 1.8030177e+00, 1.7864876e+00, 1.7701090e+00,\n",
       "       1.7538805e+00, 1.7378008e+00, 1.7218686e+00, 1.7060824e+00,\n",
       "       1.6904409e+00, 1.6749429e+00, 1.6595869e+00, 1.6443717e+00,\n",
       "       1.6292960e+00, 1.6143586e+00, 1.5995580e+00, 1.5848932e+00,\n",
       "       1.5703628e+00, 1.5559656e+00, 1.5417005e+00, 1.5275661e+00,\n",
       "       1.5135612e+00, 1.4996848e+00, 1.4859356e+00, 1.4723125e+00,\n",
       "       1.4588143e+00, 1.4454398e+00, 1.4321879e+00, 1.4190575e+00,\n",
       "       1.4060475e+00, 1.3931568e+00, 1.3803843e+00, 1.3677288e+00,\n",
       "       1.3551894e+00, 1.3427650e+00, 1.3304544e+00, 1.3182567e+00,\n",
       "       1.3061709e+00, 1.2941958e+00, 1.2823306e+00, 1.2705741e+00,\n",
       "       1.2589254e+00, 1.2473835e+00, 1.2359474e+00, 1.2246162e+00,\n",
       "       1.2133889e+00, 1.2022644e+00, 1.1912420e+00, 1.1803206e+00,\n",
       "       1.1694994e+00, 1.1587774e+00, 1.1481536e+00, 1.1376273e+00,\n",
       "       1.1271975e+00, 1.1168632e+00, 1.1066238e+00, 1.0964782e+00,\n",
       "       1.0864256e+00, 1.0764652e+00, 1.0665961e+00, 1.0568175e+00,\n",
       "       1.0471285e+00, 1.0375284e+00, 1.0280163e+00, 1.0185914e+00,\n",
       "       1.0092529e+00, 1.0000000e+00, 9.9083194e-01, 9.8174794e-01,\n",
       "       9.7274722e-01, 9.6382902e-01, 9.5499259e-01, 9.4623716e-01,\n",
       "       9.3756201e-01, 9.2896639e-01, 9.2044957e-01, 9.1201084e-01,\n",
       "       9.0364947e-01, 8.9536477e-01, 8.8715601e-01, 8.7902252e-01,\n",
       "       8.7096359e-01, 8.6297855e-01, 8.5506671e-01, 8.4722741e-01,\n",
       "       8.3945999e-01, 8.3176377e-01, 8.2413812e-01, 8.1658237e-01,\n",
       "       8.0909590e-01, 8.0167806e-01, 7.9432823e-01, 7.8704579e-01,\n",
       "       7.7983011e-01, 7.7268059e-01, 7.6559661e-01, 7.5857758e-01,\n",
       "       7.5162289e-01, 7.4473197e-01, 7.3790423e-01, 7.3113908e-01,\n",
       "       7.2443596e-01, 7.1779429e-01, 7.1121351e-01, 7.0469307e-01,\n",
       "       6.9823240e-01, 6.9183097e-01, 6.8548823e-01, 6.7920363e-01,\n",
       "       6.7297666e-01, 6.6680677e-01, 6.6069345e-01, 6.5463617e-01,\n",
       "       6.4863443e-01, 6.4268772e-01, 6.3679552e-01, 6.3095734e-01,\n",
       "       6.2517269e-01, 6.1944108e-01, 6.1376201e-01, 6.0813500e-01,\n",
       "       6.0255959e-01, 5.9703529e-01, 5.9156163e-01, 5.8613816e-01,\n",
       "       5.8076442e-01, 5.7543994e-01, 5.7016427e-01, 5.6493697e-01,\n",
       "       5.5975760e-01, 5.5462571e-01, 5.4954087e-01, 5.4450265e-01,\n",
       "       5.3951062e-01, 5.3456436e-01, 5.2966344e-01, 5.2480746e-01,\n",
       "       5.1999600e-01, 5.1522864e-01, 5.1050500e-01, 5.0582466e-01,\n",
       "       5.0118723e-01, 4.9659232e-01, 4.9203954e-01, 4.8752849e-01,\n",
       "       4.8305880e-01, 4.7863009e-01, 4.7424199e-01, 4.6989411e-01,\n",
       "       4.6558609e-01, 4.6131757e-01, 4.5708819e-01, 4.5289758e-01,\n",
       "       4.4874539e-01, 4.4463127e-01, 4.4055486e-01, 4.3651583e-01,\n",
       "       4.3251383e-01, 4.2854852e-01, 4.2461956e-01, 4.2072663e-01,\n",
       "       4.1686938e-01, 4.1304750e-01, 4.0926066e-01, 4.0550854e-01,\n",
       "       4.0179081e-01, 3.9810717e-01, 3.9445730e-01, 3.9084090e-01,\n",
       "       3.8725764e-01, 3.8370725e-01, 3.8018940e-01, 3.7670380e-01,\n",
       "       3.7325016e-01, 3.6982818e-01, 3.6643757e-01, 3.6307805e-01,\n",
       "       3.5974934e-01, 3.5645113e-01, 3.5318317e-01, 3.4994517e-01,\n",
       "       3.4673685e-01, 3.4355795e-01, 3.4040819e-01, 3.3728731e-01,\n",
       "       3.3419504e-01, 3.3113112e-01, 3.2809529e-01, 3.2508730e-01,\n",
       "       3.2210688e-01, 3.1915379e-01, 3.1622777e-01, 3.1332857e-01,\n",
       "       3.1045596e-01, 3.0760968e-01, 3.0478950e-01, 3.0199517e-01,\n",
       "       2.9922646e-01, 2.9648314e-01, 2.9376497e-01, 2.9107171e-01,\n",
       "       2.8840315e-01, 2.8575905e-01, 2.8313920e-01, 2.8054336e-01,\n",
       "       2.7797133e-01, 2.7542287e-01, 2.7289778e-01, 2.7039584e-01,\n",
       "       2.6791683e-01, 2.6546056e-01, 2.6302680e-01, 2.6061535e-01,\n",
       "       2.5822602e-01, 2.5585859e-01, 2.5351286e-01, 2.5118864e-01,\n",
       "       2.4888573e-01, 2.4660393e-01, 2.4434306e-01, 2.4210290e-01,\n",
       "       2.3988329e-01, 2.3768403e-01, 2.3550493e-01, 2.3334581e-01,\n",
       "       2.3120648e-01, 2.2908677e-01, 2.2698649e-01, 2.2490546e-01,\n",
       "       2.2284351e-01, 2.2080047e-01, 2.1877616e-01, 2.1677041e-01,\n",
       "       2.1478305e-01, 2.1281390e-01, 2.1086281e-01, 2.0892961e-01,\n",
       "       2.0701413e-01, 2.0511622e-01, 2.0323570e-01, 2.0137242e-01,\n",
       "       1.9952623e-01, 1.9769696e-01, 1.9588447e-01, 1.9408859e-01,\n",
       "       1.9230917e-01, 1.9054607e-01, 1.8879913e-01, 1.8706821e-01,\n",
       "       1.8535316e-01, 1.8365383e-01, 1.8197009e-01, 1.8030177e-01,\n",
       "       1.7864876e-01, 1.7701090e-01, 1.7538805e-01, 1.7378008e-01,\n",
       "       1.7218686e-01, 1.7060824e-01, 1.6904409e-01, 1.6749429e-01,\n",
       "       1.6595869e-01, 1.6443717e-01, 1.6292960e-01, 1.6143586e-01,\n",
       "       1.5995580e-01, 1.5848932e-01, 1.5703628e-01, 1.5559656e-01,\n",
       "       1.5417005e-01, 1.5275661e-01, 1.5135612e-01, 1.4996848e-01,\n",
       "       1.4859356e-01, 1.4723125e-01, 1.4588143e-01, 1.4454398e-01,\n",
       "       1.4321879e-01, 1.4190575e-01, 1.4060475e-01, 1.3931568e-01,\n",
       "       1.3803843e-01, 1.3677288e-01, 1.3551894e-01, 1.3427650e-01,\n",
       "       1.3304544e-01, 1.3182567e-01, 1.3061709e-01, 1.2941958e-01,\n",
       "       1.2823306e-01, 1.2705741e-01, 1.2589254e-01, 1.2473835e-01,\n",
       "       1.2359474e-01, 1.2246162e-01, 1.2133889e-01, 1.2022644e-01,\n",
       "       1.1912420e-01, 1.1803206e-01, 1.1694994e-01, 1.1587774e-01,\n",
       "       1.1481536e-01, 1.1376273e-01, 1.1271975e-01, 1.1168632e-01,\n",
       "       1.1066238e-01, 1.0964782e-01, 1.0864256e-01, 1.0764652e-01,\n",
       "       1.0665961e-01, 1.0568175e-01, 1.0471285e-01, 1.0375284e-01,\n",
       "       1.0280163e-01, 1.0185914e-01, 1.0092529e-01, 1.0000000e-01,\n",
       "       9.9083194e-02, 9.8174794e-02, 9.7274722e-02, 9.6382902e-02,\n",
       "       9.5499259e-02, 9.4623716e-02, 9.3756201e-02, 9.2896639e-02,\n",
       "       9.2044957e-02, 9.1201084e-02, 9.0364947e-02, 8.9536477e-02,\n",
       "       8.8715601e-02, 8.7902252e-02, 8.7096359e-02, 8.6297855e-02,\n",
       "       8.5506671e-02, 8.4722741e-02, 8.3945999e-02, 8.3176377e-02,\n",
       "       8.2413812e-02, 8.1658237e-02, 8.0909590e-02, 8.0167806e-02,\n",
       "       7.9432823e-02, 7.8704579e-02, 7.7983011e-02, 7.7268059e-02,\n",
       "       7.6559661e-02, 7.5857758e-02, 7.5162289e-02, 7.4473197e-02,\n",
       "       7.3790423e-02, 7.3113908e-02, 7.2443596e-02, 7.1779429e-02,\n",
       "       7.1121351e-02, 7.0469307e-02, 6.9823240e-02, 6.9183097e-02,\n",
       "       6.8548823e-02, 6.7920363e-02, 6.7297666e-02, 6.6680677e-02,\n",
       "       6.6069345e-02, 6.5463617e-02, 6.4863443e-02, 6.4268772e-02,\n",
       "       6.3679552e-02, 6.3095734e-02, 6.2517269e-02, 6.1944108e-02,\n",
       "       6.1376201e-02, 6.0813500e-02, 6.0255959e-02, 5.9703529e-02,\n",
       "       5.9156163e-02, 5.8613816e-02, 5.8076442e-02, 5.7543994e-02,\n",
       "       5.7016427e-02, 5.6493697e-02, 5.5975760e-02, 5.5462571e-02,\n",
       "       5.4954087e-02, 5.4450265e-02, 5.3951062e-02, 5.3456436e-02,\n",
       "       5.2966344e-02, 5.2480746e-02, 5.1999600e-02, 5.1522864e-02,\n",
       "       5.1050500e-02, 5.0582466e-02, 5.0118723e-02, 4.9659232e-02,\n",
       "       4.9203954e-02, 4.8752849e-02, 4.8305880e-02, 4.7863009e-02,\n",
       "       4.7424199e-02, 4.6989411e-02, 4.6558609e-02, 4.6131757e-02,\n",
       "       4.5708819e-02, 4.5289758e-02, 4.4874539e-02, 4.4463127e-02,\n",
       "       4.4055486e-02, 4.3651583e-02, 4.3251383e-02, 4.2854852e-02,\n",
       "       4.2461956e-02, 4.2072663e-02, 4.1686938e-02, 4.1304750e-02,\n",
       "       4.0926066e-02, 4.0550854e-02, 4.0179081e-02, 3.9810717e-02,\n",
       "       3.9445730e-02, 3.9084090e-02, 3.8725764e-02, 3.8370725e-02,\n",
       "       3.8018940e-02, 3.7670380e-02, 3.7325016e-02, 3.6982818e-02,\n",
       "       3.6643757e-02, 3.6307805e-02, 3.5974934e-02, 3.5645113e-02,\n",
       "       3.5318317e-02, 3.4994517e-02, 3.4673685e-02, 3.4355795e-02,\n",
       "       3.4040819e-02, 3.3728731e-02, 3.3419504e-02, 3.3113112e-02,\n",
       "       3.2809529e-02, 3.2508730e-02, 3.2210688e-02, 3.1915379e-02,\n",
       "       3.1622777e-02, 3.1332857e-02, 3.1045596e-02, 3.0760968e-02,\n",
       "       3.0478950e-02, 3.0199517e-02, 2.9922646e-02, 2.9648314e-02,\n",
       "       2.9376497e-02, 2.9107171e-02, 2.8840315e-02, 2.8575905e-02,\n",
       "       2.8313920e-02, 2.8054336e-02, 2.7797133e-02, 2.7542287e-02,\n",
       "       2.7289778e-02, 2.7039584e-02, 2.6791683e-02, 2.6546056e-02,\n",
       "       2.6302680e-02, 2.6061535e-02, 2.5822602e-02, 2.5585859e-02,\n",
       "       2.5351286e-02, 2.5118864e-02, 2.4888573e-02, 2.4660393e-02,\n",
       "       2.4434306e-02, 2.4210290e-02, 2.3988329e-02, 2.3768403e-02,\n",
       "       2.3550493e-02, 2.3334581e-02, 2.3120648e-02, 2.2908677e-02,\n",
       "       2.2698649e-02, 2.2490546e-02, 2.2284351e-02, 2.2080047e-02,\n",
       "       2.1877616e-02, 2.1677041e-02, 2.1478305e-02, 2.1281390e-02,\n",
       "       2.1086281e-02, 2.0892961e-02, 2.0701413e-02, 2.0511622e-02,\n",
       "       2.0323570e-02, 2.0137242e-02, 1.9952623e-02, 1.9769696e-02,\n",
       "       1.9588447e-02, 1.9408859e-02, 1.9230917e-02, 1.9054607e-02,\n",
       "       1.8879913e-02, 1.8706821e-02, 1.8535316e-02, 1.8365383e-02,\n",
       "       1.8197009e-02, 1.8030177e-02, 1.7864876e-02, 1.7701090e-02,\n",
       "       1.7538805e-02, 1.7378008e-02, 1.7218686e-02, 1.7060824e-02,\n",
       "       1.6904409e-02, 1.6749429e-02, 1.6595869e-02, 1.6443717e-02,\n",
       "       1.6292960e-02, 1.6143586e-02, 1.5995580e-02, 1.5848932e-02,\n",
       "       1.5703628e-02, 1.5559656e-02, 1.5417005e-02, 1.5275661e-02,\n",
       "       1.5135612e-02, 1.4996848e-02, 1.4859356e-02, 1.4723125e-02,\n",
       "       1.4588143e-02, 1.4454398e-02, 1.4321879e-02, 1.4190575e-02,\n",
       "       1.4060475e-02, 1.3931568e-02, 1.3803843e-02, 1.3677288e-02,\n",
       "       1.3551894e-02, 1.3427650e-02, 1.3304544e-02, 1.3182567e-02,\n",
       "       1.3061709e-02, 1.2941958e-02, 1.2823306e-02, 1.2705741e-02,\n",
       "       1.2589254e-02, 1.2473835e-02, 1.2359474e-02, 1.2246162e-02,\n",
       "       1.2133889e-02, 1.2022644e-02, 1.1912420e-02, 1.1803206e-02,\n",
       "       1.1694994e-02, 1.1587774e-02, 1.1481536e-02, 1.1376273e-02,\n",
       "       1.1271975e-02, 1.1168632e-02, 1.1066238e-02, 1.0964782e-02,\n",
       "       1.0864256e-02, 1.0764652e-02, 1.0665961e-02, 1.0568175e-02,\n",
       "       1.0471285e-02, 1.0375284e-02, 1.0280163e-02, 1.0185914e-02,\n",
       "       1.0092529e-02, 1.0000000e-02, 9.9083194e-03, 9.8174794e-03,\n",
       "       9.7274722e-03, 9.6382902e-03, 9.5499259e-03, 9.4623716e-03,\n",
       "       9.3756201e-03, 9.2896639e-03, 9.2044957e-03, 9.1201084e-03,\n",
       "       9.0364947e-03, 8.9536477e-03, 8.8715601e-03, 8.7902252e-03,\n",
       "       8.7096359e-03, 8.6297855e-03, 8.5506671e-03, 8.4722741e-03,\n",
       "       8.3945999e-03, 8.3176377e-03, 8.2413812e-03, 8.1658237e-03,\n",
       "       8.0909590e-03, 8.0167806e-03, 7.9432823e-03, 7.8704579e-03,\n",
       "       7.7983011e-03, 7.7268059e-03, 7.6559661e-03, 7.5857758e-03,\n",
       "       7.5162289e-03, 7.4473197e-03, 7.3790423e-03, 7.3113908e-03,\n",
       "       7.2443596e-03, 7.1779429e-03, 7.1121351e-03, 7.0469307e-03,\n",
       "       6.9823240e-03, 6.9183097e-03, 6.8548823e-03, 6.7920363e-03,\n",
       "       6.7297666e-03, 6.6680677e-03, 6.6069345e-03, 6.5463617e-03,\n",
       "       6.4863443e-03, 6.4268772e-03, 6.3679552e-03, 6.3095734e-03,\n",
       "       6.2517269e-03, 6.1944108e-03, 6.1376201e-03, 6.0813500e-03,\n",
       "       6.0255959e-03, 5.9703529e-03, 5.9156163e-03, 5.8613816e-03,\n",
       "       5.8076442e-03, 5.7543994e-03, 5.7016427e-03, 5.6493697e-03,\n",
       "       5.5975760e-03, 5.5462571e-03, 5.4954087e-03, 5.4450265e-03,\n",
       "       5.3951062e-03, 5.3456436e-03, 5.2966344e-03, 5.2480746e-03,\n",
       "       5.1999600e-03, 5.1522864e-03, 5.1050500e-03, 5.0582466e-03,\n",
       "       5.0118723e-03, 4.9659232e-03, 4.9203954e-03, 4.8752849e-03,\n",
       "       4.8305880e-03, 4.7863009e-03, 4.7424199e-03, 4.6989411e-03,\n",
       "       4.6558609e-03, 4.6131757e-03, 4.5708819e-03, 4.5289758e-03,\n",
       "       4.4874539e-03, 4.4463127e-03, 4.4055486e-03, 4.3651583e-03,\n",
       "       4.3251383e-03, 4.2854852e-03, 4.2461956e-03, 4.2072663e-03,\n",
       "       4.1686938e-03, 4.1304750e-03, 4.0926066e-03, 4.0550854e-03,\n",
       "       4.0179081e-03, 3.9810717e-03, 3.9445730e-03, 3.9084090e-03,\n",
       "       3.8725764e-03, 3.8370725e-03, 3.8018940e-03, 3.7670380e-03,\n",
       "       3.7325016e-03, 3.6982818e-03, 3.6643757e-03, 3.6307805e-03,\n",
       "       3.5974934e-03, 3.5645113e-03, 3.5318317e-03, 3.4994517e-03,\n",
       "       3.4673685e-03, 3.4355795e-03, 3.4040819e-03, 3.3728731e-03,\n",
       "       3.3419504e-03, 3.3113112e-03, 3.2809529e-03, 3.2508730e-03,\n",
       "       3.2210688e-03, 3.1915379e-03, 3.1622777e-03, 3.1332857e-03,\n",
       "       3.1045596e-03, 3.0760968e-03, 3.0478950e-03, 3.0199517e-03,\n",
       "       2.9922646e-03, 2.9648314e-03, 2.9376497e-03, 2.9107171e-03,\n",
       "       2.8840315e-03, 2.8575905e-03, 2.8313920e-03, 2.8054336e-03,\n",
       "       2.7797133e-03, 2.7542287e-03, 2.7289778e-03, 2.7039584e-03,\n",
       "       2.6791683e-03, 2.6546056e-03, 2.6302680e-03, 2.6061535e-03,\n",
       "       2.5822602e-03, 2.5585859e-03, 2.5351286e-03, 2.5118864e-03,\n",
       "       2.4888573e-03, 2.4660393e-03, 2.4434306e-03, 2.4210290e-03,\n",
       "       2.3988329e-03, 2.3768403e-03, 2.3550493e-03, 2.3334581e-03,\n",
       "       2.3120648e-03, 2.2908677e-03, 2.2698649e-03, 2.2490546e-03,\n",
       "       2.2284351e-03, 2.2080047e-03, 2.1877616e-03, 2.1677041e-03,\n",
       "       2.1478305e-03, 2.1281390e-03, 2.1086281e-03, 2.0892961e-03,\n",
       "       2.0701413e-03, 2.0511622e-03, 2.0323570e-03, 2.0137242e-03,\n",
       "       1.9952623e-03, 1.9769696e-03, 1.9588447e-03, 1.9408859e-03,\n",
       "       1.9230917e-03, 1.9054607e-03, 1.8879913e-03, 1.8706821e-03,\n",
       "       1.8535316e-03, 1.8365383e-03, 1.8197009e-03, 1.8030177e-03,\n",
       "       1.7864876e-03, 1.7701090e-03, 1.7538805e-03, 1.7378008e-03,\n",
       "       1.7218686e-03, 1.7060824e-03, 1.6904409e-03, 1.6749429e-03,\n",
       "       1.6595869e-03, 1.6443717e-03, 1.6292960e-03, 1.6143586e-03,\n",
       "       1.5995580e-03, 1.5848932e-03, 1.5703628e-03, 1.5559656e-03,\n",
       "       1.5417005e-03, 1.5275661e-03, 1.5135612e-03, 1.4996848e-03,\n",
       "       1.4859356e-03, 1.4723125e-03, 1.4588143e-03, 1.4454398e-03,\n",
       "       1.4321879e-03, 1.4190575e-03, 1.4060475e-03, 1.3931568e-03,\n",
       "       1.3803843e-03, 1.3677288e-03, 1.3551894e-03, 1.3427650e-03,\n",
       "       1.3304544e-03, 1.3182567e-03, 1.3061709e-03, 1.2941958e-03,\n",
       "       1.2823306e-03, 1.2705741e-03, 1.2589254e-03, 1.2473835e-03,\n",
       "       1.2359474e-03, 1.2246162e-03, 1.2133889e-03, 1.2022644e-03,\n",
       "       1.1912420e-03, 1.1803206e-03, 1.1694994e-03, 1.1587774e-03,\n",
       "       1.1481536e-03, 1.1376273e-03, 1.1271975e-03, 1.1168632e-03,\n",
       "       1.1066238e-03, 1.0964782e-03, 1.0864256e-03, 1.0764652e-03,\n",
       "       1.0665961e-03, 1.0568175e-03, 1.0471285e-03, 1.0375284e-03,\n",
       "       1.0280163e-03, 1.0185914e-03, 1.0092529e-03, 1.0000000e-03])"
      ]
     },
     "execution_count": 12,
     "metadata": {},
     "output_type": "execute_result"
    }
   ],
   "source": [
    "Nudec[:,1]"
   ]
  },
  {
   "cell_type": "code",
   "execution_count": 13,
   "metadata": {},
   "outputs": [
    {
     "data": {
      "text/plain": [
       "0.007382960665019459"
      ]
     },
     "execution_count": 13,
     "metadata": {},
     "output_type": "execute_result"
    }
   ],
   "source": [
    "3/(2*np.sqrt(43/5*G*np.pi**3))/10**2/timeunit"
   ]
  },
  {
   "cell_type": "code",
   "execution_count": 14,
   "metadata": {},
   "outputs": [
    {
     "data": {
      "text/plain": [
       "0.0073866869"
      ]
     },
     "execution_count": 14,
     "metadata": {},
     "output_type": "execute_result"
    }
   ],
   "source": [
    "Nudec[0,0]"
   ]
  },
  {
   "cell_type": "code",
   "execution_count": 15,
   "metadata": {},
   "outputs": [],
   "source": [
    "NudecTsqr=Nudec[:,1]**-2\n",
    "Nudecasqrt=Nudec[:,5]**2\n",
    "Nudecsolt=Nudec[:,0]*timeunit\n",
    "\n",
    "@njit\n",
    "def NudecT_cache(t):   #solve h and T, y[0] = T, y[1] = a\n",
    "    return 1/np.sqrt(np.interp(t,Nudecsolt,NudecTsqr))\n",
    "    #return -np.interp(t,sol.t,-sol.y[0])\n",
    "    #return -interp1d(sol.t,-sol.y[0], kind='linear', copy=True, bounds_error=True, assume_sorted=True)(t)\n",
    "\n",
    "@njit\n",
    "def Nudeca_cache(t):\n",
    "    return np.sqrt(np.interp(t,Nudecsolt,Nudecasqrt))\n",
    "    #return np.interp(t,sol.t,sol.y[1])\n",
    "    #return interp1d(sol.t,sol.y[1], kind='linear', copy=True, bounds_error=True, assume_sorted=True)(t)\n",
    "\n",
    "\n",
    "#n_b_ini=eta*(1.20206*2/np.pi**2*T_cache(t_range[1])**3)*a_cache( t_range[1])**3\n",
    "\n",
    "\n",
    "Nudecn_b_ini=eta*(1.20206*2/np.pi**2*NudecT_cache(Nudecsolt[-1])**3)*Nudeca_cache(Nudecsolt[-1])**3\n",
    "    "
   ]
  },
  {
   "cell_type": "code",
   "execution_count": 16,
   "metadata": {},
   "outputs": [
    {
     "name": "stdout",
     "output_type": "stream",
     "text": [
      "2.2641798198795177e+20\n",
      "2.0716435021692168e+20\n",
      "2.0716435021692168e+20\n"
     ]
    }
   ],
   "source": [
    "#Load precise Alterbbn data\n",
    "data=np.loadtxt('./Alterdata/output.txt',skiprows=2)\n",
    "\n",
    "'''\n",
    "#run Alterbbn with chosen integration routine\n",
    "failsafe=12\n",
    "subprocess.run([\"/home/hansbdein/Speciale/alterbbn_v2.2/no_err_calc.x\", str(failsafe)], capture_output=True)\n",
    "data=np.loadtxt('./output.txt',skiprows=2)\n",
    "'''\n",
    "\n",
    "\n",
    "#remove non-time steps\n",
    "prevtime=0\n",
    "mask=[]\n",
    "for timestep in data:\n",
    "    if timestep[0]>prevtime:\n",
    "        prevtime=timestep[0]\n",
    "        mask.append(True)\n",
    "    else:\n",
    "        mask.append(False)\n",
    "\n",
    "\n",
    "data=data[mask,...]\n",
    "\n",
    "print(data[0,0]/1e3)\n",
    "#151983983107661.34\n",
    "#1.519839831076613438e+14\n",
    "#2.264733810941325e+20\n",
    "\n",
    "#change Alterbbn data for time and temperature in hbar/GeV to hbar/MeV\n",
    "data[:,0]*=1e-3\n",
    "data[:,0]+=t_ini-data[0,0] #fix wrong start time\n",
    "data[:,1]*=1e3\n",
    "data[:,2]*=1e3\n",
    "#change order of isotopes to be sorted by Y rather than A\n",
    "data[:,3:]=PNAsort(data[:,3:].T).T\n",
    "print(t_ini)\n",
    "print(data[0,0])\n",
    "nmaxindex=len([t for t in data[:,0] if t<t_max])"
   ]
  },
  {
   "cell_type": "code",
   "execution_count": 17,
   "metadata": {},
   "outputs": [
    {
     "data": {
      "text/plain": [
       "1769922.178095145"
      ]
     },
     "execution_count": 17,
     "metadata": {},
     "output_type": "execute_result"
    }
   ],
   "source": [
    "#(n_nu*7/8*(np.pi**2)/15)**(1/4)\n",
    "data[-1,0]/timeunit"
   ]
  },
  {
   "cell_type": "code",
   "execution_count": 18,
   "metadata": {},
   "outputs": [
    {
     "data": {
      "text/plain": [
       "1.4010196653276936"
      ]
     },
     "execution_count": 18,
     "metadata": {},
     "output_type": "execute_result"
    }
   ],
   "source": [
    "(11/4)**(1/3)"
   ]
  },
  {
   "cell_type": "code",
   "execution_count": 19,
   "metadata": {},
   "outputs": [
    {
     "data": {
      "text/plain": [
       "1.2877547884506972"
      ]
     },
     "execution_count": 19,
     "metadata": {},
     "output_type": "execute_result"
    }
   ],
   "source": [
    "(11/4)**(1/4)"
   ]
  },
  {
   "cell_type": "code",
   "execution_count": 20,
   "metadata": {},
   "outputs": [
    {
     "data": {
      "text/plain": [
       "1.3980678207391175"
      ]
     },
     "execution_count": 20,
     "metadata": {},
     "output_type": "execute_result"
    }
   ],
   "source": [
    "data[nmaxindex,1]/data[nmaxindex,2]"
   ]
  },
  {
   "cell_type": "code",
   "execution_count": 21,
   "metadata": {},
   "outputs": [
    {
     "data": {
      "image/png": "[encoded data removed]",
      "text/plain": [
       "<Figure size 510x265 with 2 Axes>"
      ]
     },
     "metadata": {},
     "output_type": "display_data"
    }
   ],
   "source": [
    "fig, axes = plt.subplots(1, 1, figsize=(width, 2.65))\n",
    "\n",
    "fig.subplots_adjust(wspace=0.2, hspace=0.05, left=0.095, right=0.995, bottom=0.155, top=0.9)\n",
    "\n",
    "plt.plot(data[:nmaxindex,0]/timeunit,(data[:nmaxindex,1]-[T_cache(t) for t in data[:nmaxindex,0]])/[T_cache(t) for t in data[:nmaxindex,0]],label='Photon temperature')\n",
    "plt.xscale('log')\n",
    "plt.plot(data[:nmaxindex,0]/timeunit,(data[:nmaxindex,2]-T_ini/a_cache(data[:nmaxindex,0]))/(T_ini/a_cache(data[:nmaxindex,0])),label='Neutrino temperature')\n",
    "plt.legend()\n",
    "\n",
    "plt.xlabel('Time (s)')\n",
    "plt.ylabel('$\\delta$ T/T')\n",
    "xlims=(data[0,0]/timeunit,data[nmaxindex,0]/timeunit)#data[0,0]/timeunit\n",
    "#plt.ylim(1e-18,3)\n",
    "plt.xlim(*xlims)\n",
    "plt.xscale('log')\n",
    "\n",
    "#plt.yticks([])\n",
    "#plt.yticks(rotation=45)\n",
    "#plt.yscale('log')\n",
    "#plt.gca().yaxis.set_major_formatter(plticks.SciNotation())\n",
    "plt.gca().ticklabel_format(axis='y', style='sci', scilimits=(0, 0))\n",
    "#plt.legend(loc='center left')\n",
    "plt.twiny()\n",
    "plt.xscale('log')\n",
    "plt.xlim(*(T_cache(timeunit*t)*TMeV2T9*1e9  for t in xlims))\n",
    "plt.gca().xaxis.set_major_formatter(AddK())\n",
    "#axes.ticklabel_format(axis= 'y' ,style='sci')\n",
    "#fig.savefig('TeX/figures/comparetemp.pdf')"
   ]
  },
  {
   "cell_type": "code",
   "execution_count": 22,
   "metadata": {},
   "outputs": [
    {
     "data": {
      "text/plain": [
       "<matplotlib.legend.Legend at 0x7f829fdb1ed0>"
      ]
     },
     "execution_count": 22,
     "metadata": {},
     "output_type": "execute_result"
    },
    {
     "data": {
      "image/png": "[encoded data removed]",
      "text/plain": [
       "<Figure size 640x480 with 1 Axes>"
      ]
     },
     "metadata": {},
     "output_type": "display_data"
    }
   ],
   "source": [
    "#rho_nu_ini=*T_ini**4\n",
    "\n",
    "\n",
    "plt.plot(data[:nmaxindex,0]/timeunit,(data[:nmaxindex,1]-[T_cache(t) for t in data[:nmaxindex,0]])/data[:nmaxindex,1],label='Photon temperature')\n",
    "plt.xscale('log')\n",
    "plt.plot(data[:nmaxindex,0]/timeunit,(data[:nmaxindex,2]-T_ini/a_cache(data[:nmaxindex,0]))/data[:nmaxindex,2],label='Neutrino temperature')\n",
    "plt.legend()"
   ]
  },
  {
   "cell_type": "code",
   "execution_count": 23,
   "metadata": {},
   "outputs": [
    {
     "name": "stdout",
     "output_type": "stream",
     "text": [
      "6.099983625325396e-10\n"
     ]
    }
   ],
   "source": [
    "print(n_b_ini/((1.20206*2/np.pi**2*T_cache(1e5*timeunit)**3)*a_cache(1e5*timeunit)**3))\n",
    "#T**3/(T_ini**3*11/4)=1/a**3"
   ]
  },
  {
   "cell_type": "code",
   "execution_count": 24,
   "metadata": {},
   "outputs": [
    {
     "data": {
      "text/plain": [
       "(10000.0, 1769922.0)"
      ]
     },
     "execution_count": 24,
     "metadata": {},
     "output_type": "execute_result"
    },
    {
     "data": {
      "image/png": "[encoded data removed]",
      "text/plain": [
       "<Figure size 640x480 with 1 Axes>"
      ]
     },
     "metadata": {},
     "output_type": "display_data"
    }
   ],
   "source": [
    "plt.plot(data[:nmaxindex,0]/timeunit,[T_cache(t) for t in data[:nmaxindex,0]]/np.array(T_ini/a_cache(data[:nmaxindex,0])),label='temperature ratio')\n",
    "plt.xscale('log')\n",
    "plt.ylim((11/4)**(1/3)-1e-3-0.2e-2,(11/4)**(1/3)+1e-3-0.2e-2)\n",
    "plt.xlim(1e4,t_max/timeunit)"
   ]
  },
  {
   "cell_type": "code",
   "execution_count": 25,
   "metadata": {},
   "outputs": [
    {
     "data": {
      "text/plain": [
       "(10000.0, 1769922.0)"
      ]
     },
     "execution_count": 25,
     "metadata": {},
     "output_type": "execute_result"
    },
    {
     "data": {
      "image/png": "[encoded data removed]",
      "text/plain": [
       "<Figure size 640x480 with 1 Axes>"
      ]
     },
     "metadata": {},
     "output_type": "display_data"
    }
   ],
   "source": [
    "plt.plot(data[:nmaxindex,0]/timeunit,data[:nmaxindex,1]/data[:nmaxindex,2],label='temperature ratio')\n",
    "plt.xscale('log')\n",
    "plt.ylim((11/4)**(1/3)-1e-4-0.3e-2,(11/4)**(1/3)+1e-4-0.3e-2)\n",
    "plt.xlim(1e4,t_max/timeunit)"
   ]
  },
  {
   "cell_type": "code",
   "execution_count": 26,
   "metadata": {},
   "outputs": [
    {
     "data": {
      "text/plain": [
       "3777.882388361345"
      ]
     },
     "execution_count": 26,
     "metadata": {},
     "output_type": "execute_result"
    }
   ],
   "source": [
    "a_cache(t_range[1])"
   ]
  },
  {
   "cell_type": "code",
   "execution_count": 27,
   "metadata": {},
   "outputs": [
    {
     "data": {
      "text/plain": [
       "(0.9999, 1.0001)"
      ]
     },
     "execution_count": 27,
     "metadata": {},
     "output_type": "execute_result"
    },
    {
     "data": {
      "image/png": "[encoded data removed]",
      "text/plain": [
       "<Figure size 640x480 with 1 Axes>"
      ]
     },
     "metadata": {},
     "output_type": "display_data"
    }
   ],
   "source": [
    "plt.plot(data[:nmaxindex,0]/timeunit,(T_ini/a_cache(data[:nmaxindex,0]))*np.sqrt(data[:nmaxindex,0])/((T_ini/a_cache(data[nmaxindex,0]))*np.sqrt(data[nmaxindex,0])),label='alterneutrino')\n",
    "plt.xscale('log')\n",
    "plt.xlim(1e4,t_max/timeunit)\n",
    "plt.ylim(0.9999,1.0001)"
   ]
  },
  {
   "cell_type": "code",
   "execution_count": 28,
   "metadata": {},
   "outputs": [
    {
     "data": {
      "text/plain": [
       "(0.9999, 1.0001)"
      ]
     },
     "execution_count": 28,
     "metadata": {},
     "output_type": "execute_result"
    },
    {
     "data": {
      "image/png": "[encoded data removed]",
      "text/plain": [
       "<Figure size 640x480 with 1 Axes>"
      ]
     },
     "metadata": {},
     "output_type": "display_data"
    }
   ],
   "source": [
    "#rho_nu_ini=*T_ini**4\n",
    "\n",
    "\n",
    "plt.plot(data[:nmaxindex,0]/timeunit,(data[:nmaxindex,2])*np.sqrt(data[:nmaxindex,0])/((data[nmaxindex,2])*np.sqrt(data[nmaxindex,0])),label='alterneutrino')\n",
    "plt.xscale('log')\n",
    "plt.xlim(1e4,t_max/timeunit)\n",
    "plt.ylim(0.9999,1.0001)\n",
    "#plt.plot(data[:nmaxindex,0]/timeunit,(data[:nmaxindex,2]-T_ini/Altera_cache(data[:nmaxindex,0]))/data[:nmaxindex,2],label='Neutrino temperature')\n",
    "#plt.legend()"
   ]
  },
  {
   "cell_type": "code",
   "execution_count": 29,
   "metadata": {},
   "outputs": [
    {
     "data": {
      "text/plain": [
       "array([1.00025326e+00, 1.00954306e+00, 1.01891852e+00, 1.02838045e+00,\n",
       "       1.03792962e+00, 1.04756688e+00, 1.05729302e+00, 1.06710888e+00,\n",
       "       1.07701528e+00, 1.08701307e+00, 1.09710311e+00, 1.10728624e+00,\n",
       "       1.11756333e+00, 1.12793525e+00, 1.13840289e+00, 1.14896713e+00,\n",
       "       1.15962887e+00, 1.17038903e+00, 1.18124849e+00, 1.19220814e+00,\n",
       "       1.20326905e+00, 1.21443201e+00, 1.22569808e+00, 1.23706811e+00,\n",
       "       1.24854319e+00, 1.26012417e+00, 1.27181211e+00, 1.28360801e+00,\n",
       "       1.29551280e+00, 1.30752757e+00, 1.31965327e+00, 1.33189097e+00,\n",
       "       1.34424175e+00, 1.35670658e+00, 1.36928656e+00, 1.38198274e+00,\n",
       "       1.39479624e+00, 1.40772813e+00, 1.42077946e+00, 1.43395141e+00,\n",
       "       1.46066157e+00, 1.47420200e+00, 1.48786762e+00, 1.50165946e+00,\n",
       "       1.51557884e+00, 1.52962683e+00, 1.54380466e+00, 1.55811351e+00,\n",
       "       1.57255463e+00, 1.58712929e+00, 1.60183863e+00, 1.61668394e+00,\n",
       "       1.63166651e+00, 1.64678760e+00, 1.66204849e+00, 1.67745047e+00,\n",
       "       1.69299484e+00, 1.70868295e+00, 1.72451614e+00, 1.74049573e+00,\n",
       "       1.75662308e+00, 1.77289958e+00, 1.78932659e+00, 1.80590555e+00,\n",
       "       1.82263782e+00, 1.83952488e+00, 1.85656811e+00, 1.87376897e+00,\n",
       "       1.89112897e+00, 1.90864956e+00, 1.92633219e+00, 1.94417844e+00,\n",
       "       1.96218975e+00, 1.98036773e+00, 1.99871389e+00, 2.01722978e+00,\n",
       "       2.03591699e+00, 2.05477713e+00, 2.07381177e+00, 2.09302258e+00,\n",
       "       2.11241116e+00, 2.13197916e+00, 2.15172824e+00, 2.17166012e+00,\n",
       "       2.19177647e+00, 2.21207904e+00, 2.23256951e+00, 2.25324964e+00,\n",
       "       2.27412122e+00, 2.29518601e+00, 2.31644582e+00, 2.33790243e+00,\n",
       "       2.35955769e+00, 2.38141347e+00, 2.40347162e+00, 2.42573401e+00,\n",
       "       2.44820255e+00, 2.47087917e+00, 2.49376578e+00, 2.51686433e+00,\n",
       "       2.54017685e+00, 2.56370524e+00, 2.58745158e+00, 2.61141791e+00,\n",
       "       2.63560621e+00, 2.66001859e+00, 2.68465715e+00, 2.70952398e+00,\n",
       "       2.73462119e+00, 2.75995094e+00, 2.78551541e+00, 2.81131677e+00,\n",
       "       2.83735722e+00, 2.86363903e+00, 2.89016441e+00, 2.91693564e+00,\n",
       "       2.94395501e+00, 2.97122488e+00, 2.99874753e+00, 3.02652532e+00,\n",
       "       3.05456067e+00, 3.08285595e+00, 3.11141363e+00, 3.14023610e+00,\n",
       "       3.16932588e+00, 3.19868545e+00, 3.22831732e+00, 3.25822406e+00,\n",
       "       3.28840824e+00, 3.31887243e+00, 3.34961924e+00, 3.38065136e+00,\n",
       "       3.41197142e+00, 3.44358214e+00, 3.47548622e+00, 3.50768639e+00,\n",
       "       3.54018548e+00, 3.57298625e+00, 3.60609153e+00, 3.63950418e+00,\n",
       "       3.67322705e+00, 3.70726310e+00, 3.74161534e+00, 3.77628652e+00,\n",
       "       3.81127971e+00, 3.84659800e+00, 3.88224461e+00, 3.91822224e+00,\n",
       "       3.95453424e+00, 3.99118375e+00, 4.02817375e+00, 4.06550769e+00,\n",
       "       4.10318877e+00, 4.14122020e+00, 4.17960510e+00, 4.21834707e+00,\n",
       "       4.25744950e+00, 4.29691554e+00, 4.33674876e+00, 4.37695251e+00,\n",
       "       4.41753042e+00, 4.45848603e+00, 4.49982279e+00, 4.54154440e+00,\n",
       "       4.58365445e+00, 4.62615665e+00, 4.66905460e+00, 4.71235222e+00,\n",
       "       4.75605306e+00, 4.80016116e+00, 4.84468032e+00, 4.88961438e+00,\n",
       "       4.93496731e+00, 4.98074300e+00, 5.02694548e+00, 5.07357898e+00,\n",
       "       5.12064742e+00, 5.16815502e+00, 5.21610595e+00, 5.26450432e+00,\n",
       "       5.31335445e+00, 5.36266065e+00, 5.41242736e+00, 5.46265868e+00,\n",
       "       5.51335937e+00, 5.56453378e+00, 5.61618645e+00, 5.66832198e+00,\n",
       "       5.72094480e+00, 5.77405981e+00, 5.82767158e+00, 5.88178486e+00,\n",
       "       5.93640455e+00, 5.99153546e+00, 6.04718247e+00, 6.10335060e+00,\n",
       "       6.16004475e+00, 6.21727008e+00, 6.27503173e+00, 6.33333465e+00,\n",
       "       6.39218425e+00, 6.45158587e+00, 6.51154452e+00, 6.57206595e+00,\n",
       "       6.63315526e+00, 6.69481823e+00, 6.75706028e+00, 6.81988697e+00,\n",
       "       6.88330394e+00, 6.94731707e+00, 7.01193216e+00, 7.07715492e+00,\n",
       "       7.14299127e+00, 7.20944725e+00, 7.27652883e+00, 7.34424214e+00,\n",
       "       7.41259347e+00, 7.48158880e+00, 7.55123467e+00, 7.62153723e+00,\n",
       "       7.69250310e+00, 7.76413875e+00, 7.83645058e+00, 7.90944551e+00,\n",
       "       7.98313001e+00, 8.05751098e+00, 8.13259530e+00, 8.20838993e+00,\n",
       "       8.28490175e+00, 8.36213803e+00, 8.44010581e+00, 8.51881240e+00,\n",
       "       8.59826507e+00, 8.67847130e+00, 8.75943862e+00, 8.84117449e+00,\n",
       "       8.92368665e+00, 9.00698275e+00, 9.09107074e+00, 9.17595854e+00,\n",
       "       9.26165412e+00, 9.34816562e+00, 9.43550113e+00, 9.52366905e+00,\n",
       "       9.61267774e+00, 9.70253567e+00, 9.79325146e+00, 9.88483366e+00,\n",
       "       9.97729118e+00, 1.00706329e+01, 1.01648677e+01, 1.02600048e+01,\n",
       "       1.03560532e+01, 1.04530224e+01, 1.05509218e+01, 1.06497608e+01,\n",
       "       1.07495491e+01, 1.08502964e+01, 1.09520126e+01, 1.10547078e+01,\n",
       "       1.11583920e+01, 1.12630754e+01, 1.13687683e+01, 1.14754813e+01,\n",
       "       1.15832251e+01, 1.16920102e+01, 1.18018473e+01, 1.19127479e+01,\n",
       "       1.20247232e+01, 1.21377839e+01, 1.22519414e+01, 1.23672078e+01,\n",
       "       1.24835944e+01, 1.26011134e+01, 1.27197768e+01, 1.28395959e+01,\n",
       "       1.29605838e+01, 1.30827531e+01, 1.32061160e+01, 1.33306853e+01,\n",
       "       1.34564738e+01, 1.35834950e+01, 1.37117621e+01, 1.38412883e+01,\n",
       "       1.39720871e+01, 1.41041732e+01, 1.42375594e+01, 1.43722610e+01,\n",
       "       1.45082915e+01, 1.46456653e+01, 1.47843981e+01, 1.49245043e+01,\n",
       "       1.50659992e+01, 1.52088977e+01, 1.53532161e+01, 1.54989694e+01,\n",
       "       1.56461739e+01, 1.57948458e+01, 1.59450018e+01, 1.60966579e+01,\n",
       "       1.62498314e+01, 1.64045398e+01, 1.65607995e+01, 1.67186286e+01,\n",
       "       1.68780450e+01, 1.70390670e+01, 1.72017123e+01, 1.73659999e+01,\n",
       "       1.75319487e+01, 1.76995774e+01, 1.78689062e+01, 1.80399539e+01,\n",
       "       1.82127412e+01, 1.83872878e+01, 1.85636142e+01, 1.87417419e+01,\n",
       "       1.89216916e+01, 1.91034847e+01, 1.92871431e+01, 1.94726889e+01,\n",
       "       1.96601447e+01, 1.98495327e+01, 2.00408764e+01, 2.02341991e+01,\n",
       "       2.04295248e+01, 2.06268770e+01, 2.08262812e+01, 2.10277612e+01,\n",
       "       2.12313430e+01, 2.14370520e+01, 2.16449139e+01, 2.18549554e+01,\n",
       "       2.20672034e+01, 2.22816847e+01, 2.24984275e+01, 2.27174595e+01,\n",
       "       2.29388091e+01, 2.31625052e+01, 2.33885774e+01, 2.36170555e+01,\n",
       "       2.38479698e+01, 2.40813507e+01, 2.43172299e+01, 2.45556388e+01,\n",
       "       2.47966096e+01, 2.50401752e+01, 2.52863684e+01, 2.55352236e+01,\n",
       "       2.57867747e+01, 2.60410566e+01, 2.62981044e+01, 2.65579544e+01,\n",
       "       2.68206428e+01, 2.70862068e+01, 2.73546842e+01, 2.76261127e+01,\n",
       "       2.79005314e+01, 2.81779800e+01, 2.84584984e+01, 2.87421270e+01,\n",
       "       2.90289076e+01, 2.93188820e+01, 2.96120928e+01, 2.99085835e+01,\n",
       "       3.02083979e+01, 3.05115807e+01, 3.08181777e+01, 3.11282345e+01,\n",
       "       3.14417983e+01, 3.17589166e+01, 3.20796379e+01, 3.24040110e+01,\n",
       "       3.27320859e+01, 3.30639132e+01, 3.33995442e+01, 3.37390316e+01,\n",
       "       3.40824278e+01, 3.44297871e+01, 3.47811641e+01, 3.51366140e+01,\n",
       "       3.54961935e+01, 3.58599598e+01, 3.62279709e+01, 3.66002857e+01,\n",
       "       3.69769644e+01, 3.73580680e+01, 3.77436568e+01, 3.81337937e+01,\n",
       "       3.85285438e+01, 3.89279718e+01, 3.93321404e+01, 3.97411170e+01,\n",
       "       4.01549705e+01, 4.05737668e+01, 4.09975766e+01, 4.14264711e+01,\n",
       "       4.18605190e+01, 4.22997946e+01, 4.27443691e+01, 4.31943173e+01,\n",
       "       4.36497162e+01, 4.41106394e+01, 4.45771667e+01, 4.50493745e+01,\n",
       "       4.55273423e+01, 4.60111507e+01, 4.65008797e+01, 4.69966129e+01,\n",
       "       4.74984335e+01, 4.80064250e+01, 4.85206746e+01, 4.90412662e+01,\n",
       "       4.95682874e+01, 5.01018269e+01, 5.06419749e+01, 5.11888197e+01,\n",
       "       5.17424546e+01, 5.23029686e+01, 5.28704581e+01, 5.34450145e+01,\n",
       "       5.40267332e+01, 5.46157105e+01, 5.52120425e+01, 5.58158277e+01,\n",
       "       5.64271615e+01, 5.70461447e+01, 5.76728771e+01, 5.83074581e+01,\n",
       "       5.89499906e+01, 5.96005735e+01, 6.02593131e+01, 6.09263091e+01,\n",
       "       6.16016662e+01, 6.22854884e+01, 6.29778809e+01, 6.36789490e+01,\n",
       "       6.43887961e+01, 6.51075290e+01, 6.58352530e+01, 6.65720763e+01,\n",
       "       6.73181032e+01, 6.80734411e+01, 6.88381952e+01, 6.96124739e+01,\n",
       "       7.03963819e+01, 7.11900256e+01, 7.19935122e+01, 7.28069464e+01,\n",
       "       7.36304328e+01, 7.44640771e+01, 7.53079845e+01, 7.61622562e+01,\n",
       "       7.70269976e+01, 7.79023093e+01, 7.87882934e+01, 7.96850502e+01,\n",
       "       8.05926793e+01, 8.15112777e+01, 8.24409433e+01, 8.33817709e+01,\n",
       "       8.43338557e+01, 8.52972894e+01, 8.62721640e+01, 8.72585690e+01,\n",
       "       8.82565914e+01, 8.92663165e+01, 9.02878287e+01, 9.13212100e+01,\n",
       "       9.23665400e+01, 9.34238955e+01, 9.44933523e+01, 9.55749836e+01,\n",
       "       9.66688580e+01, 9.77750451e+01, 9.88936087e+01, 1.00024612e+02,\n",
       "       1.01168116e+02, 1.02324176e+02, 1.03492847e+02, 1.04674181e+02,\n",
       "       1.05868227e+02, 1.07075030e+02, 1.08294633e+02, 1.09527076e+02,\n",
       "       1.10772398e+02, 1.12030631e+02, 1.13301807e+02, 1.14585955e+02,\n",
       "       1.15883101e+02, 1.17193267e+02, 1.18516476e+02, 1.19852743e+02,\n",
       "       1.21202084e+02, 1.22564515e+02, 1.23940042e+02, 1.25328675e+02,\n",
       "       1.26730428e+02, 1.28145289e+02, 1.29573279e+02, 1.31014386e+02,\n",
       "       1.32468615e+02, 1.33935962e+02, 1.35416432e+02, 1.36910010e+02,\n",
       "       1.38416699e+02, 1.39936494e+02, 1.41469390e+02, 1.43015379e+02,\n",
       "       1.44574458e+02, 1.46146630e+02, 1.47731883e+02, 1.49330218e+02,\n",
       "       1.50941634e+02, 1.52566136e+02, 1.54203718e+02, 1.55854393e+02,\n",
       "       1.57518158e+02, 1.59195033e+02, 1.60885022e+02, 1.62588147e+02,\n",
       "       1.64304421e+02, 1.66033870e+02, 1.67776518e+02, 1.69532396e+02,\n",
       "       1.71301536e+02, 1.73083982e+02, 1.74879769e+02, 1.76688951e+02,\n",
       "       1.78511585e+02, 1.80347718e+02, 1.82197422e+02, 1.84060764e+02,\n",
       "       1.85937821e+02, 1.87828667e+02, 1.89733399e+02, 1.91652096e+02,\n",
       "       1.93584868e+02, 1.95531810e+02, 1.97493036e+02, 1.99468668e+02,\n",
       "       2.01458818e+02, 2.03463621e+02, 2.05483212e+02, 2.07517728e+02,\n",
       "       2.09567318e+02, 2.11632138e+02, 2.13712338e+02, 2.15808092e+02,\n",
       "       2.17919565e+02, 2.20046937e+02, 2.22190386e+02, 2.24350096e+02,\n",
       "       2.26526269e+02, 2.28719097e+02, 2.30928783e+02, 2.33155533e+02,\n",
       "       2.35399562e+02, 2.37661090e+02, 2.39940332e+02, 2.42237519e+02,\n",
       "       2.44552880e+02, 2.46886651e+02, 2.49239067e+02, 2.51610373e+02,\n",
       "       2.54000810e+02, 2.56410633e+02, 2.58840090e+02, 2.61289437e+02,\n",
       "       2.63758936e+02, 2.66248842e+02, 2.68759421e+02, 2.71290941e+02,\n",
       "       2.73843671e+02, 2.76417879e+02, 2.79013837e+02, 2.81631824e+02,\n",
       "       2.84272116e+02, 2.86934991e+02, 2.89620732e+02, 2.92329615e+02,\n",
       "       2.95061928e+02, 2.97817957e+02, 3.00597986e+02, 3.03402305e+02,\n",
       "       3.06231201e+02, 3.09084962e+02, 3.11963885e+02, 3.14868257e+02,\n",
       "       3.17798374e+02, 3.20754531e+02, 3.23737021e+02, 3.26746145e+02,\n",
       "       3.29782196e+02, 3.32845475e+02, 3.35936279e+02, 3.39054912e+02,\n",
       "       3.42201676e+02, 3.45376870e+02, 3.48580797e+02, 3.51813764e+02,\n",
       "       3.55076080e+02, 3.58368049e+02, 3.61689979e+02, 3.65042177e+02,\n",
       "       3.68424959e+02, 3.71838634e+02, 3.75283518e+02, 3.78759922e+02,\n",
       "       3.82268163e+02, 3.85808559e+02, 3.89381433e+02, 3.92987122e+02,\n",
       "       3.96625914e+02, 4.00298157e+02, 4.04004156e+02, 4.07744272e+02,\n",
       "       4.11518822e+02, 4.15328126e+02, 4.19172534e+02, 4.23052395e+02,\n",
       "       4.26968000e+02, 4.30919739e+02, 4.34907949e+02, 4.38932944e+02,\n",
       "       4.42995119e+02, 4.47094794e+02, 4.51232319e+02, 4.55408085e+02,\n",
       "       4.59622416e+02, 4.63875690e+02, 4.68168279e+02, 4.72500530e+02,\n",
       "       4.76872835e+02, 4.81285558e+02, 4.85739086e+02, 4.90233799e+02,\n",
       "       4.94770063e+02, 4.99348288e+02, 5.03968853e+02, 5.08632159e+02,\n",
       "       5.13338579e+02, 5.18088550e+02, 5.22882456e+02, 5.27720711e+02,\n",
       "       5.32603714e+02, 5.37531897e+02, 5.42505665e+02, 5.47525453e+02,\n",
       "       5.52591691e+02, 5.57704785e+02, 5.62865193e+02, 5.68073346e+02,\n",
       "       5.73329687e+02, 5.78634667e+02, 5.83988723e+02, 5.89392313e+02,\n",
       "       5.94845906e+02, 6.00349954e+02, 6.05904927e+02, 6.11511302e+02,\n",
       "       6.17169551e+02, 6.22880154e+02, 6.28643593e+02, 6.34460368e+02,\n",
       "       6.40330956e+02, 6.46255866e+02, 6.52235596e+02, 6.58270657e+02,\n",
       "       6.64361549e+02, 6.70508808e+02, 6.76712948e+02, 6.82974495e+02,\n",
       "       6.89293983e+02, 6.95671931e+02, 7.02108903e+02, 7.08605429e+02,\n",
       "       7.15162075e+02, 7.21779382e+02, 7.28457917e+02, 7.35198244e+02,\n",
       "       7.42000941e+02, 7.48866590e+02, 7.55795751e+02, 7.62789040e+02,\n",
       "       7.69847026e+02, 7.76970327e+02, 7.84159530e+02, 7.91415260e+02,\n",
       "       7.98738130e+02, 8.06128746e+02, 8.13587754e+02, 8.21115780e+02,\n",
       "       8.28713458e+02, 8.36381434e+02, 8.44120365e+02, 8.51930897e+02,\n",
       "       8.59813707e+02, 8.67769445e+02, 8.75798798e+02, 8.83902454e+02,\n",
       "       8.92081086e+02, 9.00335399e+02, 9.08666080e+02, 9.17073855e+02,\n",
       "       9.25559419e+02, 9.34123494e+02, 9.42766817e+02, 9.51490112e+02,\n",
       "       9.60294125e+02, 9.69179591e+02, 9.78147281e+02, 9.87197949e+02,\n",
       "       9.96332353e+02, 1.00555128e+03, 1.01485551e+03, 1.02424583e+03,\n",
       "       1.03372303e+03, 1.04328793e+03, 1.05294133e+03, 1.06268405e+03,\n",
       "       1.07251692e+03, 1.08244077e+03, 1.09245644e+03, 1.10256479e+03,\n",
       "       1.11276667e+03, 1.12306294e+03, 1.13345448e+03, 1.14394217e+03,\n",
       "       1.15452691e+03, 1.16520959e+03, 1.17599111e+03, 1.18687239e+03,\n",
       "       1.19785435e+03, 1.20893793e+03, 1.22012406e+03, 1.23141370e+03,\n",
       "       1.24280778e+03, 1.25430729e+03, 1.26591322e+03, 1.27762653e+03,\n",
       "       1.28944823e+03, 1.30137932e+03, 1.31342080e+03, 1.32557369e+03,\n",
       "       1.33783899e+03, 1.35021782e+03, 1.36271120e+03, 1.37532017e+03,\n",
       "       1.38804579e+03, 1.40088917e+03, 1.41385139e+03, 1.42693354e+03,\n",
       "       1.44013676e+03, 1.45346211e+03, 1.46691078e+03, 1.48048385e+03,\n",
       "       1.49418256e+03, 1.50800800e+03, 1.52196136e+03, 1.53604386e+03,\n",
       "       1.55025662e+03, 1.56460093e+03, 1.57907793e+03, 1.59368888e+03,\n",
       "       1.60843504e+03, 1.62331763e+03, 1.63833796e+03, 1.65349722e+03,\n",
       "       1.66879680e+03, 1.68423791e+03, 1.69982188e+03, 1.71555006e+03,\n",
       "       1.73142380e+03, 1.74744438e+03, 1.76361318e+03, 1.77993161e+03,\n",
       "       1.79640102e+03, 1.81302284e+03, 1.82979844e+03, 1.84672927e+03,\n",
       "       1.86381674e+03, 1.88106233e+03, 1.89846750e+03, 1.91603372e+03,\n",
       "       1.93376244e+03, 1.95165525e+03, 1.96971356e+03, 1.98793899e+03,\n",
       "       2.00633308e+03, 2.02489735e+03, 2.04363336e+03, 2.06254275e+03,\n",
       "       2.08162711e+03, 2.10088807e+03, 2.12032723e+03, 2.13994626e+03,\n",
       "       2.15974682e+03, 2.17973060e+03, 2.19989926e+03, 2.22025456e+03,\n",
       "       2.24079818e+03, 2.26153187e+03, 2.28245743e+03, 2.30357661e+03,\n",
       "       2.32489122e+03, 2.34640302e+03, 2.36811384e+03, 2.39002559e+03,\n",
       "       2.41214009e+03, 2.43445917e+03, 2.45698478e+03, 2.47971880e+03,\n",
       "       2.50266319e+03, 2.52581986e+03, 2.54919082e+03, 2.57277801e+03,\n",
       "       2.59658343e+03, 2.62060916e+03, 2.64485717e+03, 2.66932954e+03,\n",
       "       2.69402835e+03, 2.71895567e+03, 2.74411367e+03, 2.76950445e+03,\n",
       "       2.79513013e+03, 2.82099295e+03, 2.84709504e+03, 2.87343868e+03,\n",
       "       2.90002606e+03, 2.92685941e+03, 2.95394107e+03, 2.98127333e+03,\n",
       "       3.00885845e+03, 3.03669882e+03, 3.06479680e+03, 3.09315475e+03,\n",
       "       3.12177509e+03, 3.15066024e+03, 3.17981267e+03, 3.20923483e+03,\n",
       "       3.23892923e+03, 3.26889837e+03, 3.29914480e+03, 3.32967114e+03,\n",
       "       3.36047990e+03, 3.39157373e+03, 3.42295528e+03, 3.45462717e+03,\n",
       "       3.48659209e+03, 3.51885282e+03, 3.55141201e+03, 3.58427249e+03,\n",
       "       3.61743698e+03, 3.65090836e+03, 3.68468943e+03, 3.71878306e+03,\n",
       "       3.75319216e+03, 3.78791962e+03, 3.82296840e+03, 3.85834149e+03,\n",
       "       3.89404183e+03, 3.93007251e+03, 3.96643671e+03, 4.00313728e+03,\n",
       "       4.04017742e+03, 4.07756012e+03, 4.11528890e+03, 4.15336672e+03,\n",
       "       4.19179690e+03, 4.23058268e+03, 4.26972730e+03, 4.30923412e+03,\n",
       "       4.34910631e+03, 4.38934769e+03, 4.42996131e+03, 4.47095070e+03,\n",
       "       4.51231933e+03, 4.55407063e+03, 4.59620845e+03, 4.63873608e+03,\n",
       "       4.68165706e+03, 4.72497536e+03, 4.76869437e+03, 4.81281791e+03,\n",
       "       4.85734983e+03, 4.90229359e+03, 4.94765336e+03, 4.99343274e+03,\n",
       "       5.03963567e+03, 5.08626614e+03, 5.13332805e+03, 5.18082533e+03,\n",
       "       5.22876224e+03, 5.27714262e+03, 5.32597061e+03, 5.37525052e+03,\n",
       "       5.42498627e+03, 5.47518219e+03, 5.52584260e+03, 5.57697181e+03,\n",
       "       5.62857400e+03, 5.68065377e+03, 5.73321525e+03, 5.78626322e+03,\n",
       "       5.83980191e+03, 5.89383593e+03, 5.94836996e+03, 6.00340863e+03,\n",
       "       6.05895638e+03, 6.11501823e+03, 6.17159870e+03, 6.22870278e+03,\n",
       "       6.28633519e+03, 6.34450079e+03, 6.40320462e+03, 6.46245164e+03,\n",
       "       6.52224681e+03, 6.58259525e+03, 6.64350196e+03, 6.70497230e+03,\n",
       "       6.76701132e+03, 6.82962457e+03, 6.89281707e+03, 6.95659413e+03,\n",
       "       7.02096140e+03, 7.08592427e+03, 7.15148808e+03, 7.21765865e+03,\n",
       "       7.28444136e+03, 7.35184195e+03, 7.41986619e+03, 7.48851988e+03,\n",
       "       7.55780875e+03, 7.62773865e+03, 7.69831568e+03, 7.76954570e+03,\n",
       "       7.84143467e+03, 7.91398885e+03, 7.98721439e+03, 8.06111734e+03,\n",
       "       8.13570415e+03, 8.21098105e+03, 8.28695443e+03, 8.36363074e+03,\n",
       "       8.44101652e+03, 8.51911834e+03, 8.59794260e+03, 8.67749642e+03,\n",
       "       8.75778635e+03, 8.83881904e+03, 8.92060151e+03, 9.00314062e+03,\n",
       "       9.08644343e+03, 9.17051696e+03, 9.25536837e+03, 9.34100488e+03,\n",
       "       9.42743371e+03, 9.51466221e+03, 9.60269778e+03, 9.69154790e+03,\n",
       "       9.78122005e+03, 9.87172185e+03, 9.96306109e+03, 1.00552454e+04,\n",
       "       1.01482826e+04, 1.02421806e+04, 1.03369474e+04, 1.04325910e+04,\n",
       "       1.05291196e+04, 1.06265412e+04, 1.07248643e+04, 1.08240970e+04,\n",
       "       1.09242478e+04, 1.10253252e+04, 1.11273380e+04, 1.12302948e+04,\n",
       "       1.13342040e+04, 1.14390745e+04, 1.15449154e+04, 1.16517355e+04,\n",
       "       1.17595439e+04, 1.18683498e+04, 1.19781623e+04, 1.20889910e+04,\n",
       "       1.22008450e+04, 1.23137339e+04, 1.24276672e+04, 1.25426544e+04,\n",
       "       1.26587059e+04, 1.27758310e+04, 1.28940398e+04, 1.30133424e+04,\n",
       "       1.31337486e+04, 1.32552690e+04, 1.33779137e+04, 1.35016925e+04,\n",
       "       1.36266171e+04, 1.37526976e+04, 1.38799442e+04, 1.40083684e+04])"
      ]
     },
     "execution_count": 29,
     "metadata": {},
     "output_type": "execute_result"
    }
   ],
   "source": [
    "a10_cache(Nudecsolt)"
   ]
  },
  {
   "cell_type": "code",
   "execution_count": 30,
   "metadata": {},
   "outputs": [],
   "source": [
    "tcorr=3/(2*np.sqrt(43/5*G*np.pi**3))/10**2-Nudecsolt[0]"
   ]
  },
  {
   "cell_type": "code",
   "execution_count": 31,
   "metadata": {},
   "outputs": [
    {
     "data": {
      "text/plain": [
       "<matplotlib.legend.Legend at 0x7f829f64bdf0>"
      ]
     },
     "execution_count": 31,
     "metadata": {},
     "output_type": "execute_result"
    },
    {
     "data": {
      "image/png": "[encoded data removed]",
      "text/plain": [
       "<Figure size 640x480 with 1 Axes>"
      ]
     },
     "metadata": {},
     "output_type": "display_data"
    }
   ],
   "source": [
    "plt.plot(Nudecsolt/timeunit,(np.array([T10_cache(t+tcorr) for t in Nudecsolt])-[NudecT_cache(t) for t in Nudecsolt])/[NudecT_cache(t) for t in Nudecsolt],label='Photon temperature')\n",
    "plt.xscale('log')\n",
    "plt.plot(Nudecsolt/timeunit,(1/a10_cache(Nudecsolt+tcorr)-1/Nudec[:,5]*Nudec[0,5])/(1/Nudec[:,5]*Nudec[0,5]),label='Neutrino temperature')\n",
    "#plt.ylim(-0.01,0.01)\n",
    "plt.legend()"
   ]
  },
  {
   "cell_type": "code",
   "execution_count": 32,
   "metadata": {},
   "outputs": [
    {
     "data": {
      "text/plain": [
       "<matplotlib.legend.Legend at 0x7f82a2455cf0>"
      ]
     },
     "execution_count": 32,
     "metadata": {},
     "output_type": "execute_result"
    },
    {
     "data": {
      "image/png": "[encoded data removed]",
      "text/plain": [
       "<Figure size 640x480 with 1 Axes>"
      ]
     },
     "metadata": {},
     "output_type": "display_data"
    }
   ],
   "source": [
    "plt.plot(data[:nmaxindex,0]/timeunit,(data[:nmaxindex,1]-[T110_cache(t-3.418e17) for t in data[:nmaxindex,0]])/data[:nmaxindex,1],label='Photon temperature')\n",
    "plt.xscale('log')\n",
    "plt.plot(data[:nmaxindex,0]/timeunit,(data[:nmaxindex,2]-100/a110_cache(data[:nmaxindex,0]-3.418e17))/data[:nmaxindex,2],label='Neutrino temperature')\n",
    "\n",
    "plt.legend()"
   ]
  },
  {
   "cell_type": "code",
   "execution_count": 33,
   "metadata": {},
   "outputs": [
    {
     "data": {
      "text/plain": [
       "<matplotlib.legend.Legend at 0x7f829f45b850>"
      ]
     },
     "execution_count": 33,
     "metadata": {},
     "output_type": "execute_result"
    },
    {
     "data": {
      "image/png": "[encoded data removed]",
      "text/plain": [
       "<Figure size 640x480 with 1 Axes>"
      ]
     },
     "metadata": {},
     "output_type": "display_data"
    }
   ],
   "source": [
    "plt.plot(data[:nmaxindex,0]/timeunit,(data[:nmaxindex,1]-[T110_cache(t-6.778e17) for t in data[:nmaxindex,0]])/data[:nmaxindex,1],label='Photon temperature')\n",
    "plt.xscale('log')\n",
    "plt.plot(data[:nmaxindex,0]/timeunit,(data[:nmaxindex,2]-10/a110_cache(data[:nmaxindex,0]-6.778e17))/data[:nmaxindex,2],label='Neutrino temperature')\n",
    "\n",
    "plt.legend()"
   ]
  },
  {
   "cell_type": "code",
   "execution_count": 34,
   "metadata": {},
   "outputs": [
    {
     "data": {
      "text/plain": [
       "<matplotlib.legend.Legend at 0x7f829fb736a0>"
      ]
     },
     "execution_count": 34,
     "metadata": {},
     "output_type": "execute_result"
    },
    {
     "data": {
      "image/png": "[encoded data removed]",
      "text/plain": [
       "<Figure size 640x480 with 1 Axes>"
      ]
     },
     "metadata": {},
     "output_type": "display_data"
    }
   ],
   "source": [
    "plt.plot(data[:nmaxindex,0]/timeunit,(data[:nmaxindex,1]-[T110_cache(t-6.778e17) for t in data[:nmaxindex,0]])/data[:nmaxindex,1],label='Photon temperature')\n",
    "plt.xscale('log')\n",
    "plt.plot(data[:nmaxindex,0]/timeunit,(data[:nmaxindex,2]-10/a110_cache(data[:nmaxindex,0]-6.778e17))/data[:nmaxindex,2],label='Neutrino temperature')\n",
    "\n",
    "plt.legend()"
   ]
  },
  {
   "cell_type": "code",
   "execution_count": 35,
   "metadata": {},
   "outputs": [],
   "source": [
    "\n",
    "alterTsqr=data[:,1]**-2\n",
    "alterasqrt=(T_ini/data[:,2])**2\n",
    "\n",
    "\n",
    "@njit\n",
    "def AlterT_cache(t):   #solve h and T, y[0] = T, y[1] = a\n",
    "    return 1/np.sqrt(np.interp(t,data[:,0],alterTsqr))\n",
    "    #return -np.interp(t,sol.t,-sol.y[0])\n",
    "    #return -interp1d(sol.t,-sol.y[0], kind='linear', copy=True, bounds_error=True, assume_sorted=True)(t)\n",
    "\n",
    "@njit\n",
    "def Altera_cache(t):\n",
    "    return np.sqrt(np.interp(t,data[:,0],alterasqrt))\n",
    "    #return np.interp(t,sol.t,sol.y[1])\n",
    "    #return interp1d(sol.t,sol.y[1], kind='linear', copy=True, bounds_error=True, assume_sorted=True)(t)\n",
    "\n"
   ]
  },
  {
   "cell_type": "code",
   "execution_count": 36,
   "metadata": {},
   "outputs": [
    {
     "name": "stdout",
     "output_type": "stream",
     "text": [
      "0.09\n",
      "0.9995537853851217\n",
      "99.99955378538513\n"
     ]
    }
   ],
   "source": [
    "#times for switching between networks\n",
    "t_start=[0.09*timeunit,1*timeunit-6.778e17,100*timeunit-6.778e17,t_max-6.778e17]\n",
    "\n",
    "#Solve the system\n",
    "#initial conditions\n",
    "#n_b_ini10=n_b_ini/(T_cache(t_max)*a_cache(t_max))**3*(T10_cache(t_max)*a10_cache(t_max))**3\n",
    "solY110=np.array([[1/(np.exp(Q/T110_cache(t_start[0]))+1)],[1/(np.exp(-Q/T110_cache(t_start[0]))+1)]])\n",
    "soltime110=np.array([t_start[0]])\n",
    "evals110=0\n",
    "for i in range(len(networks)):\n",
    "    print(t_start[i]/timeunit)\n",
    "\n",
    "    t_space=[point for point in data[:,0] if t_start[i]<=point<t_start[i+1]]\n",
    "    t_space-=t_space[0]\n",
    "    #ft_space=[point for point in data[:,0] if point>t_cut]\n",
    "\n",
    "    initial_param=get_Y_jac(np.array([T110_cache(t_start[i]),a110_cache(t_start[i])]+list(solY110[:,-1])),i)\n",
    "    #else:\n",
    "    #    initial_param=list(solY[:,-1])+[0]*(nNucs[i]-nNucs[i-1])\n",
    "    #Give PyNucAstro jacobian nessecary parameters\n",
    "    def jac110PNA(t,Y):\n",
    "        jac=networks[i].jacobian(t/timeunit, Y,n_b_ini110/a110_cache(t+t_start[i])**3*molcm3, T110_cache(t+t_start[i])*TMeV2T9*1e9)/timeunit\n",
    "        return jac\n",
    "\n",
    "    #full derivative\n",
    "    def dydt110(t,Y): \n",
    "        result=networks[i].rhs(t/timeunit, Y,n_b_ini110/a110_cache(t+t_start[i])**3*molcm3, T110_cache(t+t_start[i])*TMeV2T9*1e9)/timeunit    \n",
    "        return result\n",
    "    \n",
    "    jac110solY = integrate.solve_ivp(dydt110, [0,t_start[i+1]-t_start[i]], initial_param,method='Radau',atol=1e-80,rtol=1e-8,jac=jac110PNA)#,t_eval=t_space)#,first_step=timeunit*1e-3)#,)\n",
    "\n",
    "    evals110+=jac110solY.nfev\n",
    "    abun110=[abun[-1] for abun in jac110solY.y]\n",
    "    \n",
    "    solY110=np.concatenate((np.concatenate((solY110,np.full((nNucs[i]-nNucs[i-1],len(solY110[0])), np.nan, order='C'))),jac110solY.y),axis=1)\n",
    "\n",
    "    soltime110=np.concatenate((soltime110,jac110solY.t+t_start[i]))\n",
    "\n",
    "#interabuns.append(abun)\n",
    "#interEvals.append(evals)\n",
    "#solYs.append(solY)\n",
    "#soltimes.append(soltime)\n",
    "#print(jacsolY)"
   ]
  },
  {
   "cell_type": "code",
   "execution_count": 37,
   "metadata": {},
   "outputs": [
    {
     "name": "stdout",
     "output_type": "stream",
     "text": [
      "0.13638206070896752\n",
      "1.0\n",
      "100.0\n"
     ]
    }
   ],
   "source": [
    "#times for switching between networks\n",
    "t_start=[t_ini,1*timeunit,100*timeunit,t_max]\n",
    "\n",
    "#Solve the system\n",
    "#initial conditions\n",
    "#n_b_ini10=n_b_ini/(T_cache(t_max)*a_cache(t_max))**3*(T10_cache(t_max)*a10_cache(t_max))**3\n",
    "solY10=np.array([[1/(np.exp(Q/T10_cache(t_start[0]))+1)],[1/(np.exp(-Q/T10_cache(t_start[0]))+1)]])\n",
    "soltime10=np.array([t_start[0]])\n",
    "evals10=0\n",
    "for i in range(len(networks)):\n",
    "    print(t_start[i]/timeunit)\n",
    "\n",
    "    t_space=[point for point in data[:,0] if t_start[i]<=point<t_start[i+1]]\n",
    "    t_space-=t_space[0]\n",
    "    #ft_space=[point for point in data[:,0] if point>t_cut]\n",
    "\n",
    "    initial_param=get_Y_jac(np.array([T10_cache(t_start[i]),a10_cache(t_start[i])]+list(solY10[:,-1])),i)\n",
    "    #else:\n",
    "    #    initial_param=list(solY[:,-1])+[0]*(nNucs[i]-nNucs[i-1])\n",
    "    #Give PyNucAstro jacobian nessecary parameters\n",
    "    def jac10PNA(t,Y):\n",
    "        jac=networks[i].jacobian(t/timeunit, Y,n_b_ini10/a10_cache(t+t_start[i])**3*molcm3, T10_cache(t+t_start[i])*TMeV2T9*1e9)/timeunit\n",
    "        return jac\n",
    "\n",
    "    #full derivative\n",
    "    def dydt10(t,Y): \n",
    "        result=networks[i].rhs(t/timeunit, Y,n_b_ini10/a10_cache(t+t_start[i])**3*molcm3, T10_cache(t+t_start[i])*TMeV2T9*1e9)/timeunit    \n",
    "        return result\n",
    "    \n",
    "    jac10solY = integrate.solve_ivp(dydt10, [0,t_start[i+1]-t_start[i]], initial_param,method='Radau',atol=1e-80,rtol=1e-8,jac=jac10PNA,t_eval=t_space)#,first_step=timeunit*1e-3)#,)\n",
    "\n",
    "    evals10+=jac10solY.nfev\n",
    "    abun10=[abun[-1] for abun in jac10solY.y]\n",
    "    \n",
    "    solY10=np.concatenate((np.concatenate((solY10,np.full((nNucs[i]-nNucs[i-1],len(solY10[0])), np.nan, order='C'))),jac10solY.y),axis=1)\n",
    "\n",
    "    soltime10=np.concatenate((soltime10,jac10solY.t+t_start[i]))\n",
    "\n",
    "#interabuns.append(abun)\n",
    "#interEvals.append(evals)\n",
    "#solYs.append(solY)\n",
    "#soltimes.append(soltime)\n",
    "#print(jacsolY)"
   ]
  },
  {
   "cell_type": "code",
   "execution_count": 38,
   "metadata": {},
   "outputs": [
    {
     "name": "stdout",
     "output_type": "stream",
     "text": [
      "0.13638206070896752\n",
      "1.0\n",
      "100.0\n"
     ]
    }
   ],
   "source": [
    "#times for switching between networks\n",
    "t_start=[t_ini,1*timeunit,100*timeunit,t_max]\n",
    "\n",
    "etatestt=t_max#1e4*timeunit\n",
    "#Solve the system\n",
    "#initial conditions\n",
    "Altern_b_ini= 6.0913/6.1*n_b_ini/(T_cache(etatestt)*a_cache(etatestt))**3*(AlterT_cache(etatestt)*Altera_cache(etatestt))**3\n",
    "AltersolY=np.array([[1/(np.exp(Q/AlterT_cache(t_start[0]))+1)],[1/(np.exp(-Q/AlterT_cache(t_start[0]))+1)]])\n",
    "Altersoltime=np.array([t_start[0]])\n",
    "Alterevals=0\n",
    "for i in range(len(networks)):\n",
    "    print(t_start[i]/timeunit)\n",
    "\n",
    "    t_space=[point for point in data[:,0] if t_start[i]<=point<t_start[i+1]]\n",
    "    t_space-=t_space[0]\n",
    "    #ft_space=[point for point in data[:,0] if point>t_cut]\n",
    "\n",
    "    initial_param=get_Y_jac(np.array([AlterT_cache(t_start[i]),Altera_cache(t_start[i])]+list(AltersolY[:,-1])),i)\n",
    "    #else:\n",
    "    #    initial_param=list(solY[:,-1])+[0]*(nNucs[i]-nNucs[i-1])\n",
    "    #Give PyNucAstro jacobian nessecary parameters\n",
    "    def AlterjacPNA(t,Y):\n",
    "        jac=networks[i].jacobian(t/timeunit, Y,Altern_b_ini/Altera_cache(t+t_start[i])**3*molcm3, AlterT_cache(t+t_start[i])*TMeV2T9*1e9)/timeunit\n",
    "        return jac\n",
    "\n",
    "    #full derivative\n",
    "    def Alterdydt(t,Y): \n",
    "        result=networks[i].rhs(t/timeunit, Y,Altern_b_ini/Altera_cache(t+t_start[i])**3*molcm3, AlterT_cache(t+t_start[i])*TMeV2T9*1e9)/timeunit    \n",
    "        return result\n",
    "    \n",
    "    AlterjacsolY = integrate.solve_ivp(Alterdydt, [0,t_start[i+1]-t_start[i]], initial_param,method='Radau',atol=1e-80,rtol=1e-8,jac=AlterjacPNA,t_eval=t_space)#,first_step=timeunit*1e-3)#,)\n",
    "\n",
    "    Alterevals+=AlterjacsolY.nfev\n",
    "    Alterabun=[abun[-1] for abun in AlterjacsolY.y]\n",
    "    \n",
    "    AltersolY=np.concatenate((np.concatenate((AltersolY,np.full((nNucs[i]-nNucs[i-1],len(AltersolY[0])), np.nan, order='C'))),AlterjacsolY.y),axis=1)\n",
    "\n",
    "    Altersoltime=np.concatenate((Altersoltime,AlterjacsolY.t+t_start[i]))\n",
    "\n",
    "#interabuns.append(abun)\n",
    "#interEvals.append(evals)\n",
    "#solYs.append(solY)\n",
    "#soltimes.append(soltime)\n",
    "#print(jacsolY)"
   ]
  },
  {
   "cell_type": "code",
   "execution_count": 39,
   "metadata": {},
   "outputs": [
    {
     "name": "stdout",
     "output_type": "stream",
     "text": [
      "0.13638206070896752\n",
      "1.0\n",
      "100.0\n"
     ]
    }
   ],
   "source": [
    "#times for switching between networks\n",
    "t_start=[t_ini,1*timeunit,100*timeunit,t_max]\n",
    "\n",
    "#Solve the system\n",
    "#initial conditions\n",
    "Nudecn_b_ini=n_b_ini/(T_cache(t_max)*a_cache(t_max))**3*(NudecT_cache(t_max)*Nudeca_cache(t_max))**3\n",
    "NudecsolY=np.array([[1/(np.exp(Q/NudecT_cache(t_start[0]))+1)],[1/(np.exp(-Q/NudecT_cache(t_start[0]))+1)]])\n",
    "Nudecsoltime=np.array([t_start[0]])\n",
    "Nudecevals=0\n",
    "for i in range(len(networks)):\n",
    "    print(t_start[i]/timeunit)\n",
    "\n",
    "    t_space=[point for point in data[:,0] if t_start[i]<=point<t_start[i+1]]\n",
    "    t_space-=t_space[0]\n",
    "    #ft_space=[point for point in data[:,0] if point>t_cut]\n",
    "\n",
    "    initial_param=get_Y_jac(np.array([NudecT_cache(t_start[i]),Nudeca_cache(t_start[i])]+list(NudecsolY[:,-1])),i)\n",
    "    #else:\n",
    "    #    initial_param=list(solY[:,-1])+[0]*(nNucs[i]-nNucs[i-1])\n",
    "    #Give PyNucAstro jacobian nessecary parameters\n",
    "    def NudecjacPNA(t,Y):\n",
    "        jac=networks[i].jacobian(t/timeunit, Y,Nudecn_b_ini/Nudeca_cache(t+t_start[i])**3*molcm3, NudecT_cache(t+t_start[i])*TMeV2T9*1e9)/timeunit\n",
    "        return jac\n",
    "\n",
    "    #full derivative\n",
    "    def Nudecdydt(t,Y): \n",
    "        result=networks[i].rhs(t/timeunit, Y,Nudecn_b_ini/Nudeca_cache(t+t_start[i])**3*molcm3, NudecT_cache(t+t_start[i])*TMeV2T9*1e9)/timeunit    \n",
    "        return result\n",
    "    \n",
    "    NudecjacsolY = integrate.solve_ivp(Nudecdydt, [0,t_start[i+1]-t_start[i]], initial_param,method='Radau',atol=1e-80,rtol=1e-8,jac=NudecjacPNA,t_eval=t_space)#,first_step=timeunit*1e-3)#,)\n",
    "\n",
    "    Nudecevals+=NudecjacsolY.nfev\n",
    "    Nudecabun=[abun[-1] for abun in NudecjacsolY.y]\n",
    "    \n",
    "    NudecsolY=np.concatenate((np.concatenate((NudecsolY,np.full((nNucs[i]-nNucs[i-1],len(NudecsolY[0])), np.nan, order='C'))),NudecjacsolY.y),axis=1)\n",
    "\n",
    "    Nudecsoltime=np.concatenate((Nudecsoltime,NudecjacsolY.t+t_start[i]))\n",
    "\n",
    "#interabuns.append(abun)\n",
    "#interEvals.append(evals)\n",
    "#solYs.append(solY)\n",
    "#soltimes.append(soltime)\n",
    "#print(jacsolY)"
   ]
  },
  {
   "cell_type": "code",
   "execution_count": 40,
   "metadata": {},
   "outputs": [
    {
     "name": "stdout",
     "output_type": "stream",
     "text": [
      "0.13638206070896752\n",
      "1.0\n",
      "100.0\n"
     ]
    }
   ],
   "source": [
    "#times for switching between networks\n",
    "t_start=[t_ini,1*timeunit,100*timeunit,t_max]\n",
    "\n",
    "#Solve the system\n",
    "#initial conditions\n",
    "\n",
    "solY=np.array([[1/(np.exp(Q/T_cache(t_start[0]))+1)],[1/(np.exp(-Q/T_cache(t_start[0]))+1)]])\n",
    "soltime=np.array([t_start[0]])\n",
    "evals=0\n",
    "for i in range(len(networks)):\n",
    "    print(t_start[i]/timeunit)\n",
    "    \n",
    "    t_space=[point for point in data[:,0] if t_start[i]<=point<t_start[i+1]]\n",
    "    t_space-=t_space[0]\n",
    "    #ft_space=[point for point in data[:,0] if point>t_cut]\n",
    "\n",
    "    initial_param=get_Y_jac(np.array([T_cache(t_start[i]),a_cache(t_start[i])]+list(solY[:,-1])),i)\n",
    "    #if i==1:\n",
    "    #    initial_param[0]+=4e-4\n",
    "    #    initial_param[1]-=4e-4\n",
    "    #else:\n",
    "    #    initial_param=list(solY[:,-1])+[0]*(nNucs[i]-nNucs[i-1])\n",
    "    #Give PyNucAstro jacobian nessecary parameters\n",
    "    def jacPNA(t,Y):\n",
    "        jac=networks[i].jacobian(t/timeunit, Y,n_b_ini/a_cache(t+t_start[i])**3*molcm3, T_cache(t+t_start[i])*TMeV2T9*1e9)/timeunit\n",
    "        return jac\n",
    "\n",
    "    #full derivative\n",
    "    def dydt(t,Y): \n",
    "        result=networks[i].rhs(t/timeunit, Y,n_b_ini/a_cache(t+t_start[i])**3*molcm3, T_cache(t+t_start[i])*TMeV2T9*1e9)/timeunit    \n",
    "        return result\n",
    "    \n",
    "    jacsolY = integrate.solve_ivp(dydt, [0,t_start[i+1]-t_start[i]], initial_param,method='Radau',atol=1e-80,rtol=1e-8,jac=jacPNA,t_eval=t_space)#,first_step=timeunit*1e-3)#,)\n",
    "\n",
    "    evals+=jacsolY.nfev\n",
    "    abun=[abun[-1] for abun in jacsolY.y]\n",
    "    \n",
    "    solY=np.concatenate((np.concatenate((solY,np.full((nNucs[i]-nNucs[i-1],len(solY[0])), np.nan, order='C'))),jacsolY.y),axis=1)\n",
    "\n",
    "    soltime=np.concatenate((soltime,jacsolY.t+t_start[i]))\n",
    "\n",
    "#interabuns.append(abun)\n",
    "#interEvals.append(evals)\n",
    "#solYs.append(solY)\n",
    "#soltimes.append(soltime)\n",
    "#print(jacsolY)"
   ]
  },
  {
   "cell_type": "code",
   "execution_count": 41,
   "metadata": {},
   "outputs": [
    {
     "data": {
      "text/plain": [
       "\"\\n\\n#plt.figure('abundance',figsize=(6.4, 8))\\nfig, axes = plt.subplots(1, 1, figsize=(width, 4))\\n\\nfig.subplots_adjust(wspace=0.2, hspace=0.05, left=0.135, right=0.975, bottom=0.125, top=0.9)\\n\\nprop_cycle = plt.rcParams['axes.prop_cycle']\\ncolors = prop_cycle.by_key()['color']\\ncolors*=8\\nline=['-']*10+['--']*10+[':']*10+['-.']*10+['-']*10+['--']*10+[':']*10+['-.']*10\\n\\n\\nfor i in range(10,fnNucs):\\n    plt.plot(soltime/timeunit, data[:nmaxindex+1,i+3],':',color='lightgray')\\nfor i in range(10):\\n    plt.plot(soltime/timeunit, data[:nmaxindex+1,i+3],line[i], color=colors[i], label=Y_labels[i])\\n#plt.plot(soltime/timeunit, (data[:,22]-solY[19])/solY[19],'k--', label='Other')\\n\\n#solY[0:1]\\n#for i in range(10):\\n#    plt.plot(soltime/timeunit, np.array([get_Y_jac(np.array([T_cache(soltime[i]),a_cache(soltime[i])]+[solY[0][i],solY[1][i]]),1) for i in range(len(soltime))])\\n#,'--', color=colors[i], label=Y_labels[i])\\n\\n\\n#A[i]*get_Y_jac(y,i)[i]\\n\\n#plt.axvline(soltime[1150]/timeunit)\\nplt.xlabel('Time (s)')\\nplt.ylabel('abundance ratio')\\nxlims=(0.09,t_max/timeunit)\\nplt.ylim(1e-18,3)\\nplt.xlim(*xlims)\\nplt.xscale('log')\\nplt.yscale('log')#plt.yscale('symlog',linthresh=1.2e-3,linscale=0.5)\\n\\nplt.legend(loc='center left')\\nplt.twiny()\\nplt.xscale('log')\\nplt.xlim(*(T_cache(timeunit*t)*TMeV2T9*1e9  for t in xlims))\\nplt.gca().xaxis.set_major_formatter(AddK())\\n#fig.savefig('TeX/figures/abundancelight.pdf')\\nplt.show()\\n\\n####\\n\\nfig, axes = plt.subplots(1, 1, figsize=(width, 5))\\n\\nfig.subplots_adjust(wspace=0.2, hspace=0.05, left=0.135, right=0.975, bottom=0.1, top=0.93)\\n\\nlateline=['-.','-',':','--']\\n\\n#for i in range(10,fnNucs):\\n#    plt.plot(soltime/timeunit, A[i]*solY[i],lateline[(Z[i]-A[i])% 4], color=colors[A[i]-8], label=Y_labels[i])\\n\\nfor i in range(10,fnNucs):\\n    plt.plot(soltime/timeunit, (data[:nmaxindex+1,i+3]-solY[i])/solY[i],'-' if i==11 else lateline[A[i]% 4], color=colors[(i-11)//4], label=Y_labels[i])\\n\\n\\n\\n#plt.plot(soltime/timeunit, A[10]*solY[10],'k:', label='Be9')\\n#for i in range(11,fnNucs):\\n#    plt.plot(soltime/timeunit, A[i]*solY[i],lateline[i], color=colors[i% 4], label=Y_labels[i])\\n\\n  \\n#plt.axvline(soltime[1200]/timeunit)\\nplt.xlabel('Time (s)')\\nplt.ylabel('abundance ratio')\\nplt.ylim(-1,1)\\nxlims=(10,2e4)\\nplt.xlim(*xlims)\\nplt.xscale('log')\\n#plt.yscale('log')\\nplt.legend(loc='center left')\\nplt.twiny()\\nplt.xscale('log')\\nplt.xlim(*(T_cache(timeunit*t)*TMeV2T9*1e9 for t in xlims))\\nplt.gca().xaxis.set_major_formatter(AddK())\\n\\n#fig.savefig('TeX/figures/abundanceheavy.pdf')\\nplt.show()\\n\""
      ]
     },
     "execution_count": 41,
     "metadata": {},
     "output_type": "execute_result"
    }
   ],
   "source": [
    "# Plot the results    \n",
    "#soltime=midsoltimes[50]\n",
    "#solY=midsolYs[50]\n",
    "'''\n",
    "\n",
    "#plt.figure('abundance',figsize=(6.4, 8))\n",
    "fig, axes = plt.subplots(1, 1, figsize=(width, 4))\n",
    "\n",
    "fig.subplots_adjust(wspace=0.2, hspace=0.05, left=0.135, right=0.975, bottom=0.125, top=0.9)\n",
    "\n",
    "prop_cycle = plt.rcParams['axes.prop_cycle']\n",
    "colors = prop_cycle.by_key()['color']\n",
    "colors*=8\n",
    "line=['-']*10+['--']*10+[':']*10+['-.']*10+['-']*10+['--']*10+[':']*10+['-.']*10\n",
    "\n",
    "\n",
    "for i in range(10,fnNucs):\n",
    "    plt.plot(soltime/timeunit, data[:nmaxindex+1,i+3],':',color='lightgray')\n",
    "for i in range(10):\n",
    "    plt.plot(soltime/timeunit, data[:nmaxindex+1,i+3],line[i], color=colors[i], label=Y_labels[i])\n",
    "#plt.plot(soltime/timeunit, (data[:,22]-solY[19])/solY[19],'k--', label='Other')\n",
    "\n",
    "#solY[0:1]\n",
    "#for i in range(10):\n",
    "#    plt.plot(soltime/timeunit, np.array([get_Y_jac(np.array([T_cache(soltime[i]),a_cache(soltime[i])]+[solY[0][i],solY[1][i]]),1) for i in range(len(soltime))])\n",
    "#,'--', color=colors[i], label=Y_labels[i])\n",
    "\n",
    "\n",
    "#A[i]*get_Y_jac(y,i)[i]\n",
    "\n",
    "#plt.axvline(soltime[1150]/timeunit)\n",
    "plt.xlabel('Time (s)')\n",
    "plt.ylabel('abundance ratio')\n",
    "xlims=(0.09,t_max/timeunit)\n",
    "plt.ylim(1e-18,3)\n",
    "plt.xlim(*xlims)\n",
    "plt.xscale('log')\n",
    "plt.yscale('log')#plt.yscale('symlog',linthresh=1.2e-3,linscale=0.5)\n",
    "\n",
    "plt.legend(loc='center left')\n",
    "plt.twiny()\n",
    "plt.xscale('log')\n",
    "plt.xlim(*(T_cache(timeunit*t)*TMeV2T9*1e9  for t in xlims))\n",
    "plt.gca().xaxis.set_major_formatter(AddK())\n",
    "#fig.savefig('TeX/figures/abundancelight.pdf')\n",
    "plt.show()\n",
    "\n",
    "####\n",
    "\n",
    "fig, axes = plt.subplots(1, 1, figsize=(width, 5))\n",
    "\n",
    "fig.subplots_adjust(wspace=0.2, hspace=0.05, left=0.135, right=0.975, bottom=0.1, top=0.93)\n",
    "\n",
    "lateline=['-.','-',':','--']\n",
    "\n",
    "#for i in range(10,fnNucs):\n",
    "#    plt.plot(soltime/timeunit, A[i]*solY[i],lateline[(Z[i]-A[i])% 4], color=colors[A[i]-8], label=Y_labels[i])\n",
    "\n",
    "for i in range(10,fnNucs):\n",
    "    plt.plot(soltime/timeunit, (data[:nmaxindex+1,i+3]-solY[i])/solY[i],'-' if i==11 else lateline[A[i]% 4], color=colors[(i-11)//4], label=Y_labels[i])\n",
    "\n",
    "\n",
    "\n",
    "#plt.plot(soltime/timeunit, A[10]*solY[10],'k:', label='Be9')\n",
    "#for i in range(11,fnNucs):\n",
    "#    plt.plot(soltime/timeunit, A[i]*solY[i],lateline[i], color=colors[i% 4], label=Y_labels[i])\n",
    "\n",
    "  \n",
    "#plt.axvline(soltime[1200]/timeunit)\n",
    "plt.xlabel('Time (s)')\n",
    "plt.ylabel('abundance ratio')\n",
    "plt.ylim(-1,1)\n",
    "xlims=(10,2e4)\n",
    "plt.xlim(*xlims)\n",
    "plt.xscale('log')\n",
    "#plt.yscale('log')\n",
    "plt.legend(loc='center left')\n",
    "plt.twiny()\n",
    "plt.xscale('log')\n",
    "plt.xlim(*(T_cache(timeunit*t)*TMeV2T9*1e9 for t in xlims))\n",
    "plt.gca().xaxis.set_major_formatter(AddK())\n",
    "\n",
    "#fig.savefig('TeX/figures/abundanceheavy.pdf')\n",
    "plt.show()\n",
    "'''"
   ]
  },
  {
   "cell_type": "code",
   "execution_count": 42,
   "metadata": {},
   "outputs": [
    {
     "data": {
      "text/plain": [
       "\"\\n\\n#plt.figure('abundance',figsize=(6.4, 8))\\nfig, axes = plt.subplots(1, 1, figsize=(width, 4))\\n\\nfig.subplots_adjust(wspace=0.2, hspace=0.05, left=0.135, right=0.975, bottom=0.125, top=0.9)\\n\\nprop_cycle = plt.rcParams['axes.prop_cycle']\\ncolors = prop_cycle.by_key()['color']\\ncolors*=8\\nline=['-']*10+['--']*10+[':']*10+['-.']*10+['-']*10+['--']*10+[':']*10+['-.']*10\\n\\n\\nfor i in range(10,fnNucs):\\n    plt.plot(Altersoltime/timeunit, (data[:nmaxindex+1,i+3]-AltersolY[i])/data[:nmaxindex+1,i+3],':',color='lightgray')\\nfor i in range(10):\\n    plt.plot(Altersoltime/timeunit, (data[:nmaxindex+1,i+3]-AltersolY[i])/data[:nmaxindex+1,i+3],line[i], color=colors[i], label=Y_labels[i])\\n#plt.plot(soltime/timeunit, (data[:,22]-solY[19])/solY[19],'k--', label='Other')\\n\\n#solY[0:1]\\n#for i in range(10):\\n#    plt.plot(soltime/timeunit, np.array([get_Y_jac(np.array([T_cache(soltime[i]),a_cache(soltime[i])]+[solY[0][i],solY[1][i]]),1) for i in range(len(soltime))])\\n#,'--', color=colors[i], label=Y_labels[i])\\n\\n\\n#A[i]*get_Y_jac(y,i)[i]\\n\\nplt.axvline(data[23555,0]/timeunit)\\nplt.xlabel('Time (s)')\\nplt.ylabel('abundance ratio')\\n#xlims=(0.09,t_max/timeunit)\\nxlims=(20,2e4)\\nplt.ylim(-1,1)\\nplt.xlim(*xlims)\\nplt.xscale('log')\\nplt.yscale('symlog',linthresh=1.2e-3,linscale=0.5)\\n\\nplt.legend(loc='center left')\\nplt.twiny()\\nplt.xscale('log')\\nplt.xlim(*(AlterT_cache(timeunit*t)*TMeV2T9*1e9  for t in xlims))\\nplt.gca().xaxis.set_major_formatter(AddK())\\n#fig.savefig('TeX/figures/abundancelight.pdf')\\nplt.show()\\n\\n####\\n\\nfig, axes = plt.subplots(1, 1, figsize=(width, 5))\\n\\nfig.subplots_adjust(wspace=0.2, hspace=0.05, left=0.135, right=0.975, bottom=0.1, top=0.93)\\n\\nlateline=['-.','-',':','--']\\n\\n#for i in range(10,fnNucs):\\n#    plt.plot(soltime/timeunit, A[i]*solY[i],lateline[(Z[i]-A[i])% 4], color=colors[A[i]-8], label=Y_labels[i])\\n\\nfor i in range(10,fnNucs):\\n    plt.plot(Altersoltime/timeunit, (data[:nmaxindex+1,i+3]-AltersolY[i])/AltersolY[i],'-' if i==11 else lateline[A[i]% 4], color=colors[(i-11)//4], label=Y_labels[i])\\n\\n\\n\\n#plt.plot(soltime/timeunit, A[10]*solY[10],'k:', label='Be9')\\n#for i in range(11,fnNucs):\\n#    plt.plot(soltime/timeunit, A[i]*solY[i],lateline[i], color=colors[i% 4], label=Y_labels[i])\\n\\n  \\n#plt.axvline(soltime[1200]/timeunit)\\nplt.xlabel('Time (s)')\\nplt.ylabel('abundance ratio')\\nplt.ylim(-1,1)\\nxlims=(10,2e4)\\nplt.xlim(*xlims)\\nplt.xscale('log')\\n#plt.yscale('log')\\nplt.legend(loc='center left')\\nplt.twiny()\\nplt.xscale('log')\\nplt.xlim(*(T_cache(timeunit*t)*TMeV2T9*1e9 for t in xlims))\\nplt.gca().xaxis.set_major_formatter(AddK())\\n\\n#fig.savefig('TeX/figures/abundanceheavy.pdf')\\nplt.show()\\n\""
      ]
     },
     "execution_count": 42,
     "metadata": {},
     "output_type": "execute_result"
    }
   ],
   "source": [
    "# Plot the results    \n",
    "#soltime=midsoltimes[50]\n",
    "#solY=midsolYs[50]\n",
    "'''\n",
    "\n",
    "#plt.figure('abundance',figsize=(6.4, 8))\n",
    "fig, axes = plt.subplots(1, 1, figsize=(width, 4))\n",
    "\n",
    "fig.subplots_adjust(wspace=0.2, hspace=0.05, left=0.135, right=0.975, bottom=0.125, top=0.9)\n",
    "\n",
    "prop_cycle = plt.rcParams['axes.prop_cycle']\n",
    "colors = prop_cycle.by_key()['color']\n",
    "colors*=8\n",
    "line=['-']*10+['--']*10+[':']*10+['-.']*10+['-']*10+['--']*10+[':']*10+['-.']*10\n",
    "\n",
    "\n",
    "for i in range(10,fnNucs):\n",
    "    plt.plot(Altersoltime/timeunit, (data[:nmaxindex+1,i+3]-AltersolY[i])/data[:nmaxindex+1,i+3],':',color='lightgray')\n",
    "for i in range(10):\n",
    "    plt.plot(Altersoltime/timeunit, (data[:nmaxindex+1,i+3]-AltersolY[i])/data[:nmaxindex+1,i+3],line[i], color=colors[i], label=Y_labels[i])\n",
    "#plt.plot(soltime/timeunit, (data[:,22]-solY[19])/solY[19],'k--', label='Other')\n",
    "\n",
    "#solY[0:1]\n",
    "#for i in range(10):\n",
    "#    plt.plot(soltime/timeunit, np.array([get_Y_jac(np.array([T_cache(soltime[i]),a_cache(soltime[i])]+[solY[0][i],solY[1][i]]),1) for i in range(len(soltime))])\n",
    "#,'--', color=colors[i], label=Y_labels[i])\n",
    "\n",
    "\n",
    "#A[i]*get_Y_jac(y,i)[i]\n",
    "\n",
    "plt.axvline(data[23555,0]/timeunit)\n",
    "plt.xlabel('Time (s)')\n",
    "plt.ylabel('abundance ratio')\n",
    "#xlims=(0.09,t_max/timeunit)\n",
    "xlims=(20,2e4)\n",
    "plt.ylim(-1,1)\n",
    "plt.xlim(*xlims)\n",
    "plt.xscale('log')\n",
    "plt.yscale('symlog',linthresh=1.2e-3,linscale=0.5)\n",
    "\n",
    "plt.legend(loc='center left')\n",
    "plt.twiny()\n",
    "plt.xscale('log')\n",
    "plt.xlim(*(AlterT_cache(timeunit*t)*TMeV2T9*1e9  for t in xlims))\n",
    "plt.gca().xaxis.set_major_formatter(AddK())\n",
    "#fig.savefig('TeX/figures/abundancelight.pdf')\n",
    "plt.show()\n",
    "\n",
    "####\n",
    "\n",
    "fig, axes = plt.subplots(1, 1, figsize=(width, 5))\n",
    "\n",
    "fig.subplots_adjust(wspace=0.2, hspace=0.05, left=0.135, right=0.975, bottom=0.1, top=0.93)\n",
    "\n",
    "lateline=['-.','-',':','--']\n",
    "\n",
    "#for i in range(10,fnNucs):\n",
    "#    plt.plot(soltime/timeunit, A[i]*solY[i],lateline[(Z[i]-A[i])% 4], color=colors[A[i]-8], label=Y_labels[i])\n",
    "\n",
    "for i in range(10,fnNucs):\n",
    "    plt.plot(Altersoltime/timeunit, (data[:nmaxindex+1,i+3]-AltersolY[i])/AltersolY[i],'-' if i==11 else lateline[A[i]% 4], color=colors[(i-11)//4], label=Y_labels[i])\n",
    "\n",
    "\n",
    "\n",
    "#plt.plot(soltime/timeunit, A[10]*solY[10],'k:', label='Be9')\n",
    "#for i in range(11,fnNucs):\n",
    "#    plt.plot(soltime/timeunit, A[i]*solY[i],lateline[i], color=colors[i% 4], label=Y_labels[i])\n",
    "\n",
    "  \n",
    "#plt.axvline(soltime[1200]/timeunit)\n",
    "plt.xlabel('Time (s)')\n",
    "plt.ylabel('abundance ratio')\n",
    "plt.ylim(-1,1)\n",
    "xlims=(10,2e4)\n",
    "plt.xlim(*xlims)\n",
    "plt.xscale('log')\n",
    "#plt.yscale('log')\n",
    "plt.legend(loc='center left')\n",
    "plt.twiny()\n",
    "plt.xscale('log')\n",
    "plt.xlim(*(T_cache(timeunit*t)*TMeV2T9*1e9 for t in xlims))\n",
    "plt.gca().xaxis.set_major_formatter(AddK())\n",
    "\n",
    "#fig.savefig('TeX/figures/abundanceheavy.pdf')\n",
    "plt.show()\n",
    "'''"
   ]
  },
  {
   "cell_type": "code",
   "execution_count": 43,
   "metadata": {},
   "outputs": [
    {
     "data": {
      "text/plain": [
       "1.875087298096852"
      ]
     },
     "execution_count": 43,
     "metadata": {},
     "output_type": "execute_result"
    }
   ],
   "source": [
    "data[23555,1]*TMeV2T9"
   ]
  },
  {
   "cell_type": "code",
   "execution_count": 44,
   "metadata": {},
   "outputs": [
    {
     "data": {
      "text/plain": [
       "37.47852845362"
      ]
     },
     "execution_count": 44,
     "metadata": {},
     "output_type": "execute_result"
    }
   ],
   "source": [
    "data[23555,0]/timeunit"
   ]
  },
  {
   "cell_type": "code",
   "execution_count": 45,
   "metadata": {},
   "outputs": [
    {
     "data": {
      "image/png": "[encoded data removed]",
      "text/plain": [
       "<Figure size 510x400 with 2 Axes>"
      ]
     },
     "metadata": {},
     "output_type": "display_data"
    },
    {
     "data": {
      "text/plain": [
       "\"\\n####\\n\\nfig, axes = plt.subplots(1, 1, figsize=(width, 5))\\n\\nfig.subplots_adjust(wspace=0.2, hspace=0.05, left=0.135, right=0.975, bottom=0.1, top=0.93)\\n\\nlateline=['-.','-',':','--']\\n\\n#for i in range(10,fnNucs):\\n#    plt.plot(soltime/timeunit, A[i]*solY[i],lateline[(Z[i]-A[i])% 4], color=colors[A[i]-8], label=Y_labels[i])\\n\\nfor i in range(10,fnNucs):\\n    plt.plot(Altersoltime/timeunit, (data[:nmaxindex+1,i+3]-AltersolY[i])/AltersolY[i],'-' if i==11 else lateline[A[i]% 4], color=colors[(i-11)//4], label=Y_labels[i])\\n\\n\\n\\n#plt.plot(soltime/timeunit, A[10]*solY[10],'k:', label='Be9')\\n#for i in range(11,fnNucs):\\n#    plt.plot(soltime/timeunit, A[i]*solY[i],lateline[i], color=colors[i% 4], label=Y_labels[i])\\n\\n  \\n#plt.axvline(soltime[1200]/timeunit)\\nplt.xlabel('Time (s)')\\nplt.ylabel('abundance ratio')\\nplt.ylim(-1,1)\\nxlims=(10,2e4)\\nplt.xlim(*xlims)\\nplt.xscale('log')\\n#plt.yscale('log')\\nplt.legend(loc='center left')\\nplt.twiny()\\nplt.xscale('log')\\nplt.xlim(*(T_cache(timeunit*t)*TMeV2T9*1e9 for t in xlims))\\nplt.gca().xaxis.set_major_formatter(AddK())\\n\\n#fig.savefig('TeX/figures/abundanceheavy.pdf')\\nplt.show()\\n\""
      ]
     },
     "execution_count": 45,
     "metadata": {},
     "output_type": "execute_result"
    }
   ],
   "source": [
    "# Plot the results    \n",
    "#soltime=midsoltimes[50]\n",
    "#solY=midsolYs[50]\n",
    "\n",
    "\n",
    "#plt.figure('abundance',figsize=(6.4, 8))\n",
    "fig, axes = plt.subplots(1, 1, figsize=(width, 4))\n",
    "\n",
    "fig.subplots_adjust(wspace=0.2, hspace=0.05, left=0.135, right=0.985, bottom=0.105, top=0.93)\n",
    "\n",
    "prop_cycle = plt.rcParams['axes.prop_cycle']\n",
    "colors = prop_cycle.by_key()['color']\n",
    "colors*=8\n",
    "line=['-']*10+['--']*10+[':']*10+['-.']*10+['-']*10+['--']*10+[':']*10+['-.']*10\n",
    "res=10\n",
    "\n",
    "for i in range(10,fnNucs):\n",
    "    plt.plot(Altersoltime[::res]/timeunit, (data[:nmaxindex+1,i+3][::res]-AltersolY[i][::res])/AltersolY[i][::res],':',color='lightgray')\n",
    "for i in range(10):\n",
    "    plt.plot(Altersoltime[::res]/timeunit, (data[:nmaxindex+1,i+3][::res]-AltersolY[i][::res])/AltersolY[i][::res],line[i], color=colors[i], label=Y_labels[i])\n",
    "plt.plot(Altersoltime/timeunit, (AltersolY[19])/AltersolY[19]**2,':',color='lightgray', label='Heavy \\n nuclei')\n",
    "\n",
    "#solY[0:1]\n",
    "#for i in range(10):\n",
    "#    plt.plot(soltime/timeunit, np.array([get_Y_jac(np.array([T_cache(soltime[i]),a_cache(soltime[i])]+[solY[0][i],solY[1][i]]),1) for i in range(len(soltime))])\n",
    "#,'--', color=colors[i], label=Y_labels[i])\n",
    "\n",
    "\n",
    "#A[i]*get_Y_jac(y,i)[i]\n",
    "\n",
    "#plt.axvline(soltime[1150]/timeunit)\n",
    "plt.xlabel('Time (s)')\n",
    "plt.ylabel(r'$\\delta Y/Y$')\n",
    "xlims=(0.1,t_max/timeunit)\n",
    "plt.ylim(-1,1)\n",
    "plt.xlim(*xlims)\n",
    "plt.xscale('log')\n",
    "plt.yscale('symlog',linthresh=1.2e-3,linscale=0.5)\n",
    "\n",
    "plt.legend(loc='upper right')\n",
    "plt.twiny()\n",
    "plt.xscale('log')\n",
    "plt.xlim(*(AlterT_cache(timeunit*t)*TMeV2T9*1e9  for t in xlims))\n",
    "plt.gca().xaxis.set_major_formatter(AddK())\n",
    "#fig.savefig('TeX/figures/AlterBBNdeltaY.pdf')\n",
    "plt.show()\n",
    "'''\n",
    "####\n",
    "\n",
    "fig, axes = plt.subplots(1, 1, figsize=(width, 5))\n",
    "\n",
    "fig.subplots_adjust(wspace=0.2, hspace=0.05, left=0.135, right=0.975, bottom=0.1, top=0.93)\n",
    "\n",
    "lateline=['-.','-',':','--']\n",
    "\n",
    "#for i in range(10,fnNucs):\n",
    "#    plt.plot(soltime/timeunit, A[i]*solY[i],lateline[(Z[i]-A[i])% 4], color=colors[A[i]-8], label=Y_labels[i])\n",
    "\n",
    "for i in range(10,fnNucs):\n",
    "    plt.plot(Altersoltime/timeunit, (data[:nmaxindex+1,i+3]-AltersolY[i])/AltersolY[i],'-' if i==11 else lateline[A[i]% 4], color=colors[(i-11)//4], label=Y_labels[i])\n",
    "\n",
    "\n",
    "\n",
    "#plt.plot(soltime/timeunit, A[10]*solY[10],'k:', label='Be9')\n",
    "#for i in range(11,fnNucs):\n",
    "#    plt.plot(soltime/timeunit, A[i]*solY[i],lateline[i], color=colors[i% 4], label=Y_labels[i])\n",
    "\n",
    "  \n",
    "#plt.axvline(soltime[1200]/timeunit)\n",
    "plt.xlabel('Time (s)')\n",
    "plt.ylabel('abundance ratio')\n",
    "plt.ylim(-1,1)\n",
    "xlims=(10,2e4)\n",
    "plt.xlim(*xlims)\n",
    "plt.xscale('log')\n",
    "#plt.yscale('log')\n",
    "plt.legend(loc='center left')\n",
    "plt.twiny()\n",
    "plt.xscale('log')\n",
    "plt.xlim(*(T_cache(timeunit*t)*TMeV2T9*1e9 for t in xlims))\n",
    "plt.gca().xaxis.set_major_formatter(AddK())\n",
    "\n",
    "#fig.savefig('TeX/figures/abundanceheavy.pdf')\n",
    "plt.show()\n",
    "'''"
   ]
  },
  {
   "cell_type": "code",
   "execution_count": 46,
   "metadata": {},
   "outputs": [
    {
     "data": {
      "text/plain": [
       "\"\\n#plt.figure('abundance',figsize=(6.4, 8))\\nfig, axes = plt.subplots(1, 1, figsize=(width, 4))\\n\\nfig.subplots_adjust(wspace=0.2, hspace=0.05, left=0.135, right=0.975, bottom=0.125, top=0.9)\\n\\nprop_cycle = plt.rcParams['axes.prop_cycle']\\ncolors = prop_cycle.by_key()['color']\\ncolors*=8\\nline=['-']*10+['--']*10+[':']*10+['-.']*10+['-']*10+['--']*10+[':']*10+['-.']*10\\n\\n\\nfor i in range(10,fnNucs):\\n    plt.plot(soltime/timeunit, (solY[i]-AltersolY[i])/solY[i],':',color='lightgray')\\nfor i in range(10):\\n    plt.plot(soltime/timeunit, (solY[i]-AltersolY[i])/solY[i],line[i], color=colors[i], label=Y_labels[i])\\n#plt.plot(soltime/timeunit, (data[:,22]-solY[19])/solY[19],'k--', label='Other')\\n\\n#solY[0:1]\\n#for i in range(10):\\n#    plt.plot(soltime/timeunit, np.array([get_Y_jac(np.array([T_cache(soltime[i]),a_cache(soltime[i])]+[solY[0][i],solY[1][i]]),1) for i in range(len(soltime))])\\n#,'--', color=colors[i], label=Y_labels[i])\\n\\n\\n#A[i]*get_Y_jac(y,i)[i]\\n\\n#plt.axvline(soltime[1150]/timeunit)\\nplt.xlabel('Time (s)')\\nplt.ylabel('abundance ratio')\\nxlims=(0.09,t_max/timeunit)\\nplt.ylim(-0.1,0.1)\\nplt.xlim(*xlims)\\nplt.xscale('log')\\n#plt.yscale('log')\\nplt.yscale('symlog',linthresh=1e-5,linscale=0.5)\\nplt.legend(loc='center left')\\nplt.twiny()\\nplt.xscale('log')\\nplt.xlim(*(T_cache(timeunit*t)*TMeV2T9*1e9  for t in xlims))\\nplt.gca().xaxis.set_major_formatter(AddK())\\n#fig.savefig('TeX/figures/abundancelight.pdf')\\nplt.show()\\n\\n####\\n\\nfig, axes = plt.subplots(1, 1, figsize=(width, 5))\\n\\nfig.subplots_adjust(wspace=0.2, hspace=0.05, left=0.135, right=0.975, bottom=0.1, top=0.93)\\n\\nlateline=['-.','-',':','--']\\n\\n#for i in range(10,fnNucs):\\n#    plt.plot(soltime/timeunit, A[i]*solY[i],lateline[(Z[i]-A[i])% 4], color=colors[A[i]-8], label=Y_labels[i])\\n\\nfor i in range(10,fnNucs):\\n    plt.plot(soltime/timeunit, (solY[i]-AltersolY[i])/solY[i],'-' if i==11 else lateline[A[i]% 4], color=colors[(i-11)//4], label=Y_labels[i])\\n\\n\\n\\n#plt.plot(soltime/timeunit, A[10]*solY[10],'k:', label='Be9')\\n#for i in range(11,fnNucs):\\n#    plt.plot(soltime/timeunit, A[i]*solY[i],lateline[i], color=colors[i% 4], label=Y_labels[i])\\nplt.yscale('symlog',linthresh=1e-8,linscale=1e-5)\\n  \\n#plt.axvline(soltime[1200]/timeunit)\\nplt.xlabel('Time (s)')\\nplt.ylabel('abundance ratio')\\nplt.ylim(-0.1,0.1)\\nxlims=(10,2e4)\\nplt.xlim(*xlims)\\nplt.xscale('log')\\n#plt.yscale('log')\\nplt.legend(loc='center left')\\nplt.twiny()\\nplt.xscale('log')\\nplt.xlim(*(T_cache(timeunit*t)*TMeV2T9*1e9 for t in xlims))\\nplt.gca().xaxis.set_major_formatter(AddK())\\n\\n#fig.savefig('TeX/figures/abundanceheavy.pdf')\\nplt.show()\\n\""
      ]
     },
     "execution_count": 46,
     "metadata": {},
     "output_type": "execute_result"
    }
   ],
   "source": [
    "# Plot the results    \n",
    "#soltime=midsoltimes[50]\n",
    "#solY=midsolYs[50]\n",
    "\n",
    "'''\n",
    "#plt.figure('abundance',figsize=(6.4, 8))\n",
    "fig, axes = plt.subplots(1, 1, figsize=(width, 4))\n",
    "\n",
    "fig.subplots_adjust(wspace=0.2, hspace=0.05, left=0.135, right=0.975, bottom=0.125, top=0.9)\n",
    "\n",
    "prop_cycle = plt.rcParams['axes.prop_cycle']\n",
    "colors = prop_cycle.by_key()['color']\n",
    "colors*=8\n",
    "line=['-']*10+['--']*10+[':']*10+['-.']*10+['-']*10+['--']*10+[':']*10+['-.']*10\n",
    "\n",
    "\n",
    "for i in range(10,fnNucs):\n",
    "    plt.plot(soltime/timeunit, (solY[i]-AltersolY[i])/solY[i],':',color='lightgray')\n",
    "for i in range(10):\n",
    "    plt.plot(soltime/timeunit, (solY[i]-AltersolY[i])/solY[i],line[i], color=colors[i], label=Y_labels[i])\n",
    "#plt.plot(soltime/timeunit, (data[:,22]-solY[19])/solY[19],'k--', label='Other')\n",
    "\n",
    "#solY[0:1]\n",
    "#for i in range(10):\n",
    "#    plt.plot(soltime/timeunit, np.array([get_Y_jac(np.array([T_cache(soltime[i]),a_cache(soltime[i])]+[solY[0][i],solY[1][i]]),1) for i in range(len(soltime))])\n",
    "#,'--', color=colors[i], label=Y_labels[i])\n",
    "\n",
    "\n",
    "#A[i]*get_Y_jac(y,i)[i]\n",
    "\n",
    "#plt.axvline(soltime[1150]/timeunit)\n",
    "plt.xlabel('Time (s)')\n",
    "plt.ylabel('abundance ratio')\n",
    "xlims=(0.09,t_max/timeunit)\n",
    "plt.ylim(-0.1,0.1)\n",
    "plt.xlim(*xlims)\n",
    "plt.xscale('log')\n",
    "#plt.yscale('log')\n",
    "plt.yscale('symlog',linthresh=1e-5,linscale=0.5)\n",
    "plt.legend(loc='center left')\n",
    "plt.twiny()\n",
    "plt.xscale('log')\n",
    "plt.xlim(*(T_cache(timeunit*t)*TMeV2T9*1e9  for t in xlims))\n",
    "plt.gca().xaxis.set_major_formatter(AddK())\n",
    "#fig.savefig('TeX/figures/abundancelight.pdf')\n",
    "plt.show()\n",
    "\n",
    "####\n",
    "\n",
    "fig, axes = plt.subplots(1, 1, figsize=(width, 5))\n",
    "\n",
    "fig.subplots_adjust(wspace=0.2, hspace=0.05, left=0.135, right=0.975, bottom=0.1, top=0.93)\n",
    "\n",
    "lateline=['-.','-',':','--']\n",
    "\n",
    "#for i in range(10,fnNucs):\n",
    "#    plt.plot(soltime/timeunit, A[i]*solY[i],lateline[(Z[i]-A[i])% 4], color=colors[A[i]-8], label=Y_labels[i])\n",
    "\n",
    "for i in range(10,fnNucs):\n",
    "    plt.plot(soltime/timeunit, (solY[i]-AltersolY[i])/solY[i],'-' if i==11 else lateline[A[i]% 4], color=colors[(i-11)//4], label=Y_labels[i])\n",
    "\n",
    "\n",
    "\n",
    "#plt.plot(soltime/timeunit, A[10]*solY[10],'k:', label='Be9')\n",
    "#for i in range(11,fnNucs):\n",
    "#    plt.plot(soltime/timeunit, A[i]*solY[i],lateline[i], color=colors[i% 4], label=Y_labels[i])\n",
    "plt.yscale('symlog',linthresh=1e-8,linscale=1e-5)\n",
    "  \n",
    "#plt.axvline(soltime[1200]/timeunit)\n",
    "plt.xlabel('Time (s)')\n",
    "plt.ylabel('abundance ratio')\n",
    "plt.ylim(-0.1,0.1)\n",
    "xlims=(10,2e4)\n",
    "plt.xlim(*xlims)\n",
    "plt.xscale('log')\n",
    "#plt.yscale('log')\n",
    "plt.legend(loc='center left')\n",
    "plt.twiny()\n",
    "plt.xscale('log')\n",
    "plt.xlim(*(T_cache(timeunit*t)*TMeV2T9*1e9 for t in xlims))\n",
    "plt.gca().xaxis.set_major_formatter(AddK())\n",
    "\n",
    "#fig.savefig('TeX/figures/abundanceheavy.pdf')\n",
    "plt.show()\n",
    "'''"
   ]
  },
  {
   "cell_type": "code",
   "execution_count": 47,
   "metadata": {},
   "outputs": [
    {
     "data": {
      "text/plain": [
       "1.2441331839739533e-05"
      ]
     },
     "execution_count": 47,
     "metadata": {},
     "output_type": "execute_result"
    }
   ],
   "source": [
    "rho_gamma(T_cache(300*timeunit))"
   ]
  },
  {
   "cell_type": "code",
   "execution_count": 48,
   "metadata": {},
   "outputs": [
    {
     "data": {
      "text/plain": [
       "4.1412319833090434e-11"
      ]
     },
     "execution_count": 48,
     "metadata": {},
     "output_type": "execute_result"
    }
   ],
   "source": [
    "rho_b_ini/a_cache(300*timeunit)**3"
   ]
  },
  {
   "cell_type": "code",
   "execution_count": 49,
   "metadata": {},
   "outputs": [
    {
     "name": "stdout",
     "output_type": "stream",
     "text": [
      "Results from this code with dumb correction\n",
      "\t Yp  \t\t H2/H \t\t H3/H \t\t Li7/H \t\t Li6/H \t\t Be7/H \n",
      "value:\t 2.470e-01\t 2.532e-05\t 1.040e-05\t 4.712e-10\t 7.503e-15\t 4.411e-10\n"
     ]
    }
   ],
   "source": [
    "print('Results from this code with dumb correction')\n",
    "print('\\t Yp  '+'\\t\\t H2/H '+'\\t\\t H3/H '+'\\t\\t Li7/H '+'\\t\\t Li6/H '+'\\t\\t Be7/H ')\n",
    "\n",
    "print('value:\\t '\"{:.3e}\".format(4*abun110[5])+'\\t '+\"{:.3e}\".format(abun110[2]/abun110[1])+'\\t '+\"{:.3e}\".format((abun110[3]+abun110[4])/abun110[1])+'\\t '+\"{:.3e}\".format((abun110[7]+abun110[9])/abun110[1])+'\\t '+\"{:.3e}\".format((abun110[6])/abun110[1])+'\\t '+\"{:.3e}\".format((abun110[9])/abun110[1]))\n"
   ]
  },
  {
   "cell_type": "code",
   "execution_count": 50,
   "metadata": {},
   "outputs": [
    {
     "name": "stdout",
     "output_type": "stream",
     "text": [
      "Results from this code with dumb correction\n",
      "\t Yp  \t\t H2/H \t\t H3/H \t\t Li7/H \t\t Li6/H \t\t Be7/H \n",
      "value:\t 2.470e-01\t 2.532e-05\t 1.040e-05\t 4.712e-10\t 7.503e-15\t 4.411e-10\n"
     ]
    }
   ],
   "source": [
    "print('Results from this code with dumb correction')\n",
    "print('\\t Yp  '+'\\t\\t H2/H '+'\\t\\t H3/H '+'\\t\\t Li7/H '+'\\t\\t Li6/H '+'\\t\\t Be7/H ')\n",
    "\n",
    "print('value:\\t '\"{:.3e}\".format(4*abun110[5])+'\\t '+\"{:.3e}\".format(abun110[2]/abun110[1])+'\\t '+\"{:.3e}\".format((abun110[3]+abun110[4])/abun110[1])+'\\t '+\"{:.3e}\".format((abun110[7]+abun110[9])/abun110[1])+'\\t '+\"{:.3e}\".format((abun110[6])/abun110[1])+'\\t '+\"{:.3e}\".format((abun110[9])/abun110[1]))\n"
   ]
  },
  {
   "cell_type": "code",
   "execution_count": 51,
   "metadata": {},
   "outputs": [
    {
     "data": {
      "text/plain": [
       "6.1e-10"
      ]
     },
     "execution_count": 51,
     "metadata": {},
     "output_type": "execute_result"
    }
   ],
   "source": [
    "eta"
   ]
  },
  {
   "cell_type": "code",
   "execution_count": 52,
   "metadata": {},
   "outputs": [
    {
     "name": "stdout",
     "output_type": "stream",
     "text": [
      "Results from this code with Nudec background\n",
      "\t Yp  \t\t H2/H \t\t H3/H \t\t Li7/H \t\t Li6/H \t\t Be7/H \n",
      "value:\t 2.469e-01\t 2.532e-05\t 1.040e-05\t 4.711e-10\t 7.498e-15\t 4.409e-10\n"
     ]
    }
   ],
   "source": [
    "print('Results from this code with Nudec background')\n",
    "print('\\t Yp  '+'\\t\\t H2/H '+'\\t\\t H3/H '+'\\t\\t Li7/H '+'\\t\\t Li6/H '+'\\t\\t Be7/H ')\n",
    "\n",
    "print('value:\\t '\"{:.3e}\".format(4*Nudecabun[5])+'\\t '+\"{:.3e}\".format(Nudecabun[2]/Nudecabun[1])+'\\t '+\"{:.3e}\".format((Nudecabun[3]+Nudecabun[4])/Nudecabun[1])+'\\t '+\"{:.3e}\".format((Nudecabun[7]+Nudecabun[9])/abun[1])+'\\t '+\"{:.3e}\".format((Nudecabun[6])/Nudecabun[1])+'\\t '+\"{:.3e}\".format((Nudecabun[9])/Nudecabun[1]))\n",
    "\n"
   ]
  },
  {
   "cell_type": "code",
   "execution_count": 53,
   "metadata": {},
   "outputs": [
    {
     "name": "stdout",
     "output_type": "stream",
     "text": [
      "Results from this code with early neutrino decoupling\n",
      "\t Yp  \t\t H2/H \t\t H3/H \t\t Li7/H \t\t Li6/H \t\t Be7/H \n",
      "value:\t 2.470e-01\t 2.534e-05\t 1.040e-05\t 4.706e-10\t 7.510e-15\t 4.405e-10\n"
     ]
    }
   ],
   "source": [
    "print('Results from this code with early neutrino decoupling')\n",
    "print('\\t Yp  '+'\\t\\t H2/H '+'\\t\\t H3/H '+'\\t\\t Li7/H '+'\\t\\t Li6/H '+'\\t\\t Be7/H ')\n",
    "\n",
    "print('value:\\t '\"{:.3e}\".format(4*abun10[5])+'\\t '+\"{:.3e}\".format(abun10[2]/abun10[1])+'\\t '+\"{:.3e}\".format((abun10[3]+abun10[4])/abun10[1])+'\\t '+\"{:.3e}\".format((abun10[7]+abun10[9])/abun10[1])+'\\t '+\"{:.3e}\".format((abun10[6])/abun10[1])+'\\t '+\"{:.3e}\".format((abun10[9])/abun10[1]))\n",
    "\n"
   ]
  },
  {
   "cell_type": "code",
   "execution_count": 54,
   "metadata": {},
   "outputs": [
    {
     "name": "stdout",
     "output_type": "stream",
     "text": [
      "Results from this code\n",
      "\t Yp  \t\t H2/H \t\t H3/H \t\t Li7/H \t\t Li6/H \t\t Be7/H \n",
      "value:\t 2.472e-01\t 2.536e-05\t 1.040e-05\t 4.706e-10\t 7.523e-15\t 4.404e-10\n"
     ]
    }
   ],
   "source": [
    "print('Results from this code')\n",
    "print('\\t Yp  '+'\\t\\t H2/H '+'\\t\\t H3/H '+'\\t\\t Li7/H '+'\\t\\t Li6/H '+'\\t\\t Be7/H ')\n",
    "\n",
    "print('value:\\t '\"{:.3e}\".format(4*abun[5])+'\\t '+\"{:.3e}\".format(abun[2]/abun[1])+'\\t '+\"{:.3e}\".format((abun[3]+abun[4])/abun[1])+'\\t '+\"{:.3e}\".format((abun[7]+abun[9])/abun[1])+'\\t '+\"{:.3e}\".format((abun[6])/abun[1])+'\\t '+\"{:.3e}\".format((abun[9])/abun[1]))\n",
    "\n"
   ]
  },
  {
   "cell_type": "code",
   "execution_count": 55,
   "metadata": {},
   "outputs": [
    {
     "name": "stdout",
     "output_type": "stream",
     "text": [
      "Results from this code\n",
      "\t Yp  \t\t H2/H \t\t H3/H \t\t Li7/H \t\t Li6/H \t\t Be7/H \n",
      "value:\t 2.472e-01\t 2.536e-05\t 1.040e-05\t 4.706e-10\t 7.523e-15\t 4.404e-10\n"
     ]
    }
   ],
   "source": [
    "print('Results from this code')\n",
    "print('\\t Yp  '+'\\t\\t H2/H '+'\\t\\t H3/H '+'\\t\\t Li7/H '+'\\t\\t Li6/H '+'\\t\\t Be7/H ')\n",
    "\n",
    "print('value:\\t '\"{:.3e}\".format(4*abun[5])+'\\t '+\"{:.3e}\".format(abun[2]/abun[1])+'\\t '+\"{:.3e}\".format((abun[3]+abun[4])/abun[1])+'\\t '+\"{:.3e}\".format((abun[7]+abun[9])/abun[1])+'\\t '+\"{:.3e}\".format((abun[6])/abun[1])+'\\t '+\"{:.3e}\".format((abun[9])/abun[1]))\n",
    "\n"
   ]
  },
  {
   "cell_type": "code",
   "execution_count": 56,
   "metadata": {},
   "outputs": [
    {
     "name": "stdout",
     "output_type": "stream",
     "text": [
      "Results from this code\n",
      "\t Yp  \t\t H2/H \t\t H3/H \t\t Li7/H \t\t Li6/H \t\t Be7/H \n",
      "value:\t 2.472e-01\t 2.536e-05\t 1.040e-05\t 4.706e-10\t 7.523e-15\t 4.404e-10\n"
     ]
    }
   ],
   "source": [
    "print('Results from this code')\n",
    "print('\\t Yp  '+'\\t\\t H2/H '+'\\t\\t H3/H '+'\\t\\t Li7/H '+'\\t\\t Li6/H '+'\\t\\t Be7/H ')\n",
    "\n",
    "print('value:\\t '\"{:.3e}\".format(4*abun[5])+'\\t '+\"{:.3e}\".format(abun[2]/abun[1])+'\\t '+\"{:.3e}\".format((abun[3]+abun[4])/abun[1])+'\\t '+\"{:.3e}\".format((abun[7]+abun[9])/abun[1])+'\\t '+\"{:.3e}\".format((abun[6])/abun[1])+'\\t '+\"{:.3e}\".format((abun[9])/abun[1]))\n",
    "\n"
   ]
  },
  {
   "cell_type": "code",
   "execution_count": 57,
   "metadata": {},
   "outputs": [
    {
     "name": "stdout",
     "output_type": "stream",
     "text": [
      "compare\n",
      "\t Yp  \t\t H2/H \t\t H3/H \t\t Li7/H \t\t Li6/H \t\t Be7/H \n",
      "value:\t 7.323e-04\t 1.541e-03\t 3.926e-04\t -1.546e-03\t 2.504e-03\t -1.793e-03\n"
     ]
    }
   ],
   "source": [
    "print('compare')\n",
    "print('\\t Yp  '+'\\t\\t H2/H '+'\\t\\t H3/H '+'\\t\\t Li7/H '+'\\t\\t Li6/H '+'\\t\\t Be7/H ')\n",
    "\n",
    "print('value:\\t '\"{:.3e}\".format(abun[5]/abun110[5]-1)+'\\t '+\"{:.3e}\".format(abun[2]/abun110[2]-1)+'\\t '+\"{:.3e}\".format((abun[3]+abun[4])/(abun110[3]+abun110[4])-1)+'\\t '+\"{:.3e}\".format((abun[7]+abun[9])/(abun110[7]+abun110[9])-1)+'\\t '+\"{:.3e}\".format((abun[6])/(abun110[6])-1)+'\\t '+\"{:.3e}\".format((abun[9])/abun110[9]-1))\n",
    "\n"
   ]
  },
  {
   "cell_type": "code",
   "execution_count": 58,
   "metadata": {},
   "outputs": [
    {
     "name": "stdout",
     "output_type": "stream",
     "text": [
      "value:\t -4.412e-04\t -3.626e-03\t -1.225e-03\t 4.455e-03\t -4.188e-03\t 4.979e-03\n"
     ]
    }
   ],
   "source": [
    "print('value:\\t '\"{:.3e}\".format(abun[5]/Alterabun[5]-1)+'\\t '+\"{:.3e}\".format(abun[2]/Alterabun[2]-1)+'\\t '+\"{:.3e}\".format((abun[3]+abun[4])/(Alterabun[3]+Alterabun[4])-1)+'\\t '+\"{:.3e}\".format((abun[7]+abun[9])/(Alterabun[7]+Alterabun[9])-1)+'\\t '+\"{:.3e}\".format((abun[6])/(Alterabun[6])-1)+'\\t '+\"{:.3e}\".format((abun[9])/Alterabun[9]-1))\n"
   ]
  },
  {
   "cell_type": "code",
   "execution_count": 59,
   "metadata": {},
   "outputs": [
    {
     "data": {
      "text/plain": [
       "array([ 0.67827393, -0.86177807, -0.92740703, -0.91203105, -0.78953674,\n",
       "       -0.90295594])"
      ]
     },
     "execution_count": 59,
     "metadata": {},
     "output_type": "execute_result"
    }
   ],
   "source": [
    "[4.967e-04\t, -1.328e-03,\t -3.641e-04\t, 1.410e-03,\t -1.977e-03,\t 1.619e-03]/np.array([7.323e-04\t, 1.541e-03\t, 3.926e-04\t ,-1.546e-03\t, 2.504e-03\t, -1.793e-03])"
   ]
  },
  {
   "cell_type": "code",
   "execution_count": 60,
   "metadata": {},
   "outputs": [
    {
     "name": "stdout",
     "output_type": "stream",
     "text": [
      "Results from this code with AlterBBN background and eta\n",
      "\t Yp  \t\t H2/H \t\t H3/H \t\t Li7/H \t\t Li6/H \t\t Be7/H \n",
      "value:\t 2.473e-01\t 2.546e-05\t 1.042e-05\t 4.685e-10\t 7.556e-15\t 4.383e-10\n"
     ]
    }
   ],
   "source": [
    "print('Results from this code with AlterBBN background and eta')\n",
    "print('\\t Yp  '+'\\t\\t H2/H '+'\\t\\t H3/H '+'\\t\\t Li7/H '+'\\t\\t Li6/H '+'\\t\\t Be7/H ')\n",
    "\n",
    "print('value:\\t '\"{:.3e}\".format(4*Alterabun[5])+'\\t '+\"{:.3e}\".format(Alterabun[2]/Alterabun[1])+'\\t '+\"{:.3e}\".format((Alterabun[3]+Alterabun[4])/Alterabun[1])+'\\t '+\"{:.3e}\".format((Alterabun[7]+Alterabun[9])/abun[1])+'\\t '+\"{:.3e}\".format((Alterabun[6])/Alterabun[1])+'\\t '+\"{:.3e}\".format((Alterabun[9])/Alterabun[1]))\n",
    "\n",
    "#2.473e-01\t 2.540e-05\t 1.041e-05\t 4.699e-10\t 7.539e-15\t 4.398e-10"
   ]
  },
  {
   "cell_type": "code",
   "execution_count": 61,
   "metadata": {},
   "outputs": [
    {
     "name": "stdout",
     "output_type": "stream",
     "text": [
      "Results from this code with AlterBBN background and eta\n",
      "\t Yp  \t\t H2/H \t\t H3/H \t\t Li7/H \t\t Li6/H \t\t Be7/H \n",
      "value:\t 2.473e-01\t 2.546e-05\t 1.042e-05\t 4.685e-10\t 7.556e-15\t 4.383e-10\n"
     ]
    }
   ],
   "source": [
    "print('Results from this code with AlterBBN background and eta')\n",
    "print('\\t Yp  '+'\\t\\t H2/H '+'\\t\\t H3/H '+'\\t\\t Li7/H '+'\\t\\t Li6/H '+'\\t\\t Be7/H ')\n",
    "\n",
    "print('value:\\t '\"{:.3e}\".format(4*Alterabun[5])+'\\t '+\"{:.3e}\".format(Alterabun[2]/Alterabun[1])+'\\t '+\"{:.3e}\".format((Alterabun[3]+Alterabun[4])/Alterabun[1])+'\\t '+\"{:.3e}\".format((Alterabun[7]+Alterabun[9])/abun[1])+'\\t '+\"{:.3e}\".format((Alterabun[6])/Alterabun[1])+'\\t '+\"{:.3e}\".format((Alterabun[9])/Alterabun[1]))\n",
    "\n"
   ]
  },
  {
   "cell_type": "code",
   "execution_count": 62,
   "metadata": {},
   "outputs": [
    {
     "ename": "NameError",
     "evalue": "name 'dataabun' is not defined",
     "output_type": "error",
     "traceback": [
      "\u001b[0;31m---------------------------------------------------------------------------\u001b[0m",
      "\u001b[0;31mNameError\u001b[0m                                 Traceback (most recent call last)",
      "Cell \u001b[0;32mIn[62], line 1\u001b[0m\n\u001b[0;32m----> 1\u001b[0m m_Nucs[\u001b[38;5;241m5\u001b[39m]\u001b[38;5;241m/\u001b[39m\u001b[38;5;28msum\u001b[39m(m_Nucs\u001b[38;5;241m*\u001b[39m\u001b[43mdataabun\u001b[49m)\u001b[38;5;241m*\u001b[39mdataabun[\u001b[38;5;241m5\u001b[39m]\n",
      "\u001b[0;31mNameError\u001b[0m: name 'dataabun' is not defined"
     ]
    }
   ],
   "source": [
    "m_Nucs[5]/sum(m_Nucs*dataabun)*dataabun[5]"
   ]
  },
  {
   "cell_type": "code",
   "execution_count": null,
   "metadata": {},
   "outputs": [
    {
     "data": {
      "text/plain": [
       "0.24737376465942745"
      ]
     },
     "execution_count": 146,
     "metadata": {},
     "output_type": "execute_result"
    }
   ],
   "source": [
    "4*dataabun[5]"
   ]
  },
  {
   "cell_type": "code",
   "execution_count": null,
   "metadata": {},
   "outputs": [
    {
     "data": {
      "text/plain": [
       "0.2466236263932134"
      ]
     },
     "execution_count": 148,
     "metadata": {},
     "output_type": "execute_result"
    },
    {
     "ename": "",
     "evalue": "",
     "output_type": "error",
     "traceback": [
      "\u001b[1;31mThe Kernel crashed while executing code in the current cell or a previous cell. \n",
      "\u001b[1;31mPlease review the code in the cell(s) to identify a possible cause of the failure. \n",
      "\u001b[1;31mClick <a href='https://aka.ms/vscodeJupyterKernelCrash'>here</a> for more info. \n",
      "\u001b[1;31mView Jupyter <a href='command:jupyter.viewOutput'>log</a> for further details."
     ]
    }
   ],
   "source": [
    "0.2453*4/(m_Nucs[5]/sum(m_Nucs*dataabun))"
   ]
  },
  {
   "cell_type": "code",
   "execution_count": null,
   "metadata": {},
   "outputs": [
    {
     "data": {
      "text/plain": [
       "1.0000000000020417"
      ]
     },
     "execution_count": 139,
     "metadata": {},
     "output_type": "execute_result"
    }
   ],
   "source": [
    "sum(A*abun)"
   ]
  },
  {
   "cell_type": "code",
   "execution_count": null,
   "metadata": {},
   "outputs": [
    {
     "data": {
      "text/plain": [
       "1.0000000000020823"
      ]
     },
     "execution_count": 140,
     "metadata": {},
     "output_type": "execute_result"
    }
   ],
   "source": [
    "sum(A*dataabun)"
   ]
  },
  {
   "cell_type": "code",
   "execution_count": null,
   "metadata": {},
   "outputs": [
    {
     "name": "stdout",
     "output_type": "stream",
     "text": [
      " \n",
      "High precision Alterbbn results\n",
      "\t Yp  \t\t H2/H \t\t H3/H \t\t Li7/H \t\t Li6/H \t\t Be7/H \n",
      "value:\t 2.474e-01\t 2.467e-05\t 1.034e-05\t 5.363e-10\t 1.087e-14\t 5.075e-10\n"
     ]
    }
   ],
   "source": [
    "print(' ')\n",
    "print('High precision Alterbbn results')\n",
    "print('\\t Yp  '+'\\t\\t H2/H '+'\\t\\t H3/H '+'\\t\\t Li7/H '+'\\t\\t Li6/H '+'\\t\\t Be7/H ')\n",
    "dataabun=data[-1,3:]\n",
    "print('value:\\t '\"{:.3e}\".format(4*dataabun[5])+'\\t '+\"{:.3e}\".format(dataabun[2]/dataabun[1])+'\\t '+\"{:.3e}\".format((dataabun[3]+dataabun[4])/dataabun[1])+'\\t '+\"{:.3e}\".format((dataabun[7]+dataabun[9])/dataabun[1])+'\\t '+\"{:.3e}\".format((dataabun[6])/dataabun[1])+'\\t '+\"{:.3e}\".format((dataabun[9])/dataabun[1]))\n"
   ]
  },
  {
   "cell_type": "code",
   "execution_count": null,
   "metadata": {},
   "outputs": [
    {
     "ename": "NameError",
     "evalue": "name 'savedabun' is not defined",
     "output_type": "error",
     "traceback": [
      "\u001b[0;31m---------------------------------------------------------------------------\u001b[0m",
      "\u001b[0;31mNameError\u001b[0m                                 Traceback (most recent call last)",
      "Cell \u001b[0;32mIn[127], line 1\u001b[0m\n\u001b[0;32m----> 1\u001b[0m (np\u001b[38;5;241m.\u001b[39marray(\u001b[43msavedabun\u001b[49m)\u001b[38;5;241m-\u001b[39mAlterabun)\u001b[38;5;241m/\u001b[39mAlterabun\n",
      "\u001b[0;31mNameError\u001b[0m: name 'savedabun' is not defined"
     ]
    }
   ],
   "source": [
    "(np.array(savedabun)-Alterabun)/Alterabun"
   ]
  },
  {
   "cell_type": "code",
   "execution_count": null,
   "metadata": {},
   "outputs": [
    {
     "name": "stdout",
     "output_type": "stream",
     "text": [
      "compare\n",
      "\t Yp  \t\t H2/H \t\t H3/H \t\t Li7/H \t\t Li6/H \t\t Be7/H \n",
      "value:\t -6.648e-04\t 2.840e-02\t 6.189e-03\t -1.225e-01\t -3.080e-01\t -1.319e-01\n"
     ]
    }
   ],
   "source": [
    "print('compare')\n",
    "print('\\t Yp  '+'\\t\\t H2/H '+'\\t\\t H3/H '+'\\t\\t Li7/H '+'\\t\\t Li6/H '+'\\t\\t Be7/H ')\n",
    "\n",
    "print('value:\\t '\"{:.3e}\".format(abun[5]/dataabun[5]-1)+'\\t '+\"{:.3e}\".format(abun[2]/dataabun[2]-1)+'\\t '+\"{:.3e}\".format((abun[3]+abun[4])/(dataabun[3]+dataabun[4])-1)+'\\t '+\"{:.3e}\".format((abun[7]+abun[9])/(dataabun[7]+dataabun[9])-1)+'\\t '+\"{:.3e}\".format((abun[6])/(dataabun[6])-1)+'\\t '+\"{:.3e}\".format((abun[9])/dataabun[9]-1))\n"
   ]
  },
  {
   "cell_type": "code",
   "execution_count": null,
   "metadata": {},
   "outputs": [
    {
     "name": "stdout",
     "output_type": "stream",
     "text": [
      "6.099983449689515e-10\n"
     ]
    }
   ],
   "source": [
    "print(n_b_ini/((1.20206*2/np.pi**2*T_cache(t_range[1])**3)*a_cache(t_range[1])**3))\n"
   ]
  },
  {
   "cell_type": "code",
   "execution_count": null,
   "metadata": {},
   "outputs": [
    {
     "data": {
      "text/plain": [
       "6.099983449689515e-10"
      ]
     },
     "execution_count": 144,
     "metadata": {},
     "output_type": "execute_result"
    }
   ],
   "source": [
    "n_b_ini/((1.20206*2/np.pi**2*T_cache(t_range[1])**3)*a_cache(t_range[1])**3)"
   ]
  },
  {
   "cell_type": "code",
   "execution_count": null,
   "metadata": {},
   "outputs": [],
   "source": [
    "Altern_b_ini=n_b_ini/(T_cache(t_max)*a_cache(t_max))**3*(AlterT_cache(t_max)*Altera_cache(t_max))**3"
   ]
  },
  {
   "cell_type": "code",
   "execution_count": null,
   "metadata": {},
   "outputs": [
    {
     "name": "stdout",
     "output_type": "stream",
     "text": [
      "6.099983449689514e-10\n"
     ]
    }
   ],
   "source": [
    "print(Altern_b_ini/((1.20206*2/np.pi**2*AlterT_cache(t_range[1])**3)*Altera_cache(t_range[1])**3))\n"
   ]
  },
  {
   "cell_type": "code",
   "execution_count": null,
   "metadata": {},
   "outputs": [],
   "source": [
    "nival=[-10.22, 61.24,-340.33, 1057.27,-2045.58, 2605.91,-2266.15, 1374.26,\n",
    "-586.06, 174.87532902234145,-35.72, 4.75,-0.37, 0.013]"
   ]
  },
  {
   "cell_type": "code",
   "execution_count": null,
   "metadata": {},
   "outputs": [],
   "source": [
    "def NT(T):\n",
    "    if e_mass/T<4:\n",
    "        return sum([nival[i]*(e_mass/T)**(i+1) for i in range(13)])\n",
    "    return 0"
   ]
  },
  {
   "cell_type": "code",
   "execution_count": null,
   "metadata": {},
   "outputs": [
    {
     "data": {
      "image/png": "[encoded data removed]",
      "text/plain": [
       "<Figure size 640x480 with 1 Axes>"
      ]
     },
     "metadata": {},
     "output_type": "display_data"
    }
   ],
   "source": [
    "\n",
    "Tests2=np.geomspace(0.1,1,100)\n",
    "plt.plot(Tests2,[NT(T) for T in Tests2])\n",
    "plt.xscale('log')"
   ]
  },
  {
   "cell_type": "code",
   "execution_count": null,
   "metadata": {},
   "outputs": [
    {
     "data": {
      "image/png": "[encoded data removed]",
      "text/plain": [
       "<Figure size 640x480 with 1 Axes>"
      ]
     },
     "metadata": {},
     "output_type": "display_data"
    }
   ],
   "source": [
    "\n",
    "Tests2=np.geomspace(0.1,1,100)\n",
    "plt.plot(Tests2,[rho_gamma(T) for T in Tests2])\n",
    "plt.xscale('log')"
   ]
  },
  {
   "cell_type": "code",
   "execution_count": null,
   "metadata": {},
   "outputs": [
    {
     "data": {
      "text/plain": [
       "0.8187307530779818"
      ]
     },
     "execution_count": 151,
     "metadata": {},
     "output_type": "execute_result"
    }
   ],
   "source": [
    "np.exp(-0.2)"
   ]
  },
  {
   "cell_type": "code",
   "execution_count": null,
   "metadata": {},
   "outputs": [
    {
     "data": {
      "text/plain": [
       "(10, 0.03)"
      ]
     },
     "execution_count": 152,
     "metadata": {},
     "output_type": "execute_result"
    },
    {
     "data": {
      "image/png": "[encoded data removed]",
      "text/plain": [
       "<Figure size 640x480 with 1 Axes>"
      ]
     },
     "metadata": {},
     "output_type": "display_data"
    }
   ],
   "source": [
    "def testf(T):\n",
    "    return 0.0075/(1+0.8*T**2)\n",
    "\n",
    "Tests2=np.geomspace(10,0.01,100)\n",
    "\n",
    "plt.plot(Tests2,[testf(T) for T in Tests2])\n",
    "plt.xscale('log')\n",
    "plt.xlim(10,0.03)"
   ]
  },
  {
   "cell_type": "code",
   "execution_count": null,
   "metadata": {},
   "outputs": [
    {
     "data": {
      "text/plain": [
       "(10, 0.03)"
      ]
     },
     "execution_count": 153,
     "metadata": {},
     "output_type": "execute_result"
    },
    {
     "data": {
      "image/png": "[encoded data removed]",
      "text/plain": [
       "<Figure size 640x480 with 1 Axes>"
      ]
     },
     "metadata": {},
     "output_type": "display_data"
    }
   ],
   "source": [
    "def testf(T):\n",
    "    return 1/(1+np.exp(-2*(1-T)))\n",
    "\n",
    "Tests2=np.geomspace(10,0.01,100)\n",
    "plt.plot(Tests2,[testf(T) for T in Tests2])\n",
    "plt.xscale('log')\n",
    "plt.xlim(10,0.03)"
   ]
  }
 ],
 "metadata": {
  "kernelspec": {
   "display_name": "Python 3",
   "language": "python",
   "name": "python3"
  },
  "language_info": {
   "codemirror_mode": {
    "name": "ipython",
    "version": 3
   },
   "file_extension": ".py",
   "mimetype": "text/x-python",
   "name": "python",
   "nbconvert_exporter": "python",
   "pygments_lexer": "ipython3",
   "version": "3.10.6"
  }
 },
 "nbformat": 4,
 "nbformat_minor": 2
}
